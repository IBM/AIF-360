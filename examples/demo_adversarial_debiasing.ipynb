{
 "cells": [
  {
   "cell_type": "markdown",
   "metadata": {},
   "source": [
    "#### This notebook demonstrates the use of adversarial debiasing algorithm to learn a fair classifier.\n",
    "Adversarial debiasing [1] is an in-processing technique that learns a classifier to maximize prediction accuracy and simultaneously reduce an adversary's ability to determine the protected attribute from the predictions. This approach leads to a fair classifier as the predictions cannot carry any group discrimination information that the adversary can exploit. We will see how to use this algorithm for learning models with and without fairness constraints and apply them on the Adult dataset."
   ]
  },
  {
   "cell_type": "code",
   "execution_count": 2,
   "metadata": {},
   "outputs": [],
   "source": [
    "%matplotlib inline\n",
    "# Load all necessary packages\n",
    "import sys\n",
    "sys.path.append(\"../\")\n",
    "from aif360.datasets import BinaryLabelDataset\n",
    "from aif360.datasets import AdultDataset, GermanDataset, CompasDataset\n",
    "from aif360.metrics import BinaryLabelDatasetMetric\n",
    "from aif360.metrics import ClassificationMetric\n",
    "from aif360.metrics.utils import compute_boolean_conditioning_vector\n",
    "\n",
    "from aif360.algorithms.preprocessing.optim_preproc_helpers.data_preproc_functions import load_preproc_data_adult, load_preproc_data_compas, load_preproc_data_german\n",
    "\n",
    "from aif360.algorithms.inprocessing.adversarial_debiasing import AdversarialDebiasing\n",
    "\n",
    "from sklearn.linear_model import LogisticRegression\n",
    "from sklearn.preprocessing import StandardScaler, MaxAbsScaler\n",
    "from sklearn.metrics import accuracy_score\n",
    "\n",
    "from IPython.display import Markdown, display\n",
    "import matplotlib.pyplot as plt\n",
    "\n",
    "import random\n",
    "random.seed(0)\n",
    "import numpy as np\n",
    "np.random.seed(0)\n",
    "import tensorflow as tf\n",
    "tf.random.set_seed(0)"
   ]
  },
  {
   "cell_type": "markdown",
   "metadata": {},
   "source": [
    "#### Load dataset and set options"
   ]
  },
  {
   "cell_type": "code",
   "execution_count": 3,
   "metadata": {},
   "outputs": [],
   "source": [
    "# Get the dataset and split into train and test\n",
    "dataset_orig = load_preproc_data_adult()\n",
    "\n",
    "privileged_groups = [{'sex': 1}]\n",
    "unprivileged_groups = [{'sex': 0}]\n",
    "\n",
    "dataset_orig_train, dataset_orig_test = dataset_orig.split([0.7], shuffle=True)"
   ]
  },
  {
   "cell_type": "code",
   "execution_count": 4,
   "metadata": {},
   "outputs": [
    {
     "data": {
      "text/markdown": [
       "#### Training Dataset shape"
      ],
      "text/plain": [
       "<IPython.core.display.Markdown object>"
      ]
     },
     "metadata": {},
     "output_type": "display_data"
    },
    {
     "name": "stdout",
     "output_type": "stream",
     "text": [
      "(34189, 18)\n"
     ]
    },
    {
     "data": {
      "text/markdown": [
       "#### Favorable and unfavorable labels"
      ],
      "text/plain": [
       "<IPython.core.display.Markdown object>"
      ]
     },
     "metadata": {},
     "output_type": "display_data"
    },
    {
     "name": "stdout",
     "output_type": "stream",
     "text": [
      "1.0 0.0\n"
     ]
    },
    {
     "data": {
      "text/markdown": [
       "#### Protected attribute names"
      ],
      "text/plain": [
       "<IPython.core.display.Markdown object>"
      ]
     },
     "metadata": {},
     "output_type": "display_data"
    },
    {
     "name": "stdout",
     "output_type": "stream",
     "text": [
      "['sex', 'race']\n"
     ]
    },
    {
     "data": {
      "text/markdown": [
       "#### Privileged and unprivileged protected attribute values"
      ],
      "text/plain": [
       "<IPython.core.display.Markdown object>"
      ]
     },
     "metadata": {},
     "output_type": "display_data"
    },
    {
     "name": "stdout",
     "output_type": "stream",
     "text": [
      "[array([1.]), array([1.])] [array([0.]), array([0.])]\n"
     ]
    },
    {
     "data": {
      "text/markdown": [
       "#### Dataset feature names"
      ],
      "text/plain": [
       "<IPython.core.display.Markdown object>"
      ]
     },
     "metadata": {},
     "output_type": "display_data"
    },
    {
     "name": "stdout",
     "output_type": "stream",
     "text": [
      "['race', 'sex', 'Age (decade)=10', 'Age (decade)=20', 'Age (decade)=30', 'Age (decade)=40', 'Age (decade)=50', 'Age (decade)=60', 'Age (decade)=>=70', 'Education Years=6', 'Education Years=7', 'Education Years=8', 'Education Years=9', 'Education Years=10', 'Education Years=11', 'Education Years=12', 'Education Years=<6', 'Education Years=>12']\n"
     ]
    }
   ],
   "source": [
    "# print out some labels, names, etc.\n",
    "display(Markdown(\"#### Training Dataset shape\"))\n",
    "print(dataset_orig_train.features.shape)\n",
    "display(Markdown(\"#### Favorable and unfavorable labels\"))\n",
    "print(dataset_orig_train.favorable_label, dataset_orig_train.unfavorable_label)\n",
    "display(Markdown(\"#### Protected attribute names\"))\n",
    "print(dataset_orig_train.protected_attribute_names)\n",
    "display(Markdown(\"#### Privileged and unprivileged protected attribute values\"))\n",
    "print(dataset_orig_train.privileged_protected_attributes, \n",
    "      dataset_orig_train.unprivileged_protected_attributes)\n",
    "display(Markdown(\"#### Dataset feature names\"))\n",
    "print(dataset_orig_train.feature_names)"
   ]
  },
  {
   "cell_type": "markdown",
   "metadata": {},
   "source": [
    "#### Metric for original training data"
   ]
  },
  {
   "cell_type": "code",
   "execution_count": 5,
   "metadata": {},
   "outputs": [
    {
     "data": {
      "text/markdown": [
       "#### Original training dataset"
      ],
      "text/plain": [
       "<IPython.core.display.Markdown object>"
      ]
     },
     "metadata": {},
     "output_type": "display_data"
    },
    {
     "name": "stdout",
     "output_type": "stream",
     "text": [
      "Train set: Difference in mean outcomes between unprivileged and privileged groups = -0.193075\n",
      "Test set: Difference in mean outcomes between unprivileged and privileged groups = -0.198048\n"
     ]
    }
   ],
   "source": [
    "# Metric for the original dataset\n",
    "metric_orig_train = BinaryLabelDatasetMetric(dataset_orig_train, \n",
    "                                             unprivileged_groups=unprivileged_groups,\n",
    "                                             privileged_groups=privileged_groups)\n",
    "display(Markdown(\"#### Original training dataset\"))\n",
    "print(\"Train set: Difference in mean outcomes between unprivileged and privileged groups = %f\" % metric_orig_train.mean_difference())\n",
    "metric_orig_test = BinaryLabelDatasetMetric(dataset_orig_test, \n",
    "                                             unprivileged_groups=unprivileged_groups,\n",
    "                                             privileged_groups=privileged_groups)\n",
    "print(\"Test set: Difference in mean outcomes between unprivileged and privileged groups = %f\" % metric_orig_test.mean_difference())"
   ]
  },
  {
   "cell_type": "code",
   "execution_count": 6,
   "metadata": {},
   "outputs": [
    {
     "data": {
      "text/markdown": [
       "#### Scaled dataset - Verify that the scaling does not affect the group label statistics"
      ],
      "text/plain": [
       "<IPython.core.display.Markdown object>"
      ]
     },
     "metadata": {},
     "output_type": "display_data"
    },
    {
     "name": "stdout",
     "output_type": "stream",
     "text": [
      "Train set: Difference in mean outcomes between unprivileged and privileged groups = -0.193075\n",
      "Test set: Difference in mean outcomes between unprivileged and privileged groups = -0.198048\n"
     ]
    }
   ],
   "source": [
    "min_max_scaler = MaxAbsScaler()\n",
    "dataset_orig_train.features = min_max_scaler.fit_transform(dataset_orig_train.features)\n",
    "dataset_orig_test.features = min_max_scaler.transform(dataset_orig_test.features)\n",
    "metric_scaled_train = BinaryLabelDatasetMetric(dataset_orig_train, \n",
    "                             unprivileged_groups=unprivileged_groups,\n",
    "                             privileged_groups=privileged_groups)\n",
    "display(Markdown(\"#### Scaled dataset - Verify that the scaling does not affect the group label statistics\"))\n",
    "print(\"Train set: Difference in mean outcomes between unprivileged and privileged groups = %f\" % metric_scaled_train.mean_difference())\n",
    "metric_scaled_test = BinaryLabelDatasetMetric(dataset_orig_test, \n",
    "                             unprivileged_groups=unprivileged_groups,\n",
    "                             privileged_groups=privileged_groups)\n",
    "print(\"Test set: Difference in mean outcomes between unprivileged and privileged groups = %f\" % metric_scaled_test.mean_difference())\n"
   ]
  },
  {
   "cell_type": "markdown",
   "metadata": {},
   "source": [
    "### Learn plan classifier without debiasing"
   ]
  },
  {
   "cell_type": "code",
   "execution_count": 7,
   "metadata": {},
   "outputs": [],
   "source": [
    "# Load In-processing algorithm that equalizes the odds\n",
    "# Learn parameters with debias set to False\n",
    "plain_model = AdversarialDebiasing(privileged_groups = privileged_groups,\n",
    "                          unprivileged_groups = unprivileged_groups,\n",
    "                          scope_name='plain_classifier',\n",
    "                          debias=False)"
   ]
  },
  {
   "cell_type": "code",
   "execution_count": 8,
   "metadata": {
    "scrolled": true
   },
   "outputs": [
    {
     "name": "stdout",
     "output_type": "stream",
     "text": [
      "(Training Classifier) epoch 0; iter: 0; batch classifier loss: 109.656265\n",
      "(Training Classifier) epoch 1; iter: 0; batch classifier loss: 52.883247\n",
      "(Training Classifier) epoch 2; iter: 0; batch classifier loss: 9.392132\n",
      "(Training Classifier) epoch 3; iter: 0; batch classifier loss: 1.405632\n",
      "(Training Classifier) epoch 4; iter: 0; batch classifier loss: 0.844539\n",
      "(Training Classifier) epoch 5; iter: 0; batch classifier loss: 1.024201\n",
      "(Training Classifier) epoch 6; iter: 0; batch classifier loss: 0.917148\n",
      "(Training Classifier) epoch 7; iter: 0; batch classifier loss: 0.830103\n",
      "(Training Classifier) epoch 8; iter: 0; batch classifier loss: 0.811289\n",
      "(Training Classifier) epoch 9; iter: 0; batch classifier loss: 0.870383\n",
      "(Training Classifier) epoch 10; iter: 0; batch classifier loss: 0.828617\n",
      "(Training Classifier) epoch 11; iter: 0; batch classifier loss: 0.989030\n",
      "(Training Classifier) epoch 12; iter: 0; batch classifier loss: 0.831279\n",
      "(Training Classifier) epoch 13; iter: 0; batch classifier loss: 0.912566\n",
      "(Training Classifier) epoch 14; iter: 0; batch classifier loss: 0.727873\n",
      "(Training Classifier) epoch 15; iter: 0; batch classifier loss: 0.665299\n",
      "(Training Classifier) epoch 16; iter: 0; batch classifier loss: 0.678984\n",
      "(Training Classifier) epoch 17; iter: 0; batch classifier loss: 0.743098\n",
      "(Training Classifier) epoch 18; iter: 0; batch classifier loss: 0.675659\n",
      "(Training Classifier) epoch 19; iter: 0; batch classifier loss: 0.679956\n",
      "(Training Classifier) epoch 20; iter: 0; batch classifier loss: 0.641117\n",
      "(Training Classifier) epoch 21; iter: 0; batch classifier loss: 0.602480\n",
      "(Training Classifier) epoch 22; iter: 0; batch classifier loss: 0.598221\n",
      "(Training Classifier) epoch 23; iter: 0; batch classifier loss: 0.529550\n",
      "(Training Classifier) epoch 24; iter: 0; batch classifier loss: 0.593334\n",
      "(Training Classifier) epoch 25; iter: 0; batch classifier loss: 0.559927\n",
      "(Training Classifier) epoch 26; iter: 0; batch classifier loss: 0.533855\n",
      "(Training Classifier) epoch 27; iter: 0; batch classifier loss: 0.545693\n",
      "(Training Classifier) epoch 28; iter: 0; batch classifier loss: 0.486505\n",
      "(Training Classifier) epoch 29; iter: 0; batch classifier loss: 0.516030\n",
      "(Training Classifier) epoch 30; iter: 0; batch classifier loss: 0.483858\n",
      "(Training Classifier) epoch 31; iter: 0; batch classifier loss: 0.496386\n",
      "(Training Classifier) epoch 32; iter: 0; batch classifier loss: 0.482259\n",
      "(Training Classifier) epoch 33; iter: 0; batch classifier loss: 0.469321\n",
      "(Training Classifier) epoch 34; iter: 0; batch classifier loss: 0.470638\n",
      "(Training Classifier) epoch 35; iter: 0; batch classifier loss: 0.462706\n",
      "(Training Classifier) epoch 36; iter: 0; batch classifier loss: 0.482984\n",
      "(Training Classifier) epoch 37; iter: 0; batch classifier loss: 0.481560\n",
      "(Training Classifier) epoch 38; iter: 0; batch classifier loss: 0.462206\n",
      "(Training Classifier) epoch 39; iter: 0; batch classifier loss: 0.475994\n",
      "(Training Classifier) epoch 40; iter: 0; batch classifier loss: 0.443961\n",
      "(Training Classifier) epoch 41; iter: 0; batch classifier loss: 0.462193\n",
      "(Training Classifier) epoch 42; iter: 0; batch classifier loss: 0.467654\n",
      "(Training Classifier) epoch 43; iter: 0; batch classifier loss: 0.460850\n",
      "(Training Classifier) epoch 44; iter: 0; batch classifier loss: 0.461213\n",
      "(Training Classifier) epoch 45; iter: 0; batch classifier loss: 0.450668\n",
      "(Training Classifier) epoch 46; iter: 0; batch classifier loss: 0.442550\n",
      "(Training Classifier) epoch 47; iter: 0; batch classifier loss: 0.455467\n",
      "(Training Classifier) epoch 48; iter: 0; batch classifier loss: 0.442230\n",
      "(Training Classifier) epoch 49; iter: 0; batch classifier loss: 0.456503\n"
     ]
    },
    {
     "data": {
      "text/plain": [
       "<aif360.algorithms.inprocessing.adversarial_debiasing.AdversarialDebiasing at 0x18c84bf1908>"
      ]
     },
     "execution_count": 8,
     "metadata": {},
     "output_type": "execute_result"
    }
   ],
   "source": [
    "plain_model.fit(dataset_orig_train)"
   ]
  },
  {
   "cell_type": "code",
   "execution_count": 9,
   "metadata": {},
   "outputs": [],
   "source": [
    "# Apply the plain model to test data\n",
    "dataset_nodebiasing_train = plain_model.predict(dataset_orig_train)\n",
    "dataset_nodebiasing_test = plain_model.predict(dataset_orig_test)"
   ]
  },
  {
   "cell_type": "code",
   "execution_count": 10,
   "metadata": {},
   "outputs": [
    {
     "data": {
      "text/markdown": [
       "#### Plain model - without debiasing - dataset metrics"
      ],
      "text/plain": [
       "<IPython.core.display.Markdown object>"
      ]
     },
     "metadata": {},
     "output_type": "display_data"
    },
    {
     "name": "stdout",
     "output_type": "stream",
     "text": [
      "Train set: Difference in mean outcomes between unprivileged and privileged groups = -0.246488\n",
      "Test set: Difference in mean outcomes between unprivileged and privileged groups = -0.237994\n"
     ]
    },
    {
     "data": {
      "text/markdown": [
       "#### Plain model - without debiasing - classification metrics"
      ],
      "text/plain": [
       "<IPython.core.display.Markdown object>"
      ]
     },
     "metadata": {},
     "output_type": "display_data"
    },
    {
     "name": "stdout",
     "output_type": "stream",
     "text": [
      "Test set: Classification accuracy = 0.804613\n",
      "Test set: Balanced classification accuracy = 0.673789\n",
      "Test set: Disparate impact = 0.000000\n",
      "Test set: Equal opportunity difference = -0.496296\n",
      "Test set: Average odds difference = -0.311554\n",
      "Test set: Theil_index = 0.168584\n"
     ]
    }
   ],
   "source": [
    "# Metrics for the dataset from plain model (without debiasing)\n",
    "display(Markdown(\"#### Plain model - without debiasing - dataset metrics\"))\n",
    "metric_dataset_nodebiasing_train = BinaryLabelDatasetMetric(dataset_nodebiasing_train, \n",
    "                                             unprivileged_groups=unprivileged_groups,\n",
    "                                             privileged_groups=privileged_groups)\n",
    "\n",
    "print(\"Train set: Difference in mean outcomes between unprivileged and privileged groups = %f\" % metric_dataset_nodebiasing_train.mean_difference())\n",
    "\n",
    "metric_dataset_nodebiasing_test = BinaryLabelDatasetMetric(dataset_nodebiasing_test, \n",
    "                                             unprivileged_groups=unprivileged_groups,\n",
    "                                             privileged_groups=privileged_groups)\n",
    "\n",
    "print(\"Test set: Difference in mean outcomes between unprivileged and privileged groups = %f\" % metric_dataset_nodebiasing_test.mean_difference())\n",
    "\n",
    "display(Markdown(\"#### Plain model - without debiasing - classification metrics\"))\n",
    "classified_metric_nodebiasing_test = ClassificationMetric(dataset_orig_test, \n",
    "                                                 dataset_nodebiasing_test,\n",
    "                                                 unprivileged_groups=unprivileged_groups,\n",
    "                                                 privileged_groups=privileged_groups)\n",
    "print(\"Test set: Classification accuracy = %f\" % classified_metric_nodebiasing_test.accuracy())\n",
    "TPR = classified_metric_nodebiasing_test.true_positive_rate()\n",
    "TNR = classified_metric_nodebiasing_test.true_negative_rate()\n",
    "bal_acc_nodebiasing_test = 0.5*(TPR+TNR)\n",
    "print(\"Test set: Balanced classification accuracy = %f\" % bal_acc_nodebiasing_test)\n",
    "print(\"Test set: Disparate impact = %f\" % classified_metric_nodebiasing_test.disparate_impact())\n",
    "print(\"Test set: Equal opportunity difference = %f\" % classified_metric_nodebiasing_test.equal_opportunity_difference())\n",
    "print(\"Test set: Average odds difference = %f\" % classified_metric_nodebiasing_test.average_odds_difference())\n",
    "print(\"Test set: Theil_index = %f\" % classified_metric_nodebiasing_test.theil_index())"
   ]
  },
  {
   "cell_type": "markdown",
   "metadata": {},
   "source": [
    "### Apply in-processing algorithm based on adversarial learning\n"
   ]
  },
  {
   "cell_type": "code",
   "execution_count": 11,
   "metadata": {
    "pycharm": {
     "name": "#%%\n"
    }
   },
   "outputs": [],
   "source": [
    "# Learn parameters with debias set to True\n",
    "debiased_model = AdversarialDebiasing(privileged_groups = privileged_groups,\n",
    "                          unprivileged_groups = unprivileged_groups,\n",
    "                          scope_name='debiased_classifier',\n",
    "                          debias=True)"
   ]
  },
  {
   "cell_type": "code",
   "execution_count": 12,
   "metadata": {
    "scrolled": true
   },
   "outputs": [
    {
     "name": "stdout",
     "output_type": "stream",
     "text": [
      "(Pretraining Classifier) epoch 0; iter: 0; batch classifier loss: 120.298851\n",
      "(Pretraining Classifier) epoch 1; iter: 0; batch classifier loss: 60.265373\n",
      "(Pretraining Classifier) epoch 2; iter: 0; batch classifier loss: 15.764555\n",
      "(Pretraining Classifier) epoch 3; iter: 0; batch classifier loss: 1.032578\n",
      "(Pretraining Classifier) epoch 4; iter: 0; batch classifier loss: 1.045455\n",
      "(Pretraining Classifier) epoch 5; iter: 0; batch classifier loss: 1.106301\n",
      "(Pretraining Classifier) epoch 6; iter: 0; batch classifier loss: 0.875834\n",
      "(Pretraining Classifier) epoch 7; iter: 0; batch classifier loss: 0.845209\n",
      "(Pretraining Classifier) epoch 8; iter: 0; batch classifier loss: 0.923337\n",
      "(Pretraining Classifier) epoch 9; iter: 0; batch classifier loss: 0.845303\n",
      "(Pretraining Classifier) epoch 10; iter: 0; batch classifier loss: 0.870562\n",
      "(Pretraining Classifier) epoch 11; iter: 0; batch classifier loss: 0.741328\n",
      "(Pretraining Classifier) epoch 12; iter: 0; batch classifier loss: 0.749112\n",
      "(Pretraining Classifier) epoch 13; iter: 0; batch classifier loss: 0.926932\n",
      "(Pretraining Classifier) epoch 14; iter: 0; batch classifier loss: 0.771927\n",
      "(Pretraining Classifier) epoch 15; iter: 0; batch classifier loss: 0.756930\n",
      "(Pretraining Classifier) epoch 16; iter: 0; batch classifier loss: 0.670522\n",
      "(Pretraining Classifier) epoch 17; iter: 0; batch classifier loss: 0.699983\n",
      "(Pretraining Classifier) epoch 18; iter: 0; batch classifier loss: 0.677119\n",
      "(Pretraining Classifier) epoch 19; iter: 0; batch classifier loss: 0.690153\n",
      "(Pretraining Classifier) epoch 20; iter: 0; batch classifier loss: 0.570587\n",
      "(Pretraining Classifier) epoch 21; iter: 0; batch classifier loss: 0.555670\n",
      "(Pretraining Classifier) epoch 22; iter: 0; batch classifier loss: 0.571251\n",
      "(Pretraining Classifier) epoch 23; iter: 0; batch classifier loss: 0.579198\n",
      "(Pretraining Classifier) epoch 24; iter: 0; batch classifier loss: 0.562558\n",
      "(Pretraining Adversarial Net) epoch 0; iter: 0; batch classifier loss: 0.566390\n",
      "(Pretraining Adversarial Net) epoch 1; iter: 0; batch classifier loss: 0.566390\n",
      "(Pretraining Adversarial Net) epoch 2; iter: 0; batch classifier loss: 0.566390\n",
      "(Pretraining Adversarial Net) epoch 3; iter: 0; batch classifier loss: 0.566390\n",
      "(Pretraining Adversarial Net) epoch 4; iter: 0; batch classifier loss: 0.566390\n",
      "(Pretraining Adversarial Net) epoch 5; iter: 0; batch classifier loss: 0.566390\n",
      "(Pretraining Adversarial Net) epoch 6; iter: 0; batch classifier loss: 0.566390\n",
      "(Pretraining Adversarial Net) epoch 7; iter: 0; batch classifier loss: 0.566390\n",
      "(Pretraining Adversarial Net) epoch 8; iter: 0; batch classifier loss: 0.566390\n",
      "(Pretraining Adversarial Net) epoch 9; iter: 0; batch classifier loss: 0.566390\n",
      "(Adversarial Debiasing) epoch 0; iter: 0; batch classifier loss: 0.540110; batch adversarial loss: 0.605128\n",
      "(Adversarial Debiasing) epoch 1; iter: 0; batch classifier loss: 0.542284; batch adversarial loss: 0.609889\n",
      "(Adversarial Debiasing) epoch 2; iter: 0; batch classifier loss: 0.545648; batch adversarial loss: 0.608452\n",
      "(Adversarial Debiasing) epoch 3; iter: 0; batch classifier loss: 0.539900; batch adversarial loss: 0.610892\n",
      "(Adversarial Debiasing) epoch 4; iter: 0; batch classifier loss: 0.541708; batch adversarial loss: 0.604226\n",
      "(Adversarial Debiasing) epoch 5; iter: 0; batch classifier loss: 0.531722; batch adversarial loss: 0.608521\n",
      "(Adversarial Debiasing) epoch 6; iter: 0; batch classifier loss: 0.520252; batch adversarial loss: 0.618978\n",
      "(Adversarial Debiasing) epoch 7; iter: 0; batch classifier loss: 0.481411; batch adversarial loss: 0.617289\n",
      "(Adversarial Debiasing) epoch 8; iter: 0; batch classifier loss: 0.531026; batch adversarial loss: 0.624991\n",
      "(Adversarial Debiasing) epoch 9; iter: 0; batch classifier loss: 0.551989; batch adversarial loss: 0.622303\n",
      "(Adversarial Debiasing) epoch 10; iter: 0; batch classifier loss: 0.520712; batch adversarial loss: 0.624462\n",
      "(Adversarial Debiasing) epoch 11; iter: 0; batch classifier loss: 0.519401; batch adversarial loss: 0.625383\n",
      "(Adversarial Debiasing) epoch 12; iter: 0; batch classifier loss: 0.539258; batch adversarial loss: 0.628026\n",
      "(Adversarial Debiasing) epoch 13; iter: 0; batch classifier loss: 0.513157; batch adversarial loss: 0.628932\n",
      "(Adversarial Debiasing) epoch 14; iter: 0; batch classifier loss: 0.493181; batch adversarial loss: 0.623969\n",
      "(Adversarial Debiasing) epoch 15; iter: 0; batch classifier loss: 0.497166; batch adversarial loss: 0.618972\n",
      "(Adversarial Debiasing) epoch 16; iter: 0; batch classifier loss: 0.505506; batch adversarial loss: 0.616963\n",
      "(Adversarial Debiasing) epoch 17; iter: 0; batch classifier loss: 0.486523; batch adversarial loss: 0.614262\n",
      "(Adversarial Debiasing) epoch 18; iter: 0; batch classifier loss: 0.512353; batch adversarial loss: 0.613161\n",
      "(Adversarial Debiasing) epoch 19; iter: 0; batch classifier loss: 0.485636; batch adversarial loss: 0.610709\n",
      "(Adversarial Debiasing) epoch 20; iter: 0; batch classifier loss: 0.487133; batch adversarial loss: 0.609906\n",
      "(Adversarial Debiasing) epoch 21; iter: 0; batch classifier loss: 0.488688; batch adversarial loss: 0.612485\n",
      "(Adversarial Debiasing) epoch 22; iter: 0; batch classifier loss: 0.478578; batch adversarial loss: 0.610750\n",
      "(Adversarial Debiasing) epoch 23; iter: 0; batch classifier loss: 0.473273; batch adversarial loss: 0.610550\n",
      "(Adversarial Debiasing) epoch 24; iter: 0; batch classifier loss: 0.480065; batch adversarial loss: 0.609407\n",
      "(Adversarial Debiasing) epoch 25; iter: 0; batch classifier loss: 0.476836; batch adversarial loss: 0.609403\n",
      "(Adversarial Debiasing) epoch 26; iter: 0; batch classifier loss: 0.469408; batch adversarial loss: 0.610031\n",
      "(Adversarial Debiasing) epoch 27; iter: 0; batch classifier loss: 0.468917; batch adversarial loss: 0.609459\n",
      "(Adversarial Debiasing) epoch 28; iter: 0; batch classifier loss: 0.467554; batch adversarial loss: 0.603390\n",
      "(Adversarial Debiasing) epoch 29; iter: 0; batch classifier loss: 0.457361; batch adversarial loss: 0.605149\n",
      "(Adversarial Debiasing) epoch 30; iter: 0; batch classifier loss: 0.467789; batch adversarial loss: 0.602832\n",
      "(Adversarial Debiasing) epoch 31; iter: 0; batch classifier loss: 0.455687; batch adversarial loss: 0.605511\n",
      "(Adversarial Debiasing) epoch 32; iter: 0; batch classifier loss: 0.468371; batch adversarial loss: 0.607951\n",
      "(Adversarial Debiasing) epoch 33; iter: 0; batch classifier loss: 0.453979; batch adversarial loss: 0.605407\n",
      "(Adversarial Debiasing) epoch 34; iter: 0; batch classifier loss: 0.448768; batch adversarial loss: 0.603619\n",
      "(Adversarial Debiasing) epoch 35; iter: 0; batch classifier loss: 0.465398; batch adversarial loss: 0.606762\n",
      "(Adversarial Debiasing) epoch 36; iter: 0; batch classifier loss: 0.453731; batch adversarial loss: 0.605975\n",
      "(Adversarial Debiasing) epoch 37; iter: 0; batch classifier loss: 0.462816; batch adversarial loss: 0.605732\n",
      "(Adversarial Debiasing) epoch 38; iter: 0; batch classifier loss: 0.462490; batch adversarial loss: 0.602576\n",
      "(Adversarial Debiasing) epoch 39; iter: 0; batch classifier loss: 0.451625; batch adversarial loss: 0.601146\n",
      "(Adversarial Debiasing) epoch 40; iter: 0; batch classifier loss: 0.446747; batch adversarial loss: 0.601840\n",
      "(Adversarial Debiasing) epoch 41; iter: 0; batch classifier loss: 0.452474; batch adversarial loss: 0.601602\n",
      "(Adversarial Debiasing) epoch 42; iter: 0; batch classifier loss: 0.457435; batch adversarial loss: 0.601712\n",
      "(Adversarial Debiasing) epoch 43; iter: 0; batch classifier loss: 0.454886; batch adversarial loss: 0.602330\n",
      "(Adversarial Debiasing) epoch 44; iter: 0; batch classifier loss: 0.450198; batch adversarial loss: 0.601230\n",
      "(Adversarial Debiasing) epoch 45; iter: 0; batch classifier loss: 0.454668; batch adversarial loss: 0.601371\n",
      "(Adversarial Debiasing) epoch 46; iter: 0; batch classifier loss: 0.448065; batch adversarial loss: 0.601108\n",
      "(Adversarial Debiasing) epoch 47; iter: 0; batch classifier loss: 0.452981; batch adversarial loss: 0.602999\n",
      "(Adversarial Debiasing) epoch 48; iter: 0; batch classifier loss: 0.456460; batch adversarial loss: 0.601368\n",
      "(Adversarial Debiasing) epoch 49; iter: 0; batch classifier loss: 0.447389; batch adversarial loss: 0.601300\n"
     ]
    },
    {
     "data": {
      "text/plain": [
       "<aif360.algorithms.inprocessing.adversarial_debiasing.AdversarialDebiasing at 0x18c848dba08>"
      ]
     },
     "execution_count": 12,
     "metadata": {},
     "output_type": "execute_result"
    }
   ],
   "source": [
    "debiased_model.fit(dataset_orig_train)"
   ]
  },
  {
   "cell_type": "code",
   "execution_count": 13,
   "metadata": {},
   "outputs": [],
   "source": [
    "# Apply the plain model to test data\n",
    "dataset_debiasing_train = debiased_model.predict(dataset_orig_train)\n",
    "dataset_debiasing_test = debiased_model.predict(dataset_orig_test)"
   ]
  },
  {
   "cell_type": "code",
   "execution_count": 14,
   "metadata": {},
   "outputs": [
    {
     "data": {
      "text/markdown": [
       "#### Plain model - without debiasing - dataset metrics"
      ],
      "text/plain": [
       "<IPython.core.display.Markdown object>"
      ]
     },
     "metadata": {},
     "output_type": "display_data"
    },
    {
     "name": "stdout",
     "output_type": "stream",
     "text": [
      "Train set: Difference in mean outcomes between unprivileged and privileged groups = -0.246488\n",
      "Test set: Difference in mean outcomes between unprivileged and privileged groups = -0.237994\n"
     ]
    },
    {
     "data": {
      "text/markdown": [
       "#### Model - with debiasing - dataset metrics"
      ],
      "text/plain": [
       "<IPython.core.display.Markdown object>"
      ]
     },
     "metadata": {},
     "output_type": "display_data"
    },
    {
     "name": "stdout",
     "output_type": "stream",
     "text": [
      "Train set: Difference in mean outcomes between unprivileged and privileged groups = -0.071703\n",
      "Test set: Difference in mean outcomes between unprivileged and privileged groups = -0.060477\n"
     ]
    },
    {
     "data": {
      "text/markdown": [
       "#### Plain model - without debiasing - classification metrics"
      ],
      "text/plain": [
       "<IPython.core.display.Markdown object>"
      ]
     },
     "metadata": {},
     "output_type": "display_data"
    },
    {
     "name": "stdout",
     "output_type": "stream",
     "text": [
      "Test set: Classification accuracy = 0.804613\n",
      "Test set: Balanced classification accuracy = 0.673789\n",
      "Test set: Disparate impact = 0.000000\n",
      "Test set: Equal opportunity difference = -0.496296\n",
      "Test set: Average odds difference = -0.311554\n",
      "Test set: Theil_index = 0.168584\n"
     ]
    },
    {
     "data": {
      "text/markdown": [
       "#### Model - with debiasing - classification metrics"
      ],
      "text/plain": [
       "<IPython.core.display.Markdown object>"
      ]
     },
     "metadata": {},
     "output_type": "display_data"
    },
    {
     "name": "stdout",
     "output_type": "stream",
     "text": [
      "Test set: Classification accuracy = 0.788439\n",
      "Test set: Balanced classification accuracy = 0.667589\n",
      "Test set: Disparate impact = 0.700948\n",
      "Test set: Equal opportunity difference = 0.024333\n",
      "Test set: Average odds difference = 0.013820\n",
      "Test set: Theil_index = 0.170860\n"
     ]
    }
   ],
   "source": [
    "# Metrics for the dataset from plain model (without debiasing)\n",
    "display(Markdown(\"#### Plain model - without debiasing - dataset metrics\"))\n",
    "print(\"Train set: Difference in mean outcomes between unprivileged and privileged groups = %f\" % metric_dataset_nodebiasing_train.mean_difference())\n",
    "print(\"Test set: Difference in mean outcomes between unprivileged and privileged groups = %f\" % metric_dataset_nodebiasing_test.mean_difference())\n",
    "\n",
    "# Metrics for the dataset from model with debiasing\n",
    "display(Markdown(\"#### Model - with debiasing - dataset metrics\"))\n",
    "metric_dataset_debiasing_train = BinaryLabelDatasetMetric(dataset_debiasing_train, \n",
    "                                             unprivileged_groups=unprivileged_groups,\n",
    "                                             privileged_groups=privileged_groups)\n",
    "\n",
    "print(\"Train set: Difference in mean outcomes between unprivileged and privileged groups = %f\" % metric_dataset_debiasing_train.mean_difference())\n",
    "\n",
    "metric_dataset_debiasing_test = BinaryLabelDatasetMetric(dataset_debiasing_test, \n",
    "                                             unprivileged_groups=unprivileged_groups,\n",
    "                                             privileged_groups=privileged_groups)\n",
    "\n",
    "print(\"Test set: Difference in mean outcomes between unprivileged and privileged groups = %f\" % metric_dataset_debiasing_test.mean_difference())\n",
    "\n",
    "\n",
    "\n",
    "display(Markdown(\"#### Plain model - without debiasing - classification metrics\"))\n",
    "print(\"Test set: Classification accuracy = %f\" % classified_metric_nodebiasing_test.accuracy())\n",
    "TPR = classified_metric_nodebiasing_test.true_positive_rate()\n",
    "TNR = classified_metric_nodebiasing_test.true_negative_rate()\n",
    "bal_acc_nodebiasing_test = 0.5*(TPR+TNR)\n",
    "print(\"Test set: Balanced classification accuracy = %f\" % bal_acc_nodebiasing_test)\n",
    "print(\"Test set: Disparate impact = %f\" % classified_metric_nodebiasing_test.disparate_impact())\n",
    "print(\"Test set: Equal opportunity difference = %f\" % classified_metric_nodebiasing_test.equal_opportunity_difference())\n",
    "print(\"Test set: Average odds difference = %f\" % classified_metric_nodebiasing_test.average_odds_difference())\n",
    "print(\"Test set: Theil_index = %f\" % classified_metric_nodebiasing_test.theil_index())\n",
    "\n",
    "\n",
    "\n",
    "display(Markdown(\"#### Model - with debiasing - classification metrics\"))\n",
    "classified_metric_debiasing_test = ClassificationMetric(dataset_orig_test, \n",
    "                                                 dataset_debiasing_test,\n",
    "                                                 unprivileged_groups=unprivileged_groups,\n",
    "                                                 privileged_groups=privileged_groups)\n",
    "print(\"Test set: Classification accuracy = %f\" % classified_metric_debiasing_test.accuracy())\n",
    "TPR = classified_metric_debiasing_test.true_positive_rate()\n",
    "TNR = classified_metric_debiasing_test.true_negative_rate()\n",
    "bal_acc_debiasing_test = 0.5*(TPR+TNR)\n",
    "print(\"Test set: Balanced classification accuracy = %f\" % bal_acc_debiasing_test)\n",
    "print(\"Test set: Disparate impact = %f\" % classified_metric_debiasing_test.disparate_impact())\n",
    "print(\"Test set: Equal opportunity difference = %f\" % classified_metric_debiasing_test.equal_opportunity_difference())\n",
    "print(\"Test set: Average odds difference = %f\" % classified_metric_debiasing_test.average_odds_difference())\n",
    "print(\"Test set: Theil_index = %f\" % classified_metric_debiasing_test.theil_index())"
   ]
  },
  {
   "cell_type": "markdown",
   "metadata": {},
   "source": [
    "\n",
    "    References:\n",
    "    [1] B. H. Zhang, B. Lemoine, and M. Mitchell, \"Mitigating UnwantedBiases with Adversarial Learning,\" \n",
    "    AAAI/ACM Conference on Artificial Intelligence, Ethics, and Society, 2018."
   ]
  },
  {
   "cell_type": "markdown",
   "metadata": {},
   "source": []
  },
  {
   "cell_type": "code",
   "execution_count": null,
   "metadata": {},
   "outputs": [],
   "source": []
  }
 ],
 "metadata": {
  "kernelspec": {
   "display_name": "Python 3 (ipykernel)",
   "language": "python",
   "name": "python3"
  },
  "language_info": {
   "codemirror_mode": {
    "name": "ipython",
    "version": 3
   },
   "file_extension": ".py",
   "mimetype": "text/x-python",
   "name": "python",
   "nbconvert_exporter": "python",
   "pygments_lexer": "ipython3",
   "version": "3.7.8"
  }
 },
 "nbformat": 4,
 "nbformat_minor": 2
}