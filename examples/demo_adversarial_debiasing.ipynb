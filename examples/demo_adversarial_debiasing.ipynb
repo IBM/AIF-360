{
 "cells": [
  {
   "cell_type": "markdown",
   "metadata": {},
   "source": [
    "#### This notebook demonstrates the use of adversarial debiasing algorithm to learn a fair classifier.\n",
    "Adversarial debiasing [1] is an in-processing technique that learns a classifier to maximize prediction accuracy and simultaneously reduce an adversary's ability to determine the protected attribute from the predictions. This approach leads to a fair classifier as the predictions cannot carry any group discrimination information that the adversary can exploit. We will see how to use this algorithm for learning models with and without fairness constraints and apply them on the Adult dataset."
   ]
  },
  {
   "cell_type": "code",
   "execution_count": 1,
   "metadata": {},
   "outputs": [],
   "source": [
    "%matplotlib inline\n",
    "# Load all necessary packages\n",
    "import sys\n",
    "sys.path.append(\"../\")\n",
    "from aif360.datasets import BinaryLabelDataset\n",
    "from aif360.datasets import AdultDataset, GermanDataset, CompasDataset\n",
    "from aif360.metrics import BinaryLabelDatasetMetric\n",
    "from aif360.metrics import ClassificationMetric\n",
    "from aif360.metrics.utils import compute_boolean_conditioning_vector\n",
    "\n",
    "from aif360.algorithms.preprocessing.optim_preproc_helpers.data_preproc_functions import load_preproc_data_adult, load_preproc_data_compas, load_preproc_data_german\n",
    "\n",
    "from aif360.algorithms.inprocessing.adversarial_debiasing import AdversarialDebiasing\n",
    "\n",
    "from sklearn.linear_model import LogisticRegression\n",
    "from sklearn.preprocessing import StandardScaler, MaxAbsScaler\n",
    "from sklearn.metrics import accuracy_score\n",
    "\n",
    "from IPython.display import Markdown, display\n",
    "import matplotlib.pyplot as plt\n",
    "\n",
    "import random\n",
    "random.seed(0)\n",
    "import numpy as np\n",
    "np.random.seed(0)\n",
    "import tensorflow as tf\n",
    "tf.random.set_seed(0)"
   ]
  },
  {
   "cell_type": "markdown",
   "metadata": {},
   "source": [
    "#### Load dataset and set options"
   ]
  },
  {
   "cell_type": "code",
   "execution_count": 2,
   "metadata": {},
   "outputs": [],
   "source": [
    "# Get the dataset and split into train and test\n",
    "dataset_orig = load_preproc_data_adult()\n",
    "\n",
    "privileged_groups = [{'sex': 1}]\n",
    "unprivileged_groups = [{'sex': 0}]\n",
    "\n",
    "dataset_orig_train, dataset_orig_test = dataset_orig.split([0.7], shuffle=True)"
   ]
  },
  {
   "cell_type": "code",
   "execution_count": 3,
   "metadata": {},
   "outputs": [
    {
     "data": {
      "text/markdown": [
       "#### Training Dataset shape"
      ],
      "text/plain": [
       "<IPython.core.display.Markdown object>"
      ]
     },
     "metadata": {},
     "output_type": "display_data"
    },
    {
     "name": "stdout",
     "output_type": "stream",
     "text": [
      "(34189, 18)\n"
     ]
    },
    {
     "data": {
      "text/markdown": [
       "#### Favorable and unfavorable labels"
      ],
      "text/plain": [
       "<IPython.core.display.Markdown object>"
      ]
     },
     "metadata": {},
     "output_type": "display_data"
    },
    {
     "name": "stdout",
     "output_type": "stream",
     "text": [
      "1.0 0.0\n"
     ]
    },
    {
     "data": {
      "text/markdown": [
       "#### Protected attribute names"
      ],
      "text/plain": [
       "<IPython.core.display.Markdown object>"
      ]
     },
     "metadata": {},
     "output_type": "display_data"
    },
    {
     "name": "stdout",
     "output_type": "stream",
     "text": [
      "['sex', 'race']\n"
     ]
    },
    {
     "data": {
      "text/markdown": [
       "#### Privileged and unprivileged protected attribute values"
      ],
      "text/plain": [
       "<IPython.core.display.Markdown object>"
      ]
     },
     "metadata": {},
     "output_type": "display_data"
    },
    {
     "name": "stdout",
     "output_type": "stream",
     "text": [
      "[array([1.]), array([1.])] [array([0.]), array([0.])]\n"
     ]
    },
    {
     "data": {
      "text/markdown": [
       "#### Dataset feature names"
      ],
      "text/plain": [
       "<IPython.core.display.Markdown object>"
      ]
     },
     "metadata": {},
     "output_type": "display_data"
    },
    {
     "name": "stdout",
     "output_type": "stream",
     "text": [
      "['race', 'sex', 'Age (decade)=10', 'Age (decade)=20', 'Age (decade)=30', 'Age (decade)=40', 'Age (decade)=50', 'Age (decade)=60', 'Age (decade)=>=70', 'Education Years=6', 'Education Years=7', 'Education Years=8', 'Education Years=9', 'Education Years=10', 'Education Years=11', 'Education Years=12', 'Education Years=<6', 'Education Years=>12']\n"
     ]
    }
   ],
   "source": [
    "# print out some labels, names, etc.\n",
    "display(Markdown(\"#### Training Dataset shape\"))\n",
    "print(dataset_orig_train.features.shape)\n",
    "display(Markdown(\"#### Favorable and unfavorable labels\"))\n",
    "print(dataset_orig_train.favorable_label, dataset_orig_train.unfavorable_label)\n",
    "display(Markdown(\"#### Protected attribute names\"))\n",
    "print(dataset_orig_train.protected_attribute_names)\n",
    "display(Markdown(\"#### Privileged and unprivileged protected attribute values\"))\n",
    "print(dataset_orig_train.privileged_protected_attributes, \n",
    "      dataset_orig_train.unprivileged_protected_attributes)\n",
    "display(Markdown(\"#### Dataset feature names\"))\n",
    "print(dataset_orig_train.feature_names)"
   ]
  },
  {
   "cell_type": "markdown",
   "metadata": {},
   "source": [
    "#### Metric for original training data"
   ]
  },
  {
   "cell_type": "code",
   "execution_count": 4,
   "metadata": {},
   "outputs": [
    {
     "data": {
      "text/markdown": [
       "#### Original training dataset"
      ],
      "text/plain": [
       "<IPython.core.display.Markdown object>"
      ]
     },
     "metadata": {},
     "output_type": "display_data"
    },
    {
     "name": "stdout",
     "output_type": "stream",
     "text": [
      "Train set: Difference in mean outcomes between unprivileged and privileged groups = -0.193075\n",
      "Test set: Difference in mean outcomes between unprivileged and privileged groups = -0.198048\n"
     ]
    }
   ],
   "source": [
    "# Metric for the original dataset\n",
    "metric_orig_train = BinaryLabelDatasetMetric(dataset_orig_train, \n",
    "                                             unprivileged_groups=unprivileged_groups,\n",
    "                                             privileged_groups=privileged_groups)\n",
    "display(Markdown(\"#### Original training dataset\"))\n",
    "print(\"Train set: Difference in mean outcomes between unprivileged and privileged groups = %f\" % metric_orig_train.mean_difference())\n",
    "metric_orig_test = BinaryLabelDatasetMetric(dataset_orig_test, \n",
    "                                             unprivileged_groups=unprivileged_groups,\n",
    "                                             privileged_groups=privileged_groups)\n",
    "print(\"Test set: Difference in mean outcomes between unprivileged and privileged groups = %f\" % metric_orig_test.mean_difference())"
   ]
  },
  {
   "cell_type": "code",
   "execution_count": 5,
   "metadata": {},
   "outputs": [
    {
     "data": {
      "text/markdown": [
       "#### Scaled dataset - Verify that the scaling does not affect the group label statistics"
      ],
      "text/plain": [
       "<IPython.core.display.Markdown object>"
      ]
     },
     "metadata": {},
     "output_type": "display_data"
    },
    {
     "name": "stdout",
     "output_type": "stream",
     "text": [
      "Train set: Difference in mean outcomes between unprivileged and privileged groups = -0.193075\n",
      "Test set: Difference in mean outcomes between unprivileged and privileged groups = -0.198048\n"
     ]
    }
   ],
   "source": [
    "min_max_scaler = MaxAbsScaler()\n",
    "dataset_orig_train.features = min_max_scaler.fit_transform(dataset_orig_train.features)\n",
    "dataset_orig_test.features = min_max_scaler.transform(dataset_orig_test.features)\n",
    "metric_scaled_train = BinaryLabelDatasetMetric(dataset_orig_train, \n",
    "                             unprivileged_groups=unprivileged_groups,\n",
    "                             privileged_groups=privileged_groups)\n",
    "display(Markdown(\"#### Scaled dataset - Verify that the scaling does not affect the group label statistics\"))\n",
    "print(\"Train set: Difference in mean outcomes between unprivileged and privileged groups = %f\" % metric_scaled_train.mean_difference())\n",
    "metric_scaled_test = BinaryLabelDatasetMetric(dataset_orig_test, \n",
    "                             unprivileged_groups=unprivileged_groups,\n",
    "                             privileged_groups=privileged_groups)\n",
    "print(\"Test set: Difference in mean outcomes between unprivileged and privileged groups = %f\" % metric_scaled_test.mean_difference())\n"
   ]
  },
  {
   "cell_type": "markdown",
   "metadata": {},
   "source": [
    "### Learn plan classifier without debiasing"
   ]
  },
  {
   "cell_type": "code",
   "execution_count": 6,
   "metadata": {},
   "outputs": [],
   "source": [
    "# Load post-processing algorithm that equalizes the odds\n",
    "# Learn parameters with debias set to False\n",
    "plain_model = AdversarialDebiasing(privileged_groups = privileged_groups,\n",
    "                          unprivileged_groups = unprivileged_groups,\n",
    "                          scope_name='plain_classifier',\n",
    "                          debias=False)"
   ]
  },
  {
   "cell_type": "code",
   "execution_count": 7,
   "metadata": {
    "scrolled": true
   },
   "outputs": [
    {
     "name": "stdout",
     "output_type": "stream",
     "text": [
      "(Training Classifier) epoch 0; iter: 0; batch classifier loss: 128.159821\n",
      "(Training Classifier) epoch 1; iter: 0; batch classifier loss: 61.377651\n",
      "(Training Classifier) epoch 2; iter: 0; batch classifier loss: 17.932432\n",
      "(Training Classifier) epoch 3; iter: 0; batch classifier loss: 1.169655\n",
      "(Training Classifier) epoch 4; iter: 0; batch classifier loss: 0.925180\n",
      "(Training Classifier) epoch 5; iter: 0; batch classifier loss: 0.855062\n",
      "(Training Classifier) epoch 6; iter: 0; batch classifier loss: 0.823477\n",
      "(Training Classifier) epoch 7; iter: 0; batch classifier loss: 0.672788\n",
      "(Training Classifier) epoch 8; iter: 0; batch classifier loss: 0.764863\n",
      "(Training Classifier) epoch 9; iter: 0; batch classifier loss: 0.881486\n",
      "(Training Classifier) epoch 10; iter: 0; batch classifier loss: 0.853858\n",
      "(Training Classifier) epoch 11; iter: 0; batch classifier loss: 0.663658\n",
      "(Training Classifier) epoch 12; iter: 0; batch classifier loss: 0.828861\n",
      "(Training Classifier) epoch 13; iter: 0; batch classifier loss: 0.671946\n",
      "(Training Classifier) epoch 14; iter: 0; batch classifier loss: 0.575207\n",
      "(Training Classifier) epoch 15; iter: 0; batch classifier loss: 0.672564\n",
      "(Training Classifier) epoch 16; iter: 0; batch classifier loss: 0.594743\n",
      "(Training Classifier) epoch 17; iter: 0; batch classifier loss: 0.509014\n",
      "(Training Classifier) epoch 18; iter: 0; batch classifier loss: 0.644383\n",
      "(Training Classifier) epoch 19; iter: 0; batch classifier loss: 0.612978\n",
      "(Training Classifier) epoch 20; iter: 0; batch classifier loss: 0.532739\n",
      "(Training Classifier) epoch 21; iter: 0; batch classifier loss: 0.460148\n",
      "(Training Classifier) epoch 22; iter: 0; batch classifier loss: 0.597129\n",
      "(Training Classifier) epoch 23; iter: 0; batch classifier loss: 0.486227\n",
      "(Training Classifier) epoch 24; iter: 0; batch classifier loss: 0.507540\n",
      "(Training Classifier) epoch 25; iter: 0; batch classifier loss: 0.612899\n",
      "(Training Classifier) epoch 26; iter: 0; batch classifier loss: 0.488655\n",
      "(Training Classifier) epoch 27; iter: 0; batch classifier loss: 0.530213\n",
      "(Training Classifier) epoch 28; iter: 0; batch classifier loss: 0.579462\n",
      "(Training Classifier) epoch 29; iter: 0; batch classifier loss: 0.464042\n",
      "(Training Classifier) epoch 30; iter: 0; batch classifier loss: 0.495095\n",
      "(Training Classifier) epoch 31; iter: 0; batch classifier loss: 0.521706\n",
      "(Training Classifier) epoch 32; iter: 0; batch classifier loss: 0.414759\n",
      "(Training Classifier) epoch 33; iter: 0; batch classifier loss: 0.487469\n",
      "(Training Classifier) epoch 34; iter: 0; batch classifier loss: 0.455046\n",
      "(Training Classifier) epoch 35; iter: 0; batch classifier loss: 0.448771\n",
      "(Training Classifier) epoch 36; iter: 0; batch classifier loss: 0.439232\n",
      "(Training Classifier) epoch 37; iter: 0; batch classifier loss: 0.394605\n",
      "(Training Classifier) epoch 38; iter: 0; batch classifier loss: 0.504154\n",
      "(Training Classifier) epoch 39; iter: 0; batch classifier loss: 0.438920\n",
      "(Training Classifier) epoch 40; iter: 0; batch classifier loss: 0.441485\n",
      "(Training Classifier) epoch 41; iter: 0; batch classifier loss: 0.480638\n",
      "(Training Classifier) epoch 42; iter: 0; batch classifier loss: 0.461385\n",
      "(Training Classifier) epoch 43; iter: 0; batch classifier loss: 0.395844\n",
      "(Training Classifier) epoch 44; iter: 0; batch classifier loss: 0.422593\n",
      "(Training Classifier) epoch 45; iter: 0; batch classifier loss: 0.394509\n",
      "(Training Classifier) epoch 46; iter: 0; batch classifier loss: 0.449722\n",
      "(Training Classifier) epoch 47; iter: 0; batch classifier loss: 0.440930\n",
      "(Training Classifier) epoch 48; iter: 0; batch classifier loss: 0.390490\n",
      "(Training Classifier) epoch 49; iter: 0; batch classifier loss: 0.434454\n"
     ]
    },
    {
     "data": {
      "text/plain": [
       "<aif360.algorithms.inprocessing.adversarial_debiasing.AdversarialDebiasing at 0x263e0a71f88>"
      ]
     },
     "execution_count": 7,
     "metadata": {},
     "output_type": "execute_result"
    }
   ],
   "source": [
    "plain_model.fit(dataset_orig_train)"
   ]
  },
  {
   "cell_type": "code",
   "execution_count": 8,
   "metadata": {},
   "outputs": [],
   "source": [
    "# Apply the plain model to test data\n",
    "dataset_nodebiasing_train = plain_model.predict(dataset_orig_train)\n",
    "dataset_nodebiasing_test = plain_model.predict(dataset_orig_test)"
   ]
  },
  {
   "cell_type": "code",
   "execution_count": 9,
   "metadata": {},
   "outputs": [
    {
     "data": {
      "text/markdown": [
       "#### Plain model - without debiasing - dataset metrics"
      ],
      "text/plain": [
       "<IPython.core.display.Markdown object>"
      ]
     },
     "metadata": {},
     "output_type": "display_data"
    },
    {
     "name": "stdout",
     "output_type": "stream",
     "text": [
      "Train set: Difference in mean outcomes between unprivileged and privileged groups = -0.213608\n",
      "Test set: Difference in mean outcomes between unprivileged and privileged groups = -0.202229\n"
     ]
    },
    {
     "data": {
      "text/markdown": [
       "#### Plain model - without debiasing - classification metrics"
      ],
      "text/plain": [
       "<IPython.core.display.Markdown object>"
      ]
     },
     "metadata": {},
     "output_type": "display_data"
    },
    {
     "name": "stdout",
     "output_type": "stream",
     "text": [
      "Test set: Classification accuracy = 0.803863\n",
      "Test set: Balanced classification accuracy = 0.655143\n",
      "Test set: Disparate impact = 0.000000\n",
      "Test set: Equal opportunity difference = -0.435017\n",
      "Test set: Average odds difference = -0.268523\n",
      "Test set: Theil_index = 0.179422\n"
     ]
    }
   ],
   "source": [
    "# Metrics for the dataset from plain model (without debiasing)\n",
    "display(Markdown(\"#### Plain model - without debiasing - dataset metrics\"))\n",
    "metric_dataset_nodebiasing_train = BinaryLabelDatasetMetric(dataset_nodebiasing_train, \n",
    "                                             unprivileged_groups=unprivileged_groups,\n",
    "                                             privileged_groups=privileged_groups)\n",
    "\n",
    "print(\"Train set: Difference in mean outcomes between unprivileged and privileged groups = %f\" % metric_dataset_nodebiasing_train.mean_difference())\n",
    "\n",
    "metric_dataset_nodebiasing_test = BinaryLabelDatasetMetric(dataset_nodebiasing_test, \n",
    "                                             unprivileged_groups=unprivileged_groups,\n",
    "                                             privileged_groups=privileged_groups)\n",
    "\n",
    "print(\"Test set: Difference in mean outcomes between unprivileged and privileged groups = %f\" % metric_dataset_nodebiasing_test.mean_difference())\n",
    "\n",
    "display(Markdown(\"#### Plain model - without debiasing - classification metrics\"))\n",
    "classified_metric_nodebiasing_test = ClassificationMetric(dataset_orig_test, \n",
    "                                                 dataset_nodebiasing_test,\n",
    "                                                 unprivileged_groups=unprivileged_groups,\n",
    "                                                 privileged_groups=privileged_groups)\n",
    "print(\"Test set: Classification accuracy = %f\" % classified_metric_nodebiasing_test.accuracy())\n",
    "TPR = classified_metric_nodebiasing_test.true_positive_rate()\n",
    "TNR = classified_metric_nodebiasing_test.true_negative_rate()\n",
    "bal_acc_nodebiasing_test = 0.5*(TPR+TNR)\n",
    "print(\"Test set: Balanced classification accuracy = %f\" % bal_acc_nodebiasing_test)\n",
    "print(\"Test set: Disparate impact = %f\" % classified_metric_nodebiasing_test.disparate_impact())\n",
    "print(\"Test set: Equal opportunity difference = %f\" % classified_metric_nodebiasing_test.equal_opportunity_difference())\n",
    "print(\"Test set: Average odds difference = %f\" % classified_metric_nodebiasing_test.average_odds_difference())\n",
    "print(\"Test set: Theil_index = %f\" % classified_metric_nodebiasing_test.theil_index())"
   ]
  },
  {
   "cell_type": "markdown",
   "metadata": {},
   "source": [
    "### Apply in-processing algorithm based on adversarial learning\n"
   ]
  },
  {
   "cell_type": "code",
   "execution_count": 10,
   "metadata": {
    "pycharm": {
     "name": "#%%\n"
    }
   },
   "outputs": [],
   "source": [
    "# Learn parameters with debias set to True\n",
    "debiased_model = AdversarialDebiasing(privileged_groups = privileged_groups,\n",
    "                          unprivileged_groups = unprivileged_groups,\n",
    "                          scope_name='debiased_classifier',\n",
    "                          debias=True)"
   ]
  },
  {
   "cell_type": "code",
   "execution_count": 11,
   "metadata": {
    "scrolled": true
   },
   "outputs": [
    {
     "name": "stdout",
     "output_type": "stream",
     "text": [
      "(Pretraining Classifier) epoch 0; iter: 0; batch classifier loss: 134.880569\n",
      "(Pretraining Classifier) epoch 1; iter: 0; batch classifier loss: 69.873848\n",
      "(Pretraining Classifier) epoch 2; iter: 0; batch classifier loss: 25.715265\n",
      "(Pretraining Classifier) epoch 3; iter: 0; batch classifier loss: 1.320486\n",
      "(Pretraining Classifier) epoch 4; iter: 0; batch classifier loss: 0.858379\n",
      "(Pretraining Classifier) epoch 5; iter: 0; batch classifier loss: 1.083853\n",
      "(Pretraining Classifier) epoch 6; iter: 0; batch classifier loss: 0.870830\n",
      "(Pretraining Classifier) epoch 7; iter: 0; batch classifier loss: 0.941673\n",
      "(Pretraining Classifier) epoch 8; iter: 0; batch classifier loss: 0.884102\n",
      "(Pretraining Classifier) epoch 9; iter: 0; batch classifier loss: 0.720615\n",
      "(Pretraining Classifier) epoch 10; iter: 0; batch classifier loss: 0.705842\n",
      "(Pretraining Classifier) epoch 11; iter: 0; batch classifier loss: 0.818990\n",
      "(Pretraining Classifier) epoch 12; iter: 0; batch classifier loss: 0.802354\n",
      "(Pretraining Classifier) epoch 13; iter: 0; batch classifier loss: 0.775266\n",
      "(Pretraining Classifier) epoch 14; iter: 0; batch classifier loss: 0.677696\n",
      "(Pretraining Classifier) epoch 15; iter: 0; batch classifier loss: 0.747808\n",
      "(Pretraining Classifier) epoch 16; iter: 0; batch classifier loss: 0.593462\n",
      "(Pretraining Classifier) epoch 17; iter: 0; batch classifier loss: 0.670959\n",
      "(Pretraining Classifier) epoch 18; iter: 0; batch classifier loss: 0.642769\n",
      "(Pretraining Classifier) epoch 19; iter: 0; batch classifier loss: 0.522878\n",
      "(Pretraining Classifier) epoch 20; iter: 0; batch classifier loss: 0.604765\n",
      "(Pretraining Classifier) epoch 21; iter: 0; batch classifier loss: 0.580402\n",
      "(Pretraining Classifier) epoch 22; iter: 0; batch classifier loss: 0.476567\n",
      "(Pretraining Classifier) epoch 23; iter: 0; batch classifier loss: 0.643392\n",
      "(Pretraining Classifier) epoch 24; iter: 0; batch classifier loss: 0.552314\n",
      "(Pretraining Classifier) epoch 25; iter: 0; batch classifier loss: 0.506210\n",
      "(Pretraining Classifier) epoch 26; iter: 0; batch classifier loss: 0.450144\n",
      "(Pretraining Classifier) epoch 27; iter: 0; batch classifier loss: 0.465205\n",
      "(Pretraining Classifier) epoch 28; iter: 0; batch classifier loss: 0.525690\n",
      "(Pretraining Classifier) epoch 29; iter: 0; batch classifier loss: 0.524842\n",
      "(Pretraining Classifier) epoch 30; iter: 0; batch classifier loss: 0.507235\n",
      "(Pretraining Classifier) epoch 31; iter: 0; batch classifier loss: 0.471298\n",
      "(Pretraining Classifier) epoch 32; iter: 0; batch classifier loss: 0.436086\n",
      "(Pretraining Classifier) epoch 33; iter: 0; batch classifier loss: 0.367573\n",
      "(Pretraining Classifier) epoch 34; iter: 0; batch classifier loss: 0.424824\n",
      "(Pretraining Classifier) epoch 35; iter: 0; batch classifier loss: 0.457473\n",
      "(Pretraining Classifier) epoch 36; iter: 0; batch classifier loss: 0.488542\n",
      "(Pretraining Classifier) epoch 37; iter: 0; batch classifier loss: 0.461673\n",
      "(Pretraining Classifier) epoch 38; iter: 0; batch classifier loss: 0.481010\n",
      "(Pretraining Classifier) epoch 39; iter: 0; batch classifier loss: 0.466798\n",
      "(Pretraining Classifier) epoch 40; iter: 0; batch classifier loss: 0.419804\n",
      "(Pretraining Classifier) epoch 41; iter: 0; batch classifier loss: 0.433962\n",
      "(Pretraining Classifier) epoch 42; iter: 0; batch classifier loss: 0.473635\n",
      "(Pretraining Classifier) epoch 43; iter: 0; batch classifier loss: 0.417096\n",
      "(Pretraining Classifier) epoch 44; iter: 0; batch classifier loss: 0.519157\n",
      "(Pretraining Classifier) epoch 45; iter: 0; batch classifier loss: 0.452163\n",
      "(Pretraining Classifier) epoch 46; iter: 0; batch classifier loss: 0.420159\n",
      "(Pretraining Classifier) epoch 47; iter: 0; batch classifier loss: 0.446961\n",
      "(Pretraining Classifier) epoch 48; iter: 0; batch classifier loss: 0.459235\n",
      "(Pretraining Classifier) epoch 49; iter: 0; batch classifier loss: 0.399708\n",
      "(Pretraining Adversarial Net) epoch 0; iter: 0; batch classifier loss: 0.449080\n",
      "(Pretraining Adversarial Net) epoch 1; iter: 0; batch classifier loss: 0.449080\n",
      "(Pretraining Adversarial Net) epoch 2; iter: 0; batch classifier loss: 0.449080\n",
      "(Pretraining Adversarial Net) epoch 3; iter: 0; batch classifier loss: 0.449080\n",
      "(Pretraining Adversarial Net) epoch 4; iter: 0; batch classifier loss: 0.449080\n",
      "(Pretraining Adversarial Net) epoch 5; iter: 0; batch classifier loss: 0.449080\n",
      "(Pretraining Adversarial Net) epoch 6; iter: 0; batch classifier loss: 0.449080\n",
      "(Pretraining Adversarial Net) epoch 7; iter: 0; batch classifier loss: 0.449080\n",
      "(Pretraining Adversarial Net) epoch 8; iter: 0; batch classifier loss: 0.449080\n",
      "(Pretraining Adversarial Net) epoch 9; iter: 0; batch classifier loss: 0.449080\n",
      "(Adversarial Debiasing) epoch 0; iter: 0; batch classifier loss: 0.440683; batch adversarial loss: 0.540855\n",
      "(Adversarial Debiasing) epoch 1; iter: 0; batch classifier loss: 0.494316; batch adversarial loss: 0.618862\n",
      "(Adversarial Debiasing) epoch 2; iter: 0; batch classifier loss: 0.501201; batch adversarial loss: 0.601261\n",
      "(Adversarial Debiasing) epoch 3; iter: 0; batch classifier loss: 0.400936; batch adversarial loss: 0.620284\n",
      "(Adversarial Debiasing) epoch 4; iter: 0; batch classifier loss: 0.437329; batch adversarial loss: 0.602927\n",
      "(Adversarial Debiasing) epoch 5; iter: 0; batch classifier loss: 0.489908; batch adversarial loss: 0.605331\n",
      "(Adversarial Debiasing) epoch 6; iter: 0; batch classifier loss: 0.476911; batch adversarial loss: 0.600032\n",
      "(Adversarial Debiasing) epoch 7; iter: 0; batch classifier loss: 0.452329; batch adversarial loss: 0.614555\n",
      "(Adversarial Debiasing) epoch 8; iter: 0; batch classifier loss: 0.410179; batch adversarial loss: 0.666740\n",
      "(Adversarial Debiasing) epoch 9; iter: 0; batch classifier loss: 0.428234; batch adversarial loss: 0.628702\n",
      "(Adversarial Debiasing) epoch 10; iter: 0; batch classifier loss: 0.464451; batch adversarial loss: 0.624595\n",
      "(Adversarial Debiasing) epoch 11; iter: 0; batch classifier loss: 0.378440; batch adversarial loss: 0.608099\n",
      "(Adversarial Debiasing) epoch 12; iter: 0; batch classifier loss: 0.457063; batch adversarial loss: 0.590322\n",
      "(Adversarial Debiasing) epoch 13; iter: 0; batch classifier loss: 0.406562; batch adversarial loss: 0.597645\n",
      "(Adversarial Debiasing) epoch 14; iter: 0; batch classifier loss: 0.410403; batch adversarial loss: 0.615725\n",
      "(Adversarial Debiasing) epoch 15; iter: 0; batch classifier loss: 0.517701; batch adversarial loss: 0.615848\n",
      "(Adversarial Debiasing) epoch 16; iter: 0; batch classifier loss: 0.489518; batch adversarial loss: 0.615786\n",
      "(Adversarial Debiasing) epoch 17; iter: 0; batch classifier loss: 0.474283; batch adversarial loss: 0.635840\n",
      "(Adversarial Debiasing) epoch 18; iter: 0; batch classifier loss: 0.412224; batch adversarial loss: 0.642151\n",
      "(Adversarial Debiasing) epoch 19; iter: 0; batch classifier loss: 0.493956; batch adversarial loss: 0.660937\n",
      "(Adversarial Debiasing) epoch 20; iter: 0; batch classifier loss: 0.402229; batch adversarial loss: 0.622334\n",
      "(Adversarial Debiasing) epoch 21; iter: 0; batch classifier loss: 0.372322; batch adversarial loss: 0.592466\n",
      "(Adversarial Debiasing) epoch 22; iter: 0; batch classifier loss: 0.466723; batch adversarial loss: 0.649589\n",
      "(Adversarial Debiasing) epoch 23; iter: 0; batch classifier loss: 0.421115; batch adversarial loss: 0.651974\n",
      "(Adversarial Debiasing) epoch 24; iter: 0; batch classifier loss: 0.433711; batch adversarial loss: 0.589349\n",
      "(Adversarial Debiasing) epoch 25; iter: 0; batch classifier loss: 0.436329; batch adversarial loss: 0.602887\n",
      "(Adversarial Debiasing) epoch 26; iter: 0; batch classifier loss: 0.464773; batch adversarial loss: 0.597258\n",
      "(Adversarial Debiasing) epoch 27; iter: 0; batch classifier loss: 0.494470; batch adversarial loss: 0.603853\n",
      "(Adversarial Debiasing) epoch 28; iter: 0; batch classifier loss: 0.468667; batch adversarial loss: 0.584529\n",
      "(Adversarial Debiasing) epoch 29; iter: 0; batch classifier loss: 0.389904; batch adversarial loss: 0.616433\n",
      "(Adversarial Debiasing) epoch 30; iter: 0; batch classifier loss: 0.433647; batch adversarial loss: 0.603092\n",
      "(Adversarial Debiasing) epoch 31; iter: 0; batch classifier loss: 0.400195; batch adversarial loss: 0.616506\n",
      "(Adversarial Debiasing) epoch 32; iter: 0; batch classifier loss: 0.363294; batch adversarial loss: 0.631503\n",
      "(Adversarial Debiasing) epoch 33; iter: 0; batch classifier loss: 0.439718; batch adversarial loss: 0.578051\n"
     ]
    },
    {
     "name": "stdout",
     "output_type": "stream",
     "text": [
      "(Adversarial Debiasing) epoch 34; iter: 0; batch classifier loss: 0.402591; batch adversarial loss: 0.605702\n",
      "(Adversarial Debiasing) epoch 35; iter: 0; batch classifier loss: 0.413381; batch adversarial loss: 0.613869\n",
      "(Adversarial Debiasing) epoch 36; iter: 0; batch classifier loss: 0.461322; batch adversarial loss: 0.586686\n",
      "(Adversarial Debiasing) epoch 37; iter: 0; batch classifier loss: 0.418611; batch adversarial loss: 0.627018\n",
      "(Adversarial Debiasing) epoch 38; iter: 0; batch classifier loss: 0.446251; batch adversarial loss: 0.576892\n",
      "(Adversarial Debiasing) epoch 39; iter: 0; batch classifier loss: 0.450661; batch adversarial loss: 0.588187\n",
      "(Adversarial Debiasing) epoch 40; iter: 0; batch classifier loss: 0.478780; batch adversarial loss: 0.655284\n",
      "(Adversarial Debiasing) epoch 41; iter: 0; batch classifier loss: 0.448895; batch adversarial loss: 0.660874\n",
      "(Adversarial Debiasing) epoch 42; iter: 0; batch classifier loss: 0.458956; batch adversarial loss: 0.641847\n",
      "(Adversarial Debiasing) epoch 43; iter: 0; batch classifier loss: 0.483867; batch adversarial loss: 0.599994\n",
      "(Adversarial Debiasing) epoch 44; iter: 0; batch classifier loss: 0.486435; batch adversarial loss: 0.634439\n",
      "(Adversarial Debiasing) epoch 45; iter: 0; batch classifier loss: 0.379902; batch adversarial loss: 0.591255\n",
      "(Adversarial Debiasing) epoch 46; iter: 0; batch classifier loss: 0.466630; batch adversarial loss: 0.632792\n",
      "(Adversarial Debiasing) epoch 47; iter: 0; batch classifier loss: 0.444135; batch adversarial loss: 0.609224\n",
      "(Adversarial Debiasing) epoch 48; iter: 0; batch classifier loss: 0.416441; batch adversarial loss: 0.613069\n",
      "(Adversarial Debiasing) epoch 49; iter: 0; batch classifier loss: 0.417319; batch adversarial loss: 0.606370\n"
     ]
    },
    {
     "data": {
      "text/plain": [
       "<aif360.algorithms.inprocessing.adversarial_debiasing.AdversarialDebiasing at 0x26383372d48>"
      ]
     },
     "execution_count": 11,
     "metadata": {},
     "output_type": "execute_result"
    }
   ],
   "source": [
    "debiased_model.fit(dataset_orig_train)"
   ]
  },
  {
   "cell_type": "code",
   "execution_count": 12,
   "metadata": {},
   "outputs": [],
   "source": [
    "# Apply the plain model to test data\n",
    "dataset_debiasing_train = debiased_model.predict(dataset_orig_train)\n",
    "dataset_debiasing_test = debiased_model.predict(dataset_orig_test)"
   ]
  },
  {
   "cell_type": "code",
   "execution_count": 13,
   "metadata": {},
   "outputs": [
    {
     "data": {
      "text/markdown": [
       "#### Plain model - without debiasing - dataset metrics"
      ],
      "text/plain": [
       "<IPython.core.display.Markdown object>"
      ]
     },
     "metadata": {},
     "output_type": "display_data"
    },
    {
     "name": "stdout",
     "output_type": "stream",
     "text": [
      "Train set: Difference in mean outcomes between unprivileged and privileged groups = -0.213608\n",
      "Test set: Difference in mean outcomes between unprivileged and privileged groups = -0.202229\n"
     ]
    },
    {
     "data": {
      "text/markdown": [
       "#### Model - with debiasing - dataset metrics"
      ],
      "text/plain": [
       "<IPython.core.display.Markdown object>"
      ]
     },
     "metadata": {},
     "output_type": "display_data"
    },
    {
     "name": "stdout",
     "output_type": "stream",
     "text": [
      "Train set: Difference in mean outcomes between unprivileged and privileged groups = -0.013427\n",
      "Test set: Difference in mean outcomes between unprivileged and privileged groups = -0.004753\n"
     ]
    },
    {
     "data": {
      "text/markdown": [
       "#### Plain model - without debiasing - classification metrics"
      ],
      "text/plain": [
       "<IPython.core.display.Markdown object>"
      ]
     },
     "metadata": {},
     "output_type": "display_data"
    },
    {
     "name": "stdout",
     "output_type": "stream",
     "text": [
      "Test set: Classification accuracy = 0.803863\n",
      "Test set: Balanced classification accuracy = 0.655143\n",
      "Test set: Disparate impact = 0.000000\n",
      "Test set: Equal opportunity difference = -0.435017\n",
      "Test set: Average odds difference = -0.268523\n",
      "Test set: Theil_index = 0.179422\n"
     ]
    },
    {
     "data": {
      "text/markdown": [
       "#### Model - with debiasing - classification metrics"
      ],
      "text/plain": [
       "<IPython.core.display.Markdown object>"
      ]
     },
     "metadata": {},
     "output_type": "display_data"
    },
    {
     "name": "stdout",
     "output_type": "stream",
     "text": [
      "Test set: Classification accuracy = 0.784003\n",
      "Test set: Balanced classification accuracy = 0.624387\n",
      "Test set: Disparate impact = 0.964353\n",
      "Test set: Equal opportunity difference = 0.127191\n",
      "Test set: Average odds difference = 0.080554\n",
      "Test set: Theil_index = 0.196668\n"
     ]
    }
   ],
   "source": [
    "# Metrics for the dataset from plain model (without debiasing)\n",
    "display(Markdown(\"#### Plain model - without debiasing - dataset metrics\"))\n",
    "print(\"Train set: Difference in mean outcomes between unprivileged and privileged groups = %f\" % metric_dataset_nodebiasing_train.mean_difference())\n",
    "print(\"Test set: Difference in mean outcomes between unprivileged and privileged groups = %f\" % metric_dataset_nodebiasing_test.mean_difference())\n",
    "\n",
    "# Metrics for the dataset from model with debiasing\n",
    "display(Markdown(\"#### Model - with debiasing - dataset metrics\"))\n",
    "metric_dataset_debiasing_train = BinaryLabelDatasetMetric(dataset_debiasing_train, \n",
    "                                             unprivileged_groups=unprivileged_groups,\n",
    "                                             privileged_groups=privileged_groups)\n",
    "\n",
    "print(\"Train set: Difference in mean outcomes between unprivileged and privileged groups = %f\" % metric_dataset_debiasing_train.mean_difference())\n",
    "\n",
    "metric_dataset_debiasing_test = BinaryLabelDatasetMetric(dataset_debiasing_test, \n",
    "                                             unprivileged_groups=unprivileged_groups,\n",
    "                                             privileged_groups=privileged_groups)\n",
    "\n",
    "print(\"Test set: Difference in mean outcomes between unprivileged and privileged groups = %f\" % metric_dataset_debiasing_test.mean_difference())\n",
    "\n",
    "\n",
    "\n",
    "display(Markdown(\"#### Plain model - without debiasing - classification metrics\"))\n",
    "print(\"Test set: Classification accuracy = %f\" % classified_metric_nodebiasing_test.accuracy())\n",
    "TPR = classified_metric_nodebiasing_test.true_positive_rate()\n",
    "TNR = classified_metric_nodebiasing_test.true_negative_rate()\n",
    "bal_acc_nodebiasing_test = 0.5*(TPR+TNR)\n",
    "print(\"Test set: Balanced classification accuracy = %f\" % bal_acc_nodebiasing_test)\n",
    "print(\"Test set: Disparate impact = %f\" % classified_metric_nodebiasing_test.disparate_impact())\n",
    "print(\"Test set: Equal opportunity difference = %f\" % classified_metric_nodebiasing_test.equal_opportunity_difference())\n",
    "print(\"Test set: Average odds difference = %f\" % classified_metric_nodebiasing_test.average_odds_difference())\n",
    "print(\"Test set: Theil_index = %f\" % classified_metric_nodebiasing_test.theil_index())\n",
    "\n",
    "\n",
    "\n",
    "display(Markdown(\"#### Model - with debiasing - classification metrics\"))\n",
    "classified_metric_debiasing_test = ClassificationMetric(dataset_orig_test, \n",
    "                                                 dataset_debiasing_test,\n",
    "                                                 unprivileged_groups=unprivileged_groups,\n",
    "                                                 privileged_groups=privileged_groups)\n",
    "print(\"Test set: Classification accuracy = %f\" % classified_metric_debiasing_test.accuracy())\n",
    "TPR = classified_metric_debiasing_test.true_positive_rate()\n",
    "TNR = classified_metric_debiasing_test.true_negative_rate()\n",
    "bal_acc_debiasing_test = 0.5*(TPR+TNR)\n",
    "print(\"Test set: Balanced classification accuracy = %f\" % bal_acc_debiasing_test)\n",
    "print(\"Test set: Disparate impact = %f\" % classified_metric_debiasing_test.disparate_impact())\n",
    "print(\"Test set: Equal opportunity difference = %f\" % classified_metric_debiasing_test.equal_opportunity_difference())\n",
    "print(\"Test set: Average odds difference = %f\" % classified_metric_debiasing_test.average_odds_difference())\n",
    "print(\"Test set: Theil_index = %f\" % classified_metric_debiasing_test.theil_index())"
   ]
  },
  {
   "cell_type": "markdown",
   "metadata": {},
   "source": [
    "\n",
    "    References:\n",
    "    [1] B. H. Zhang, B. Lemoine, and M. Mitchell, \"Mitigating UnwantedBiases with Adversarial Learning,\" \n",
    "    AAAI/ACM Conference on Artificial Intelligence, Ethics, and Society, 2018."
   ]
  },
  {
   "cell_type": "markdown",
   "metadata": {},
   "source": []
  }
 ],
 "metadata": {
  "kernelspec": {
   "display_name": "Python 3 (ipykernel)",
   "language": "python",
   "name": "python3"
  },
  "language_info": {
   "codemirror_mode": {
    "name": "ipython",
    "version": 3
   },
   "file_extension": ".py",
   "mimetype": "text/x-python",
   "name": "python",
   "nbconvert_exporter": "python",
   "pygments_lexer": "ipython3",
   "version": "3.7.8"
  }
 },
 "nbformat": 4,
 "nbformat_minor": 2
}