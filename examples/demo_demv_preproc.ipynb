{
 "cells": [
  {
   "cell_type": "markdown",
   "metadata": {},
   "source": [
    "# This notebook demonstrates the use of a DEMV pre-processing algorithm for bias mitigation\n",
    "\n",
    "_Debiaser for Multiple Variables (DEMV)_ is a pre-processing algorithm to mitigate the bias of binary and multi-class (i.e., datasets where the label has more than 2 values) with any number of sensitive variables [1].\n",
    "\n",
    " [1] G. d'Aloisio, A. D'Angelo, A. Di Marco, e G. Stilo, «Debiaser for Multiple Variables to enhance fairness in classification tasks», Information Processing & Management, vol. 60, mar. 2023, doi: 10.1016/j.ipm.2022.103226."
   ]
  },
  {
   "cell_type": "markdown",
   "metadata": {
    "collapsed": false
   },
   "source": [
    "### Note\n",
    "\n",
    "In this example, we use DEMV on a binary label dataset, but DEMV is designed to work also on MultiClass datasets."
   ]
  },
  {
   "cell_type": "code",
   "execution_count": 8,
   "metadata": {},
   "outputs": [],
   "source": [
    "%matplotlib inline\n",
    "# Load all necessary packages\n",
    "import sys\n",
    "sys.path.append(\"../\")\n",
    "import numpy as np\n",
    "\n",
    "from aif360.metrics import BinaryLabelDatasetMetric\n",
    "from aif360.metrics import ClassificationMetric\n",
    "from aif360.algorithms.preprocessing.demv import DEMV\n",
    "from aif360.algorithms.preprocessing.optim_preproc_helpers.data_preproc_functions\\\n",
    "        import load_preproc_data_adult, load_preproc_data_german, load_preproc_data_compas\n",
    "\n",
    "from IPython.display import Markdown, display\n",
    "import matplotlib.pyplot as plt\n",
    "\n",
    "from common_utils import compute_metrics"
   ]
  },
  {
   "cell_type": "markdown",
   "metadata": {},
   "source": [
    "## Load dataset and set options"
   ]
  },
  {
   "cell_type": "code",
   "execution_count": 9,
   "metadata": {},
   "outputs": [],
   "source": [
    "## import dataset\n",
    "dataset_used = \"adult\" # \"adult\", \"german\", \"compas\"\n",
    "protected_attribute_used = 1 # 1, 2\n",
    "\n",
    "\n",
    "if dataset_used == \"adult\":\n",
    "#     dataset_orig = AdultDataset()\n",
    "    if protected_attribute_used == 1:\n",
    "        privileged_groups = [{'sex': 1}]\n",
    "        unprivileged_groups = [{'sex': 0}]\n",
    "        dataset_orig = load_preproc_data_adult(['sex'])\n",
    "    else:\n",
    "        privileged_groups = [{'race': 1}]\n",
    "        unprivileged_groups = [{'race': 0}]\n",
    "        dataset_orig = load_preproc_data_adult(['race'])\n",
    "    \n",
    "elif dataset_used == \"german\":\n",
    "#     dataset_orig = GermanDataset()\n",
    "    if protected_attribute_used == 1:\n",
    "        privileged_groups = [{'sex': 1}]\n",
    "        unprivileged_groups = [{'sex': 0}]\n",
    "        dataset_orig = load_preproc_data_german(['sex'])\n",
    "    else:\n",
    "        privileged_groups = [{'age': 1}]\n",
    "        unprivileged_groups = [{'age': 0}]\n",
    "        dataset_orig = load_preproc_data_german(['age'])\n",
    "    \n",
    "elif dataset_used == \"compas\":\n",
    "#     dataset_orig = CompasDataset()\n",
    "    if protected_attribute_used == 1:\n",
    "        privileged_groups = [{'sex': 1}]\n",
    "        unprivileged_groups = [{'sex': 0}]\n",
    "        dataset_orig = load_preproc_data_compas(['sex'])\n",
    "    else:\n",
    "        privileged_groups = [{'race': 1}]\n",
    "        unprivileged_groups = [{'race': 0}]\n",
    "        dataset_orig = load_preproc_data_compas(['race'])\n",
    "\n",
    "all_metrics =  [\"Statistical parity difference\",\n",
    "                   \"Average odds difference\",\n",
    "                   \"Equal opportunity difference\"]\n",
    "\n",
    "#random seed for calibrated equal odds prediction\n",
    "np.random.seed(1)"
   ]
  },
  {
   "cell_type": "markdown",
   "metadata": {},
   "source": [
    "#### Split into train, and test"
   ]
  },
  {
   "cell_type": "code",
   "execution_count": 10,
   "metadata": {},
   "outputs": [],
   "source": [
    "# Get the dataset and split into train and test\n",
    "dataset_orig_train, dataset_orig_vt = dataset_orig.split([0.7], shuffle=True)\n",
    "dataset_orig_valid, dataset_orig_test = dataset_orig_vt.split([0.5], shuffle=True)"
   ]
  },
  {
   "cell_type": "markdown",
   "metadata": {},
   "source": [
    "#### Clean up training data"
   ]
  },
  {
   "cell_type": "code",
   "execution_count": 11,
   "metadata": {},
   "outputs": [
    {
     "data": {
      "text/markdown": [
       "#### Training Dataset shape"
      ],
      "text/plain": [
       "<IPython.core.display.Markdown object>"
      ]
     },
     "metadata": {},
     "output_type": "display_data"
    },
    {
     "name": "stdout",
     "output_type": "stream",
     "text": [
      "(34189, 18)\n"
     ]
    },
    {
     "data": {
      "text/markdown": [
       "#### Favorable and unfavorable labels"
      ],
      "text/plain": [
       "<IPython.core.display.Markdown object>"
      ]
     },
     "metadata": {},
     "output_type": "display_data"
    },
    {
     "name": "stdout",
     "output_type": "stream",
     "text": [
      "1.0 0.0\n"
     ]
    },
    {
     "data": {
      "text/markdown": [
       "#### Protected attribute names"
      ],
      "text/plain": [
       "<IPython.core.display.Markdown object>"
      ]
     },
     "metadata": {},
     "output_type": "display_data"
    },
    {
     "name": "stdout",
     "output_type": "stream",
     "text": [
      "['sex']\n"
     ]
    },
    {
     "data": {
      "text/markdown": [
       "#### Privileged and unprivileged protected attribute values"
      ],
      "text/plain": [
       "<IPython.core.display.Markdown object>"
      ]
     },
     "metadata": {},
     "output_type": "display_data"
    },
    {
     "name": "stdout",
     "output_type": "stream",
     "text": [
      "[array([1.])] [array([0.])]\n"
     ]
    },
    {
     "data": {
      "text/markdown": [
       "#### Dataset feature names"
      ],
      "text/plain": [
       "<IPython.core.display.Markdown object>"
      ]
     },
     "metadata": {},
     "output_type": "display_data"
    },
    {
     "name": "stdout",
     "output_type": "stream",
     "text": [
      "['race', 'sex', 'Age (decade)=10', 'Age (decade)=20', 'Age (decade)=30', 'Age (decade)=40', 'Age (decade)=50', 'Age (decade)=60', 'Age (decade)=>=70', 'Education Years=6', 'Education Years=7', 'Education Years=8', 'Education Years=9', 'Education Years=10', 'Education Years=11', 'Education Years=12', 'Education Years=<6', 'Education Years=>12']\n"
     ]
    }
   ],
   "source": [
    "# print out some labels, names, etc.\n",
    "display(Markdown(\"#### Training Dataset shape\"))\n",
    "print(dataset_orig_train.features.shape)\n",
    "display(Markdown(\"#### Favorable and unfavorable labels\"))\n",
    "print(dataset_orig_train.favorable_label, dataset_orig_train.unfavorable_label)\n",
    "display(Markdown(\"#### Protected attribute names\"))\n",
    "print(dataset_orig_train.protected_attribute_names)\n",
    "display(Markdown(\"#### Privileged and unprivileged protected attribute values\"))\n",
    "print(dataset_orig_train.privileged_protected_attributes, \n",
    "      dataset_orig_train.unprivileged_protected_attributes)\n",
    "display(Markdown(\"#### Dataset feature names\"))\n",
    "print(dataset_orig_train.feature_names)"
   ]
  },
  {
   "cell_type": "markdown",
   "metadata": {},
   "source": [
    "#### Metric for original training data"
   ]
  },
  {
   "cell_type": "code",
   "execution_count": 12,
   "metadata": {},
   "outputs": [
    {
     "data": {
      "text/markdown": [
       "#### Original training dataset"
      ],
      "text/plain": [
       "<IPython.core.display.Markdown object>"
      ]
     },
     "metadata": {},
     "output_type": "display_data"
    },
    {
     "name": "stdout",
     "output_type": "stream",
     "text": [
      "Difference in mean outcomes between unprivileged and privileged groups = -0.190244\n",
      "Disparate Impact between unprivileged and privileged groups = 0.367778\n",
      "Statistical Parity difference between unprivileged and privileged groups = -0.190244\n"
     ]
    }
   ],
   "source": [
    "# Metric for the original dataset\n",
    "metric_orig_train = BinaryLabelDatasetMetric(dataset_orig_train, \n",
    "                                             unprivileged_groups=unprivileged_groups,\n",
    "                                             privileged_groups=privileged_groups)\n",
    "display(Markdown(\"#### Original training dataset\"))\n",
    "print(\"Difference in mean outcomes between unprivileged and privileged groups = %f\" % metric_orig_train.mean_difference())\n",
    "print(\"Disparate Impact between unprivileged and privileged groups = %f\" % metric_orig_train.disparate_impact())\n",
    "print(\"Statistical Parity difference between unprivileged and privileged groups = %f\" % metric_orig_train.statistical_parity_difference())"
   ]
  },
  {
   "cell_type": "markdown",
   "metadata": {},
   "source": [
    "#### Train with and transform the original training data"
   ]
  },
  {
   "cell_type": "code",
   "execution_count": 13,
   "metadata": {},
   "outputs": [],
   "source": [
    "demv = DEMV()"
   ]
  },
  {
   "cell_type": "code",
   "execution_count": 14,
   "metadata": {},
   "outputs": [],
   "source": [
    "import warnings\n",
    "warnings.filterwarnings('ignore')"
   ]
  },
  {
   "cell_type": "code",
   "execution_count": 15,
   "metadata": {},
   "outputs": [],
   "source": [
    "newdata = demv.fit_transform(dataset_orig_train)"
   ]
  },
  {
   "cell_type": "code",
   "execution_count": 16,
   "metadata": {},
   "outputs": [
    {
     "name": "stdout",
     "output_type": "stream",
     "text": [
      "               instance weights features                                      \\\n",
      "                                         protected attribute                   \n",
      "                                    race                 sex Age (decade)=10   \n",
      "instance names                                                                 \n",
      "24378                       1.0      1.0                 0.0             0.0   \n",
      "45162                       1.0      1.0                 1.0             0.0   \n",
      "9877                        1.0      1.0                 0.0             0.0   \n",
      "31039                       1.0      0.0                 1.0             0.0   \n",
      "28752                       1.0      1.0                 1.0             0.0   \n",
      "...                         ...      ...                 ...             ...   \n",
      "32861                       1.0      1.0                 1.0             0.0   \n",
      "6600                        1.0      1.0                 1.0             0.0   \n",
      "29327                       1.0      1.0                 1.0             0.0   \n",
      "28064                       1.0      1.0                 0.0             0.0   \n",
      "13007                       1.0      1.0                 1.0             0.0   \n",
      "\n",
      "                                                                \\\n",
      "                                                                 \n",
      "               Age (decade)=20 Age (decade)=30 Age (decade)=40   \n",
      "instance names                                                   \n",
      "24378                      0.0             1.0             0.0   \n",
      "45162                      0.0             0.0             1.0   \n",
      "9877                       0.0             0.0             0.0   \n",
      "31039                      0.0             1.0             0.0   \n",
      "28752                      1.0             0.0             0.0   \n",
      "...                        ...             ...             ...   \n",
      "32861                      0.0             1.0             0.0   \n",
      "6600                       0.0             1.0             0.0   \n",
      "29327                      1.0             0.0             0.0   \n",
      "28064                      1.0             0.0             0.0   \n",
      "13007                      0.0             1.0             0.0   \n",
      "\n",
      "                                                                  \\\n",
      "                                                                   \n",
      "               Age (decade)=50 Age (decade)=60 Age (decade)=>=70   \n",
      "instance names                                                     \n",
      "24378                      0.0             0.0               0.0   \n",
      "45162                      0.0             0.0               0.0   \n",
      "9877                       1.0             0.0               0.0   \n",
      "31039                      0.0             0.0               0.0   \n",
      "28752                      0.0             0.0               0.0   \n",
      "...                        ...             ...               ...   \n",
      "32861                      0.0             0.0               0.0   \n",
      "6600                       0.0             0.0               0.0   \n",
      "29327                      0.0             0.0               0.0   \n",
      "28064                      0.0             0.0               0.0   \n",
      "13007                      0.0             0.0               0.0   \n",
      "\n",
      "                                                                      \\\n",
      "                                                                       \n",
      "               Education Years=6 Education Years=7 Education Years=8   \n",
      "instance names                                                         \n",
      "24378                        0.0               0.0               0.0   \n",
      "45162                        0.0               0.0               0.0   \n",
      "9877                         0.0               0.0               0.0   \n",
      "31039                        0.0               0.0               0.0   \n",
      "28752                        0.0               0.0               0.0   \n",
      "...                          ...               ...               ...   \n",
      "32861                        0.0               0.0               0.0   \n",
      "6600                         0.0               0.0               0.0   \n",
      "29327                        0.0               0.0               0.0   \n",
      "28064                        0.0               0.0               0.0   \n",
      "13007                        0.0               0.0               0.0   \n",
      "\n",
      "                                                                        \\\n",
      "                                                                         \n",
      "               Education Years=9 Education Years=10 Education Years=11   \n",
      "instance names                                                           \n",
      "24378                        0.0                0.0                0.0   \n",
      "45162                        0.0                1.0                0.0   \n",
      "9877                         0.0                0.0                0.0   \n",
      "31039                        0.0                1.0                0.0   \n",
      "28752                        0.0                1.0                0.0   \n",
      "...                          ...                ...                ...   \n",
      "32861                        0.0                1.0                0.0   \n",
      "6600                         1.0                0.0                0.0   \n",
      "29327                        0.0                1.0                0.0   \n",
      "28064                        1.0                0.0                0.0   \n",
      "13007                        0.0                0.0                0.0   \n",
      "\n",
      "                                                                          \\\n",
      "                                                                           \n",
      "               Education Years=12 Education Years=<6 Education Years=>12   \n",
      "instance names                                                             \n",
      "24378                         0.0                0.0                 1.0   \n",
      "45162                         0.0                0.0                 0.0   \n",
      "9877                          0.0                0.0                 1.0   \n",
      "31039                         0.0                0.0                 0.0   \n",
      "28752                         0.0                0.0                 0.0   \n",
      "...                           ...                ...                 ...   \n",
      "32861                         0.0                0.0                 0.0   \n",
      "6600                          0.0                0.0                 0.0   \n",
      "29327                         0.0                0.0                 0.0   \n",
      "28064                         0.0                0.0                 0.0   \n",
      "13007                         0.0                0.0                 1.0   \n",
      "\n",
      "               labels  \n",
      "                       \n",
      "                       \n",
      "instance names         \n",
      "24378             1.0  \n",
      "45162             1.0  \n",
      "9877              1.0  \n",
      "31039             0.0  \n",
      "28752             0.0  \n",
      "...               ...  \n",
      "32861             0.0  \n",
      "6600              0.0  \n",
      "29327             0.0  \n",
      "28064             0.0  \n",
      "13007             0.0  \n",
      "\n",
      "[33971 rows x 20 columns]\n"
     ]
    }
   ],
   "source": [
    "print( newdata )"
   ]
  },
  {
   "cell_type": "markdown",
   "metadata": {},
   "source": [
    "#### Metric with the transformed training data"
   ]
  },
  {
   "cell_type": "code",
   "execution_count": 17,
   "metadata": {},
   "outputs": [
    {
     "data": {
      "text/markdown": [
       "#### Transformed training dataset"
      ],
      "text/plain": [
       "<IPython.core.display.Markdown object>"
      ]
     },
     "metadata": {},
     "output_type": "display_data"
    },
    {
     "name": "stdout",
     "output_type": "stream",
     "text": [
      "Difference in mean outcomes between unprivileged and privileged groups = -0.036211\n",
      "Disparate Impact between unprivileged and privileged groups = 0.858829\n",
      "Statistical Parity difference between unprivileged and privileged groups = -0.036211\n"
     ]
    }
   ],
   "source": [
    "metric_transf_train = BinaryLabelDatasetMetric(newdata, \n",
    "                                         unprivileged_groups=unprivileged_groups,\n",
    "                                         privileged_groups=privileged_groups)\n",
    "display(Markdown(\"#### Transformed training dataset\"))\n",
    "print(\"Difference in mean outcomes between unprivileged and privileged groups = %f\" % metric_transf_train.mean_difference())\n",
    "print(\"Disparate Impact between unprivileged and privileged groups = %f\" % metric_transf_train.disparate_impact())\n",
    "print(\"Statistical Parity difference between unprivileged and privileged groups = %f\" % metric_transf_train.statistical_parity_difference())"
   ]
  },
  {
   "cell_type": "markdown",
   "metadata": {
    "collapsed": false
   },
   "source": [
    "## Plot the balancing of the groups"
   ]
  },
  {
   "cell_type": "code",
   "execution_count": 18,
   "metadata": {
    "collapsed": false
   },
   "outputs": [],
   "source": [
    "import seaborn as sns\n",
    "def plot_groups_disparity(disparities):\n",
    "    fig, ax = plt.subplots()\n",
    "    for d in disparities:\n",
    "        sns.lineplot(data=d)\n",
    "    plt.axhline(y=1, linewidth=2)\n",
    "    ax.set_ylabel('Group disparity')\n",
    "    return ax"
   ]
  },
  {
   "cell_type": "code",
   "execution_count": 19,
   "metadata": {
    "collapsed": false
   },
   "outputs": [
    {
     "data": {
      "image/png": "[encoded data removed]",
      "text/plain": [
       "<Figure size 640x480 with 1 Axes>"
      ]
     },
     "metadata": {},
     "output_type": "display_data"
    }
   ],
   "source": [
    "plot_groups_disparity(demv.get_disparities()[0])\n",
    "plt.show()\n"
   ]
  },
  {
   "cell_type": "markdown",
   "metadata": {
    "collapsed": false
   },
   "source": [
    "Eventually, $W_{exp}/W_{obs}$ of all the groups converges to one. This means that all the groups are totally balanced\n"
   ]
  }
 ],
 "metadata": {
  "kernelspec": {
   "display_name": "venv",
   "language": "python",
   "name": "python3"
  },
  "language_info": {
   "codemirror_mode": {
    "name": "ipython",
    "version": 3
   },
   "file_extension": ".py",
   "mimetype": "text/x-python",
   "name": "python",
   "nbconvert_exporter": "python",
   "pygments_lexer": "ipython3",
   "version": "3.7.7"
  },
  "vscode": {
   "interpreter": {
    "hash": "1fc8d391338496045c94d13fac457daff2d06644297df9ba5b94feadb9c635b2"
   }
  }
 },
 "nbformat": 4,
 "nbformat_minor": 2
}
