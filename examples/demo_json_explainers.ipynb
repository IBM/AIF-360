{
  "cells": [
    {
      "cell_type": "markdown",
      "source": [
        "[![Open In Colab](https://colab.research.google.com/assets/colab-badge.svg)](https://colab.research.google.com/github/Trusted-AI/AIF360/blob/main/examples/demo_json_explainers.ipynb)\n"
      ],
      "metadata": {
        "id": "PXISC-e0l2JJ"
      }
    },
    {
      "cell_type": "code",
      "execution_count": null,
      "metadata": {
        "collapsed": true,
        "id": "s-b2u2Rvl013"
      },
      "outputs": [],
      "source": [
        "# Load all necessary packages\n",
        "import sys\n",
        "sys.path.append(\"../\")\n",
        "from collections import OrderedDict\n",
        "import json\n",
        "from pprint import pprint\n",
        "from aif360.datasets import GermanDataset\n",
        "from aif360.metrics import BinaryLabelDatasetMetric\n",
        "from aif360.explainers import MetricTextExplainer, MetricJSONExplainer\n",
        "from IPython.display import JSON, display_json"
      ]
    },
    {
      "cell_type": "markdown",
      "metadata": {
        "id": "3HohcQsBl016"
      },
      "source": [
        "##### Load dataset"
      ]
    },
    {
      "cell_type": "code",
      "execution_count": null,
      "metadata": {
        "collapsed": true,
        "id": "vHsL60ZSl017"
      },
      "outputs": [],
      "source": [
        "gd = GermanDataset()"
      ]
    },
    {
      "cell_type": "markdown",
      "metadata": {
        "id": "Fy7C2Lttl017"
      },
      "source": [
        "##### Create metrics"
      ]
    },
    {
      "cell_type": "code",
      "execution_count": null,
      "metadata": {
        "collapsed": true,
        "id": "BWIQjCUdl018"
      },
      "outputs": [],
      "source": [
        "priv = [{'sex': 1}]\n",
        "unpriv = [{'sex': 0}]\n",
        "bldm = BinaryLabelDatasetMetric(gd, unprivileged_groups=unpriv, privileged_groups=priv)"
      ]
    },
    {
      "cell_type": "markdown",
      "metadata": {
        "id": "eUsxBOxVl018"
      },
      "source": [
        "##### Create explainers"
      ]
    },
    {
      "cell_type": "code",
      "execution_count": null,
      "metadata": {
        "collapsed": true,
        "id": "7agLzgCCl018"
      },
      "outputs": [],
      "source": [
        "text_expl = MetricTextExplainer(bldm)\n",
        "json_expl = MetricJSONExplainer(bldm)"
      ]
    },
    {
      "cell_type": "markdown",
      "metadata": {
        "id": "hEKcHC3Fl019"
      },
      "source": [
        "##### Text explanations"
      ]
    },
    {
      "cell_type": "code",
      "execution_count": null,
      "metadata": {
        "id": "4yfddrtAl019",
        "outputId": "680af6c9-53c0-4b51-d4b6-d09207f00ccd"
      },
      "outputs": [
        {
          "name": "stdout",
          "output_type": "stream",
          "text": [
            "Number of positive-outcome instances: 700.0\n"
          ]
        }
      ],
      "source": [
        "print(text_expl.num_positives())"
      ]
    },
    {
      "cell_type": "code",
      "execution_count": null,
      "metadata": {
        "id": "Xg91poCjl01-",
        "outputId": "e310a8ce-3730-4e08-dafd-6f9ecd26945a"
      },
      "outputs": [
        {
          "name": "stdout",
          "output_type": "stream",
          "text": [
            "Mean difference (mean label value on privileged instances - mean label value on unprivileged instances): -0.0748013090229\n"
          ]
        }
      ],
      "source": [
        "print(text_expl.mean_difference())"
      ]
    },
    {
      "cell_type": "code",
      "execution_count": null,
      "metadata": {
        "id": "W9HdX1wUl01-",
        "outputId": "aff81d6b-f850-4a9c-e25a-60e77c69b093"
      },
      "outputs": [
        {
          "name": "stdout",
          "output_type": "stream",
          "text": [
            "Disparate impact (probability of favorable outcome for unprivileged instances / probability of favorable outcome for privileged instances): 0.896567328205\n"
          ]
        }
      ],
      "source": [
        "print(text_expl.disparate_impact())"
      ]
    },
    {
      "cell_type": "markdown",
      "metadata": {
        "id": "LA2uVnjPl01_"
      },
      "source": [
        "##### JSON Explanations"
      ]
    },
    {
      "cell_type": "code",
      "execution_count": null,
      "metadata": {
        "collapsed": true,
        "id": "JCosLnQbl01_"
      },
      "outputs": [],
      "source": [
        "def format_json(json_str):\n",
        "    return json.dumps(json.loads(json_str, object_pairs_hook=OrderedDict), indent=2)"
      ]
    },
    {
      "cell_type": "code",
      "execution_count": null,
      "metadata": {
        "id": "F1nemIIel01_",
        "outputId": "7c03e9aa-4aee-4862-ddd5-e7abd20d5941"
      },
      "outputs": [
        {
          "name": "stdout",
          "output_type": "stream",
          "text": [
            "{\n",
            "  \"metric\": \"num_positives\", \n",
            "  \"message\": \"Number of positive-outcome instances: 700.0\", \n",
            "  \"numPositives\": 700.0, \n",
            "  \"description\": \"Computed as the number of positive instances for the given (privileged or unprivileged) group.\", \n",
            "  \"ideal\": \"The ideal value of this metric lies in the total number of positive instances made available\"\n",
            "}\n"
          ]
        }
      ],
      "source": [
        "print(format_json(json_expl.num_positives()))"
      ]
    },
    {
      "cell_type": "code",
      "execution_count": null,
      "metadata": {
        "id": "vaBapB4xl01_",
        "outputId": "381346be-c9e9-4f41-dbaf-2c18cdd06ff6"
      },
      "outputs": [
        {
          "name": "stdout",
          "output_type": "stream",
          "text": [
            "{\n",
            "  \"metric\": \"mean_difference\", \n",
            "  \"message\": \"Mean difference (mean label value on privileged instances - mean label value on unprivileged instances): -0.0748013090229\", \n",
            "  \"numPositivesUnprivileged\": 201.0, \n",
            "  \"numInstancesUnprivileged\": 310.0, \n",
            "  \"numPositivesPrivileged\": 499.0, \n",
            "  \"numInstancesPrivileged\": 690.0, \n",
            "  \"description\": \"Computed as the difference of the rate of favorable outcomes received by the unprivileged group to the privileged group.\", \n",
            "  \"ideal\": \"The ideal value of this metric is 0.0\"\n",
            "}\n"
          ]
        }
      ],
      "source": [
        "print(format_json(json_expl.mean_difference()))"
      ]
    },
    {
      "cell_type": "code",
      "execution_count": null,
      "metadata": {
        "id": "qExRlmw8l02A",
        "outputId": "11b63f8e-4cc6-4192-e600-de0231ae33cc"
      },
      "outputs": [
        {
          "name": "stdout",
          "output_type": "stream",
          "text": [
            "{\n",
            "  \"metric\": \"disparate_impact\", \n",
            "  \"message\": \"Disparate impact (probability of favorable outcome for unprivileged instances / probability of favorable outcome for privileged instances): 0.896567328205\", \n",
            "  \"numPositivePredictionsUnprivileged\": 201.0, \n",
            "  \"numUnprivileged\": 310.0, \n",
            "  \"numPositivePredictionsPrivileged\": 499.0, \n",
            "  \"numPrivileged\": 690.0, \n",
            "  \"description\": \"Computed as the ratio of likelihood of favorable outcome for the unprivileged group to that of the privileged group.\", \n",
            "  \"ideal\": \"The ideal value of this metric is 1.0\"\n",
            "}\n"
          ]
        }
      ],
      "source": [
        "print(format_json(json_expl.disparate_impact()))"
      ]
    },
    {
      "cell_type": "code",
      "execution_count": null,
      "metadata": {
        "collapsed": true,
        "id": "mu6tkv_xl02A"
      },
      "outputs": [],
      "source": []
    }
  ],
  "metadata": {
    "kernelspec": {
      "display_name": "Python 2",
      "language": "python",
      "name": "python2"
    },
    "language_info": {
      "codemirror_mode": {
        "name": "ipython",
        "version": 2
      },
      "file_extension": ".py",
      "mimetype": "text/x-python",
      "name": "python",
      "nbconvert_exporter": "python",
      "pygments_lexer": "ipython2",
      "version": "2.7.11"
    },
    "colab": {
      "provenance": []
    }
  },
  "nbformat": 4,
  "nbformat_minor": 0
}