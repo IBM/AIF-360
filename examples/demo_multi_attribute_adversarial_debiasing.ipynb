{
 "cells": [
  {
   "attachments": {},
   "cell_type": "markdown",
   "metadata": {},
   "source": [
    "## This notebook demonstrates the use of the adapted Adversarial Debiasing algorithm.\n",
    "\n",
    "The code has been updated to Tensorflow 2.X and can now be used to learn a fair classifier with respect to multiple sensitive attributes simultaneously.\n",
    "\n",
    "References:\n",
    "\n",
    "[Mitigating UnwantedBiases with Adversarial Learning](https://arxiv.org/pdf/1801.07593.pdf)  \n",
    "  \n",
    "B. H. Zhang, B. Lemoine, and M. Mitchell,    \n",
    "AAAI/ACM Conference on Artificial Intelligence, Ethics, and Society, 2018."
   ]
  },
  {
   "cell_type": "code",
   "execution_count": 1,
   "metadata": {},
   "outputs": [
    {
     "name": "stderr",
     "output_type": "stream",
     "text": [
      "WARNING:root:\n",
      "`load_boston` has been removed from scikit-learn since version 1.2.\n",
      "\n",
      "The Boston housing prices dataset has an ethical problem: as\n",
      "investigated in [1], the authors of this dataset engineered a\n",
      "non-invertible variable \"B\" assuming that racial self-segregation had a\n",
      "positive impact on house prices [2]. Furthermore the goal of the\n",
      "research that led to the creation of this dataset was to study the\n",
      "impact of air quality but it did not give adequate demonstration of the\n",
      "validity of this assumption.\n",
      "\n",
      "The scikit-learn maintainers therefore strongly discourage the use of\n",
      "this dataset unless the purpose of the code is to study and educate\n",
      "about ethical issues in data science and machine learning.\n",
      "\n",
      "In this special case, you can fetch the dataset from the original\n",
      "source::\n",
      "\n",
      "    import pandas as pd\n",
      "    import numpy as np\n",
      "\n",
      "    data_url = \"http://lib.stat.cmu.edu/datasets/boston\"\n",
      "    raw_df = pd.read_csv(data_url, sep=\"\\s+\", skiprows=22, header=None)\n",
      "    data = np.hstack([raw_df.values[::2, :], raw_df.values[1::2, :2]])\n",
      "    target = raw_df.values[1::2, 2]\n",
      "\n",
      "Alternative datasets include the California housing dataset and the\n",
      "Ames housing dataset. You can load the datasets as follows::\n",
      "\n",
      "    from sklearn.datasets import fetch_california_housing\n",
      "    housing = fetch_california_housing()\n",
      "\n",
      "for the California housing dataset and::\n",
      "\n",
      "    from sklearn.datasets import fetch_openml\n",
      "    housing = fetch_openml(name=\"house_prices\", as_frame=True)\n",
      "\n",
      "for the Ames housing dataset.\n",
      "\n",
      "[1] M Carlisle.\n",
      "\"Racist data destruction?\"\n",
      "<https://medium.com/@docintangible/racist-data-destruction-113e3eff54a8>\n",
      "\n",
      "[2] Harrison Jr, David, and Daniel L. Rubinfeld.\n",
      "\"Hedonic housing prices and the demand for clean air.\"\n",
      "Journal of environmental economics and management 5.1 (1978): 81-102.\n",
      "<https://www.researchgate.net/publication/4974606_Hedonic_housing_prices_and_the_demand_for_clean_air>\n",
      ": LawSchoolGPADataset will be unavailable. To install, run:\n",
      "pip install 'aif360[LawSchoolGPA]'\n",
      "WARNING:root:No module named 'fairlearn': ExponentiatedGradientReduction will be unavailable. To install, run:\n",
      "pip install 'aif360[Reductions]'\n",
      "WARNING:root:No module named 'fairlearn': GridSearchReduction will be unavailable. To install, run:\n",
      "pip install 'aif360[Reductions]'\n",
      "WARNING:root:No module named 'fairlearn': GridSearchReduction will be unavailable. To install, run:\n",
      "pip install 'aif360[Reductions]'\n"
     ]
    }
   ],
   "source": [
    "\n",
    "import sys\n",
    "sys.path.append(\"../\")\n",
    "\n",
    "from aif360.metrics import BinaryLabelDatasetMetric\n",
    "from aif360.metrics import ClassificationMetric\n",
    "\n",
    "from aif360.algorithms.preprocessing.optim_preproc_helpers.data_preproc_functions import load_preproc_data_adult, load_preproc_data_compas, load_preproc_data_german\n",
    "from sklearn.preprocessing import MinMaxScaler\n",
    "from IPython.display import Markdown, display\n",
    "from sklearn.metrics import roc_auc_score\n",
    "\n",
    "# import adapted AdversarialDebiasing code\n",
    "from aif360.algorithms.inprocessing.multi_attribute_adversarial_debiasing import *\n",
    "\n"
   ]
  },
  {
   "cell_type": "markdown",
   "metadata": {},
   "source": [
    "### Helper functions"
   ]
  },
  {
   "cell_type": "code",
   "execution_count": 2,
   "metadata": {},
   "outputs": [],
   "source": [
    "def accuracy(predicted_labels, true):\n",
    "    return tf.reduce_mean(tf.cast(tf.equal(predicted_labels, true), dtype=tf.float32))"
   ]
  },
  {
   "attachments": {},
   "cell_type": "markdown",
   "metadata": {},
   "source": [
    "### 1 . Load dataset"
   ]
  },
  {
   "cell_type": "code",
   "execution_count": 3,
   "metadata": {},
   "outputs": [],
   "source": [
    "# Get the dataset and split into train and test\n",
    "dataset_orig = load_preproc_data_compas()#load_preproc_data_adult()#\n",
    "\n",
    "privileged_groups = [{'sex': 1}, {'race': 1}]\n",
    "unprivileged_groups = [{'sex': 0}, {'race': 0}]\n",
    "\n",
    "dataset_orig_train, dataset_orig_test = dataset_orig.split([0.7], shuffle=True)"
   ]
  },
  {
   "cell_type": "code",
   "execution_count": 4,
   "metadata": {},
   "outputs": [
    {
     "data": {
      "text/markdown": [
       "#### Training Dataset shape"
      ],
      "text/plain": [
       "<IPython.core.display.Markdown object>"
      ]
     },
     "metadata": {},
     "output_type": "display_data"
    },
    {
     "name": "stdout",
     "output_type": "stream",
     "text": [
      "(3694, 10)\n"
     ]
    },
    {
     "data": {
      "text/markdown": [
       "#### Favorable and unfavorable labels"
      ],
      "text/plain": [
       "<IPython.core.display.Markdown object>"
      ]
     },
     "metadata": {},
     "output_type": "display_data"
    },
    {
     "name": "stdout",
     "output_type": "stream",
     "text": [
      "0.0 1.0\n"
     ]
    },
    {
     "data": {
      "text/markdown": [
       "#### Protected attribute names"
      ],
      "text/plain": [
       "<IPython.core.display.Markdown object>"
      ]
     },
     "metadata": {},
     "output_type": "display_data"
    },
    {
     "name": "stdout",
     "output_type": "stream",
     "text": [
      "['sex', 'race']\n"
     ]
    },
    {
     "data": {
      "text/markdown": [
       "#### Privileged and unprivileged protected attribute values"
      ],
      "text/plain": [
       "<IPython.core.display.Markdown object>"
      ]
     },
     "metadata": {},
     "output_type": "display_data"
    },
    {
     "name": "stdout",
     "output_type": "stream",
     "text": [
      "[array([1.]), array([1.])] [array([0.]), array([0.])]\n"
     ]
    },
    {
     "data": {
      "text/markdown": [
       "#### Dataset feature names"
      ],
      "text/plain": [
       "<IPython.core.display.Markdown object>"
      ]
     },
     "metadata": {},
     "output_type": "display_data"
    },
    {
     "name": "stdout",
     "output_type": "stream",
     "text": [
      "['sex', 'race', 'age_cat=25 to 45', 'age_cat=Greater than 45', 'age_cat=Less than 25', 'priors_count=0', 'priors_count=1 to 3', 'priors_count=More than 3', 'c_charge_degree=F', 'c_charge_degree=M']\n"
     ]
    }
   ],
   "source": [
    "# print out some labels, names, etc.\n",
    "display(Markdown(\"#### Training Dataset shape\"))\n",
    "print(dataset_orig_train.features.shape)\n",
    "display(Markdown(\"#### Favorable and unfavorable labels\"))\n",
    "print(dataset_orig_train.favorable_label, dataset_orig_train.unfavorable_label)\n",
    "display(Markdown(\"#### Protected attribute names\"))\n",
    "print(dataset_orig_train.protected_attribute_names)\n",
    "display(Markdown(\"#### Privileged and unprivileged protected attribute values\"))\n",
    "print(dataset_orig_train.privileged_protected_attributes, \n",
    "      dataset_orig_train.unprivileged_protected_attributes)\n",
    "display(Markdown(\"#### Dataset feature names\"))\n",
    "print(dataset_orig_train.feature_names)"
   ]
  },
  {
   "attachments": {},
   "cell_type": "markdown",
   "metadata": {},
   "source": [
    "#### Evaluate metric for original training data\n",
    "\n",
    "Race and sex are the two sensitive attributes"
   ]
  },
  {
   "cell_type": "code",
   "execution_count": 5,
   "metadata": {},
   "outputs": [
    {
     "name": "stdout",
     "output_type": "stream",
     "text": [
      "Sensitive attribute :  sex \n",
      "\n",
      "Train set: Difference in mean outcomes between unprivileged and privileged groups = -0.122968\n",
      "Test set: Difference in mean outcomes between unprivileged and privileged groups = -0.162710\n",
      "\n",
      "\n",
      "\n",
      "Sensitive attribute :  race \n",
      "\n",
      "Train set: Difference in mean outcomes between unprivileged and privileged groups = -0.136772\n",
      "Test set: Difference in mean outcomes between unprivileged and privileged groups = -0.121692\n",
      "\n",
      "\n",
      "\n"
     ]
    }
   ],
   "source": [
    "for unprivileged_group, privileged_group in zip (unprivileged_groups, privileged_groups):\n",
    "    print('Sensitive attribute : ', list(unprivileged_group.keys())[0], '\\n')\n",
    "\n",
    "\n",
    "    # Metric for the original dataset\n",
    "    metric_orig_train = BinaryLabelDatasetMetric(dataset_orig_train, \n",
    "                                                unprivileged_groups=[unprivileged_group],\n",
    "                                                privileged_groups=[privileged_group])\n",
    "    \n",
    "    print(\"Train set: Difference in mean outcomes between unprivileged and privileged groups = %f\" % metric_orig_train.mean_difference())\n",
    "    metric_orig_test = BinaryLabelDatasetMetric(dataset_orig_test, \n",
    "                                                unprivileged_groups=[unprivileged_group],\n",
    "                                                privileged_groups=[privileged_group])\n",
    "    print(\"Test set: Difference in mean outcomes between unprivileged and privileged groups = %f\" % metric_orig_test.mean_difference())\n",
    "    print('\\n'*2)"
   ]
  },
  {
   "cell_type": "markdown",
   "metadata": {},
   "source": [
    "#### Scale features"
   ]
  },
  {
   "cell_type": "code",
   "execution_count": 6,
   "metadata": {},
   "outputs": [],
   "source": [
    "min_max_scaler = MinMaxScaler()#MaxAbsScaler()\n",
    "dataset_orig_train.features = min_max_scaler.fit_transform(dataset_orig_train.features)\n",
    "dataset_orig_test.features = min_max_scaler.transform(dataset_orig_test.features)\n",
    "\n"
   ]
  },
  {
   "attachments": {},
   "cell_type": "markdown",
   "metadata": {},
   "source": [
    "### 2 . Debias multiple sensitive attributes \n",
    "\n",
    "3 performance metrics and 2 Fairness metrics to evaluate the implementation. \n",
    "> <b> Performance metrics:  </b>  \n",
    "> - Accuracy  \n",
    "> - Balanced Accuracy  \n",
    "> - AUC score  \n",
    "\n",
    "> <b> Fairness metrics:  </b>   \n",
    "> - Equal opportunity difference  \n",
    "> - Average odds Difference  \n",
    "\n",
    "##### NOTE:\n",
    "Current implementation supports an adversary that tries to enforce equality of Odds  \n",
    "since it gets both yHat and y during training (see [Mitigating UnwantedBiases with Adversarial Learning](https://arxiv.org/pdf/1801.07593.pdf)  )"
   ]
  },
  {
   "cell_type": "code",
   "execution_count": 7,
   "metadata": {},
   "outputs": [
    {
     "data": {
      "text/plain": [
       "['sex', 'race']"
      ]
     },
     "execution_count": 7,
     "metadata": {},
     "output_type": "execute_result"
    }
   ],
   "source": [
    "# Example dataset\n",
    "features = dataset_orig_train.features\n",
    "labels = dataset_orig_train.labels\n",
    "protected_attributes = dataset_orig_train.protected_attributes\n",
    "\n",
    "dataset_orig_train.protected_attribute_names"
   ]
  },
  {
   "cell_type": "markdown",
   "metadata": {},
   "source": [
    "#### Training the model\n",
    "\n",
    "The model consists of a classifier and an adversary network. At each training iteration, the classifier learns to predict a target label, and the adversary takes the classifier's predictions as well as  \n",
    "the true target label, and learns to predict multiple sensitive attribute values (e.g. race , sex) for that instance. Each model can be pretrained for several epochs before initiating adversarial learning.  \n",
    "The adversary can be provided with weights for each sensitive attribute, which is used in the loss computation."
   ]
  },
  {
   "cell_type": "code",
   "execution_count": 8,
   "metadata": {},
   "outputs": [],
   "source": [
    "# Define training parameters\n",
    "nb_pretrain = 10\n",
    "batch_size = 64\n",
    "total_epochs = 40\n",
    "\n",
    "# weights for 'sex', 'race'\n",
    "loss_weights  = [3, 5]"
   ]
  },
  {
   "cell_type": "code",
   "execution_count": 9,
   "metadata": {},
   "outputs": [
    {
     "name": "stdout",
     "output_type": "stream",
     "text": [
      "Pretraining Classifier - Epoch 1, Loss: 0.5662161707878113\n",
      "Pretraining Classifier - Epoch 2, Loss: 0.5489364862442017\n",
      "Pretraining Classifier - Epoch 3, Loss: 0.6741243004798889\n",
      "Pretraining Classifier - Epoch 4, Loss: 0.5755788683891296\n",
      "Pretraining Classifier - Epoch 5, Loss: 0.5527998208999634\n",
      "Pretraining Classifier - Epoch 6, Loss: 0.6184147000312805\n",
      "Pretraining Classifier - Epoch 7, Loss: 0.6741035580635071\n",
      "Pretraining Classifier - Epoch 8, Loss: 0.549817681312561\n",
      "Pretraining Classifier - Epoch 9, Loss: 0.5531249642372131\n",
      "Pretraining Classifier - Epoch 10, Loss: 0.7086078524589539\n"
     ]
    }
   ],
   "source": [
    "# Create a trainer\n",
    "trainer = AdversarialDebiasor(loss_weights = loss_weights)\n",
    "\n",
    "# Pretrain the classifier model\n",
    "trainer.pretrain_classifier(features, labels, num_epochs=nb_pretrain, batch_size=batch_size)"
   ]
  },
  {
   "cell_type": "markdown",
   "metadata": {},
   "source": [
    "#### Evaluate test set classification metrics after pre-training classifier"
   ]
  },
  {
   "cell_type": "code",
   "execution_count": 10,
   "metadata": {},
   "outputs": [
    {
     "name": "stdout",
     "output_type": "stream",
     "text": [
      "Sensitive attribute :  sex\n",
      "\tEqual opportunity diff. : -0.19152323847396535\n",
      "\tAv. Odds diff.          : -0.26593566325003604 \n",
      "\n",
      "\n",
      "Sensitive attribute :  race\n",
      "\tEqual opportunity diff. : -0.1951045318789767\n",
      "\tAv. Odds diff.          : -0.22362652902240815 \n",
      "\n",
      "\n",
      "\n",
      "Accuracy        :  0.6445707\n",
      "Balanced accuracy :  0.639877867033843\n",
      "AUC score         :  0.6988965543680187\n"
     ]
    }
   ],
   "source": [
    "# Evaluate metrics\n",
    "\n",
    "metrics = trainer.get_classification_metrics(dataset_orig_test)\n",
    "\n",
    "for key, classified_metric_debiasing_test in metrics.items():\n",
    "    print('Sensitive attribute : ', key)\n",
    "\n",
    "    eod = classified_metric_debiasing_test.equal_opportunity_difference()\n",
    "    aod = classified_metric_debiasing_test.average_odds_difference()\n",
    "    ti = classified_metric_debiasing_test.theil_index()\n",
    "    print('\\tEqual opportunity diff. :', eod)\n",
    "    print('\\tAv. Odds diff.          :', aod, '\\n'*2)\n",
    "\n",
    "\n",
    "predicted_labels = trainer.predict(dataset_orig_test.features)\n",
    "true_labels = dataset_orig_test.labels\n",
    "\n",
    "TPR = classified_metric_debiasing_test.true_positive_rate()\n",
    "TNR = classified_metric_debiasing_test.true_negative_rate()\n",
    "bal_acc_debiasing_test = 0.5*(TPR+TNR)\n",
    "\n",
    "# Should not change since only trained adversary\n",
    "print('\\nAccuracy        : ', accuracy(predicted_labels, true_labels).numpy())\n",
    "print('Balanced accuracy : ', bal_acc_debiasing_test)\n",
    "print('AUC score         : ', roc_auc_score(true_labels, trainer.predict_proba(dataset_orig_test.features)))\n"
   ]
  },
  {
   "cell_type": "markdown",
   "metadata": {},
   "source": [
    "#### Pretrain the adversary on trained classifier's outputs"
   ]
  },
  {
   "cell_type": "code",
   "execution_count": 11,
   "metadata": {},
   "outputs": [
    {
     "name": "stdout",
     "output_type": "stream",
     "text": [
      "Pretraining Adversary - Epoch 1, Loss: 4.9558305740356445\n",
      "Pretraining Adversary - Epoch 2, Loss: 4.603690147399902\n",
      "Pretraining Adversary - Epoch 3, Loss: 4.303704261779785\n",
      "Pretraining Adversary - Epoch 4, Loss: 5.025561332702637\n",
      "Pretraining Adversary - Epoch 5, Loss: 4.46227502822876\n",
      "Pretraining Adversary - Epoch 6, Loss: 4.4050188064575195\n",
      "Pretraining Adversary - Epoch 7, Loss: 4.613255977630615\n",
      "Pretraining Adversary - Epoch 8, Loss: 4.509513854980469\n",
      "Pretraining Adversary - Epoch 9, Loss: 4.4759440422058105\n",
      "Pretraining Adversary - Epoch 10, Loss: 4.689357280731201\n"
     ]
    }
   ],
   "source": [
    "\n",
    "trainer.pretrain_adversary(features, labels, protected_attributes, num_epochs=nb_pretrain, batch_size=batch_size)"
   ]
  },
  {
   "cell_type": "markdown",
   "metadata": {},
   "source": [
    "#### Train both models together"
   ]
  },
  {
   "cell_type": "code",
   "execution_count": 12,
   "metadata": {},
   "outputs": [
    {
     "name": "stdout",
     "output_type": "stream",
     "text": [
      "Epoch 1, Classifier Loss: 1.0748538970947266, Adversary Loss: 6.006758213043213\n",
      "Epoch 2, Classifier Loss: 0.7039031386375427, Adversary Loss: 4.691508769989014\n",
      "Epoch 3, Classifier Loss: 0.6419263482093811, Adversary Loss: 4.874557018280029\n",
      "Epoch 4, Classifier Loss: 0.6589154601097107, Adversary Loss: 4.840798377990723\n",
      "Epoch 5, Classifier Loss: 0.6023615002632141, Adversary Loss: 4.959635257720947\n",
      "Epoch 6, Classifier Loss: 0.6404706835746765, Adversary Loss: 4.265321731567383\n",
      "Epoch 7, Classifier Loss: 0.6090013384819031, Adversary Loss: 5.116223335266113\n",
      "Epoch 8, Classifier Loss: 0.6836777925491333, Adversary Loss: 4.832919120788574\n",
      "Epoch 9, Classifier Loss: 0.6418229937553406, Adversary Loss: 4.165708541870117\n",
      "Epoch 10, Classifier Loss: 0.6556251049041748, Adversary Loss: 4.947446823120117\n",
      "Epoch 11, Classifier Loss: 0.5766992568969727, Adversary Loss: 4.835245132446289\n",
      "Epoch 12, Classifier Loss: 0.6414293050765991, Adversary Loss: 5.631744384765625\n",
      "Epoch 13, Classifier Loss: 0.6422746181488037, Adversary Loss: 5.312074661254883\n",
      "Epoch 14, Classifier Loss: 0.5190868973731995, Adversary Loss: 5.320330619812012\n",
      "Epoch 15, Classifier Loss: 0.49334800243377686, Adversary Loss: 5.113853454589844\n",
      "Epoch 16, Classifier Loss: 0.6178850531578064, Adversary Loss: 4.695720195770264\n",
      "Epoch 17, Classifier Loss: 0.5956438183784485, Adversary Loss: 5.355489730834961\n",
      "Epoch 18, Classifier Loss: 0.6518958806991577, Adversary Loss: 4.355944633483887\n",
      "Epoch 19, Classifier Loss: 0.6231874227523804, Adversary Loss: 5.087705612182617\n",
      "Epoch 20, Classifier Loss: 0.6090092658996582, Adversary Loss: 4.560384750366211\n",
      "Epoch 21, Classifier Loss: 0.6517775058746338, Adversary Loss: 5.145451068878174\n",
      "Epoch 22, Classifier Loss: 0.5426448583602905, Adversary Loss: 4.727169036865234\n",
      "Epoch 23, Classifier Loss: 0.7454832196235657, Adversary Loss: 4.692248344421387\n",
      "Epoch 24, Classifier Loss: 0.6047291159629822, Adversary Loss: 4.514752388000488\n",
      "Epoch 25, Classifier Loss: 0.5877549052238464, Adversary Loss: 4.802886962890625\n",
      "Epoch 26, Classifier Loss: 0.6146876215934753, Adversary Loss: 4.721126556396484\n",
      "Epoch 27, Classifier Loss: 0.5836878418922424, Adversary Loss: 4.467047691345215\n",
      "Epoch 28, Classifier Loss: 0.5774396657943726, Adversary Loss: 5.291825294494629\n",
      "Epoch 29, Classifier Loss: 0.6594173908233643, Adversary Loss: 4.569318771362305\n",
      "Epoch 30, Classifier Loss: 0.7018405795097351, Adversary Loss: 4.900823593139648\n",
      "Epoch 31, Classifier Loss: 0.591605544090271, Adversary Loss: 5.101733684539795\n",
      "Epoch 32, Classifier Loss: 0.7115136981010437, Adversary Loss: 5.153855323791504\n",
      "Epoch 33, Classifier Loss: 0.6365090608596802, Adversary Loss: 5.173415660858154\n",
      "Epoch 34, Classifier Loss: 0.5770799517631531, Adversary Loss: 4.924989700317383\n",
      "Epoch 35, Classifier Loss: 0.6430438756942749, Adversary Loss: 5.11977481842041\n",
      "Epoch 36, Classifier Loss: 0.5655721426010132, Adversary Loss: 4.319206237792969\n",
      "Epoch 37, Classifier Loss: 0.6768023371696472, Adversary Loss: 4.378891944885254\n",
      "Epoch 38, Classifier Loss: 0.7133004665374756, Adversary Loss: 4.571853160858154\n",
      "Epoch 39, Classifier Loss: 0.6111551523208618, Adversary Loss: 4.1397294998168945\n",
      "Epoch 40, Classifier Loss: 0.6219739317893982, Adversary Loss: 4.773235321044922\n"
     ]
    }
   ],
   "source": [
    "# Train both models together\n",
    "trainer.train(features, labels, protected_attributes, num_epochs=total_epochs, batch_size=batch_size)\n",
    "\n",
    "predicted_labels = trainer.predict(dataset_orig_test.features)"
   ]
  },
  {
   "cell_type": "markdown",
   "metadata": {},
   "source": [
    "#### Evaluate test set classification metrics after debiasing"
   ]
  },
  {
   "cell_type": "code",
   "execution_count": 13,
   "metadata": {},
   "outputs": [
    {
     "name": "stdout",
     "output_type": "stream",
     "text": [
      "Sensitive attribute :  sex \n",
      "\n",
      "\tEqual opportunity diff. : -0.06782807257363\n",
      "\tAv. Odds diff.          : -0.056150669204562464 \n",
      "\n",
      "\n",
      "Sensitive attribute :  race \n",
      "\n",
      "\tEqual opportunity diff. : -0.042509237289136026\n",
      "\tAv. Odds diff.          : -0.03371920122780872 \n",
      "\n",
      "\n",
      "Accuracy          :  0.6433081\n",
      "Balanced accuracy :  0.6382773277703147\n",
      "AUC score         :  0.6775512388205847\n"
     ]
    }
   ],
   "source": [
    "metrics = trainer.get_classification_metrics(dataset_orig_test)\n",
    "\n",
    "for key, classified_metric_debiasing_test in metrics.items():\n",
    "    print('Sensitive attribute : ', key, '\\n')\n",
    "\n",
    "    TPR = classified_metric_debiasing_test.true_positive_rate()\n",
    "    TNR = classified_metric_debiasing_test.true_negative_rate()\n",
    "    bal_acc_debiasing_test = 0.5*(TPR+TNR)\n",
    "    eod = classified_metric_debiasing_test.equal_opportunity_difference()\n",
    "    aod = classified_metric_debiasing_test.average_odds_difference()\n",
    "    ti = classified_metric_debiasing_test.theil_index()\n",
    "    print('\\tEqual opportunity diff. :', eod)\n",
    "    print('\\tAv. Odds diff.          :', aod, '\\n'*2)\n",
    "TPR = classified_metric_debiasing_test.true_positive_rate()\n",
    "TNR = classified_metric_debiasing_test.true_negative_rate()\n",
    "bal_acc_debiasing_test = 0.5*(TPR+TNR)\n",
    "\n",
    "\n",
    "\n",
    "print('Accuracy          : ', accuracy(predicted_labels, true_labels).numpy())\n",
    "print('Balanced accuracy : ', bal_acc_debiasing_test)\n",
    "print('AUC score         : ', roc_auc_score(true_labels, trainer.predict_proba(dataset_orig_test.features)))\n"
   ]
  },
  {
   "cell_type": "code",
   "execution_count": 14,
   "metadata": {},
   "outputs": [
    {
     "name": "stdout",
     "output_type": "stream",
     "text": [
      "Sensitive attribute :  sex\n",
      "Test set: Difference in mean outcomes between unprivileged and privileged groups = -0.102985\n",
      "\n",
      "\n",
      "Sensitive attribute :  race\n",
      "Test set: Difference in mean outcomes between unprivileged and privileged groups = -0.067732\n",
      "\n",
      "\n"
     ]
    }
   ],
   "source": [
    "dmetrics = trainer.get_dataset_metrics(dataset_orig_test)\n",
    "\n",
    "for key, classified_metric_debiasing_test in metrics.items():\n",
    "    print('Sensitive attribute : ', key)\n",
    "    print(\"Test set: Difference in mean outcomes between unprivileged and privileged groups = %f\" % classified_metric_debiasing_test.mean_difference())\n",
    "    print('\\n')"
   ]
  }
 ],
 "metadata": {
  "kernelspec": {
   "display_name": "design",
   "language": "python",
   "name": "python3"
  },
  "language_info": {
   "codemirror_mode": {
    "name": "ipython",
    "version": 3
   },
   "file_extension": ".py",
   "mimetype": "text/x-python",
   "name": "python",
   "nbconvert_exporter": "python",
   "pygments_lexer": "ipython3",
   "version": "3.8.17"
  }
 },
 "nbformat": 4,
 "nbformat_minor": 2
}
