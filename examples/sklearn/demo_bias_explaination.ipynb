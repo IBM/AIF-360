{
 "cells": [
  {
   "cell_type": "markdown",
   "metadata": {
    "id": "zyACqF5CQKUU"
   },
   "source": [
    "[![Open In Colab](https://colab.research.google.com/assets/colab-badge.svg)](https://colab.research.google.com/github/Trusted-AI/AIF360/blob/master/examples/sklearn/demo_new_features.ipynb)"
   ]
  },
  {
   "cell_type": "markdown",
   "metadata": {},
   "source": [
    "# Getting Started"
   ]
  },
  {
   "cell_type": "code",
   "execution_count": 1,
   "metadata": {
    "colab": {
     "base_uri": "https://localhost:8080/"
    },
    "id": "3P12Gr-RQW2e",
    "outputId": "4a6126f9-198f-4b88-c9cf-f44a932ecaf0"
   },
   "outputs": [],
   "source": [
    "#Install AIF360\n",
    "!pip install 'aif360'"
   ]
  },
  {
   "cell_type": "code",
   "execution_count": 1,
   "metadata": {
    "colab": {
     "base_uri": "https://localhost:8080/"
    },
    "id": "KFgI8U9ZQX7g",
    "outputId": "b47381c9-8f71-4e59-ee4d-e63730211573"
   },
   "outputs": [
    {
     "name": "stderr",
     "output_type": "stream",
     "text": [
      "WARNING:root:No module named 'tempeh': fetch_lawschool_gpa will be unavailable. To install, run:\n",
      "pip install 'aif360[LawSchoolGPA]'\n"
     ]
    }
   ],
   "source": [
    "%matplotlib inline\n",
    "import sys\n",
    "sys.path.append('../..')\n",
    "from aif360.sklearn.datasets import fetch_adult, fetch_compas, fetch_german\n",
    "from sklearn.model_selection import train_test_split\n",
    "from sklearn.linear_model import LogisticRegression\n",
    "from sklearn.metrics import accuracy_score\n",
    "from sklearn.preprocessing import MinMaxScaler\n",
    "# from aif360.metrics import statistical_parity_difference\n",
    "import pandas as pd\n",
    "import numpy as np"
   ]
  },
  {
   "attachments": {},
   "cell_type": "markdown",
   "metadata": {
    "id": "zHi_Esd7QKUW"
   },
   "source": [
    "## Loading data and configure sensitive features"
   ]
  },
  {
   "cell_type": "markdown",
   "metadata": {
    "id": "JBSgJWDJQKUX"
   },
   "source": [
    "Datasets are formatted as separate `X` (# samples x # features) and `y` (# samples x # labels) DataFrames. The index of each DataFrame contains protected attribute values per sample. Datasets may also load a `sample_weight` object to be used with certain algorithms/metrics. All of this makes it so that aif360 is compatible with scikit-learn objects.\n",
    "\n",
    "For example, we can easily load the Adult dataset from UCI with the following line:"
   ]
  },
  {
   "cell_type": "code",
   "execution_count": 2,
   "metadata": {
    "colab": {
     "base_uri": "https://localhost:8080/",
     "height": 238
    },
    "id": "CVuqa6BpQKUX",
    "outputId": "cc44625b-359a-46cd-fc15-cc15e90412b3"
   },
   "outputs": [
    {
     "data": {
      "text/html": [
       "<div>\n",
       "<style scoped>\n",
       "    .dataframe tbody tr th:only-of-type {\n",
       "        vertical-align: middle;\n",
       "    }\n",
       "\n",
       "    .dataframe tbody tr th {\n",
       "        vertical-align: top;\n",
       "    }\n",
       "\n",
       "    .dataframe thead th {\n",
       "        text-align: right;\n",
       "    }\n",
       "</style>\n",
       "<table border=\"1\" class=\"dataframe\">\n",
       "  <thead>\n",
       "    <tr style=\"text-align: right;\">\n",
       "      <th></th>\n",
       "      <th></th>\n",
       "      <th>sex</th>\n",
       "      <th>age</th>\n",
       "      <th>age_cat</th>\n",
       "      <th>race</th>\n",
       "      <th>juv_fel_count</th>\n",
       "      <th>juv_misd_count</th>\n",
       "      <th>juv_other_count</th>\n",
       "      <th>priors_count</th>\n",
       "      <th>c_charge_degree</th>\n",
       "    </tr>\n",
       "    <tr>\n",
       "      <th>sex</th>\n",
       "      <th>race</th>\n",
       "      <th></th>\n",
       "      <th></th>\n",
       "      <th></th>\n",
       "      <th></th>\n",
       "      <th></th>\n",
       "      <th></th>\n",
       "      <th></th>\n",
       "      <th></th>\n",
       "      <th></th>\n",
       "    </tr>\n",
       "  </thead>\n",
       "  <tbody>\n",
       "    <tr>\n",
       "      <th rowspan=\"3\" valign=\"top\">0</th>\n",
       "      <th>0.0</th>\n",
       "      <td>0</td>\n",
       "      <td>34</td>\n",
       "      <td>1</td>\n",
       "      <td>0.0</td>\n",
       "      <td>0</td>\n",
       "      <td>0</td>\n",
       "      <td>0</td>\n",
       "      <td>0</td>\n",
       "      <td>1</td>\n",
       "    </tr>\n",
       "    <tr>\n",
       "      <th>0.0</th>\n",
       "      <td>0</td>\n",
       "      <td>24</td>\n",
       "      <td>0</td>\n",
       "      <td>0.0</td>\n",
       "      <td>0</td>\n",
       "      <td>0</td>\n",
       "      <td>1</td>\n",
       "      <td>4</td>\n",
       "      <td>1</td>\n",
       "    </tr>\n",
       "    <tr>\n",
       "      <th>1.0</th>\n",
       "      <td>0</td>\n",
       "      <td>41</td>\n",
       "      <td>1</td>\n",
       "      <td>1.0</td>\n",
       "      <td>0</td>\n",
       "      <td>0</td>\n",
       "      <td>0</td>\n",
       "      <td>14</td>\n",
       "      <td>1</td>\n",
       "    </tr>\n",
       "    <tr>\n",
       "      <th>1</th>\n",
       "      <th>1.0</th>\n",
       "      <td>1</td>\n",
       "      <td>39</td>\n",
       "      <td>1</td>\n",
       "      <td>1.0</td>\n",
       "      <td>0</td>\n",
       "      <td>0</td>\n",
       "      <td>0</td>\n",
       "      <td>0</td>\n",
       "      <td>0</td>\n",
       "    </tr>\n",
       "    <tr>\n",
       "      <th>0</th>\n",
       "      <th>1.0</th>\n",
       "      <td>0</td>\n",
       "      <td>27</td>\n",
       "      <td>1</td>\n",
       "      <td>1.0</td>\n",
       "      <td>0</td>\n",
       "      <td>0</td>\n",
       "      <td>0</td>\n",
       "      <td>0</td>\n",
       "      <td>1</td>\n",
       "    </tr>\n",
       "  </tbody>\n",
       "</table>\n",
       "</div>"
      ],
      "text/plain": [
       "          sex  age  age_cat  race  juv_fel_count  juv_misd_count  \\\n",
       "sex race                                                           \n",
       "0   0.0     0   34        1   0.0              0               0   \n",
       "    0.0     0   24        0   0.0              0               0   \n",
       "    1.0     0   41        1   1.0              0               0   \n",
       "1   1.0     1   39        1   1.0              0               0   \n",
       "0   1.0     0   27        1   1.0              0               0   \n",
       "\n",
       "          juv_other_count  priors_count  c_charge_degree  \n",
       "sex race                                                  \n",
       "0   0.0                 0             0                1  \n",
       "    0.0                 1             4                1  \n",
       "    1.0                 0            14                1  \n",
       "1   1.0                 0             0                0  \n",
       "0   1.0                 0             0                1  "
      ]
     },
     "execution_count": 2,
     "metadata": {},
     "output_type": "execute_result"
    }
   ],
   "source": [
    "dataset = \"compas\" # choose between adult, compas, german\n",
    "\n",
    "sensitive_features_config = 0 # choose between 0, 1, 2\n",
    "sensitive_features_config_dic = {\n",
    "    \"adult\": {\n",
    "        0 : ['race'],\n",
    "        1 : ['sex'], \n",
    "        2 : ['race', 'sex']\n",
    "    },\n",
    "    \"compas\": {\n",
    "        0 : ['race'],\n",
    "        1 : ['sex'],\n",
    "        2 : ['race', 'sex']\n",
    "    },\n",
    "    \"german\": {\n",
    "        0 : ['sex'],\n",
    "        1 : ['age'],\n",
    "        2 : ['age', 'sex']\n",
    "    }\n",
    "}\n",
    "\n",
    "sensitive_features = sensitive_features_config_dic[dataset][sensitive_features_config]\n",
    "\n",
    "if(dataset == \"adult\"):\n",
    "    X, y, sample_weight = fetch_adult(numeric_only=True)\n",
    "elif(dataset == \"compas\"):\n",
    "    X, y = fetch_compas(numeric_only=True, binary_race=True)\n",
    "elif(dataset == \"german\"):\n",
    "    X, y = fetch_german(numeric_only=True)\n",
    "    # make age binary if age is used as sensitive feature\n",
    "    if('age' in sensitive_features):\n",
    "        X['age'] = X['age'] > 25\n",
    "else:\n",
    "    raise ValueError(\"Unknown dataset\")\n",
    "\n",
    "X.head()"
   ]
  },
  {
   "cell_type": "markdown",
   "metadata": {
    "id": "YoUxNPTHQKUY"
   },
   "source": [
    "We can then map the protected attributes to integers,"
   ]
  },
  {
   "cell_type": "code",
   "execution_count": 3,
   "metadata": {
    "id": "KoIzyUpIQKUY"
   },
   "outputs": [],
   "source": [
    "X.index = pd.MultiIndex.from_arrays(X.index.codes, names=X.index.names)\n",
    "y.index = pd.MultiIndex.from_arrays(y.index.codes, names=y.index.names)"
   ]
  },
  {
   "attachments": {},
   "cell_type": "markdown",
   "metadata": {
    "id": "FpMD-pRaQKUY"
   },
   "source": [
    "and the target classes to 0/1,"
   ]
  },
  {
   "cell_type": "code",
   "execution_count": 4,
   "metadata": {
    "id": "4FuupoA3QKUY"
   },
   "outputs": [],
   "source": [
    "y = pd.Series(y.factorize(sort=True)[0], index=y.index)"
   ]
  },
  {
   "attachments": {},
   "cell_type": "markdown",
   "metadata": {},
   "source": [
    "Scale the dataset so that features are within [0, 1]"
   ]
  },
  {
   "cell_type": "code",
   "execution_count": 5,
   "metadata": {},
   "outputs": [
    {
     "data": {
      "text/html": [
       "<div>\n",
       "<style scoped>\n",
       "    .dataframe tbody tr th:only-of-type {\n",
       "        vertical-align: middle;\n",
       "    }\n",
       "\n",
       "    .dataframe tbody tr th {\n",
       "        vertical-align: top;\n",
       "    }\n",
       "\n",
       "    .dataframe thead th {\n",
       "        text-align: right;\n",
       "    }\n",
       "</style>\n",
       "<table border=\"1\" class=\"dataframe\">\n",
       "  <thead>\n",
       "    <tr style=\"text-align: right;\">\n",
       "      <th></th>\n",
       "      <th></th>\n",
       "      <th>sex</th>\n",
       "      <th>age</th>\n",
       "      <th>age_cat</th>\n",
       "      <th>race</th>\n",
       "      <th>juv_fel_count</th>\n",
       "      <th>juv_misd_count</th>\n",
       "      <th>juv_other_count</th>\n",
       "      <th>priors_count</th>\n",
       "      <th>c_charge_degree</th>\n",
       "    </tr>\n",
       "    <tr>\n",
       "      <th>sex</th>\n",
       "      <th>race</th>\n",
       "      <th></th>\n",
       "      <th></th>\n",
       "      <th></th>\n",
       "      <th></th>\n",
       "      <th></th>\n",
       "      <th></th>\n",
       "      <th></th>\n",
       "      <th></th>\n",
       "      <th></th>\n",
       "    </tr>\n",
       "  </thead>\n",
       "  <tbody>\n",
       "    <tr>\n",
       "      <th rowspan=\"3\" valign=\"top\">0</th>\n",
       "      <th>0</th>\n",
       "      <td>0.0</td>\n",
       "      <td>0.258065</td>\n",
       "      <td>0.5</td>\n",
       "      <td>0.0</td>\n",
       "      <td>0.0</td>\n",
       "      <td>0.0</td>\n",
       "      <td>0.000000</td>\n",
       "      <td>0.000000</td>\n",
       "      <td>1.0</td>\n",
       "    </tr>\n",
       "    <tr>\n",
       "      <th>0</th>\n",
       "      <td>0.0</td>\n",
       "      <td>0.096774</td>\n",
       "      <td>0.0</td>\n",
       "      <td>0.0</td>\n",
       "      <td>0.0</td>\n",
       "      <td>0.0</td>\n",
       "      <td>0.142857</td>\n",
       "      <td>0.105263</td>\n",
       "      <td>1.0</td>\n",
       "    </tr>\n",
       "    <tr>\n",
       "      <th>1</th>\n",
       "      <td>0.0</td>\n",
       "      <td>0.370968</td>\n",
       "      <td>0.5</td>\n",
       "      <td>1.0</td>\n",
       "      <td>0.0</td>\n",
       "      <td>0.0</td>\n",
       "      <td>0.000000</td>\n",
       "      <td>0.368421</td>\n",
       "      <td>1.0</td>\n",
       "    </tr>\n",
       "    <tr>\n",
       "      <th>1</th>\n",
       "      <th>1</th>\n",
       "      <td>1.0</td>\n",
       "      <td>0.338710</td>\n",
       "      <td>0.5</td>\n",
       "      <td>1.0</td>\n",
       "      <td>0.0</td>\n",
       "      <td>0.0</td>\n",
       "      <td>0.000000</td>\n",
       "      <td>0.000000</td>\n",
       "      <td>0.0</td>\n",
       "    </tr>\n",
       "    <tr>\n",
       "      <th>0</th>\n",
       "      <th>1</th>\n",
       "      <td>0.0</td>\n",
       "      <td>0.145161</td>\n",
       "      <td>0.5</td>\n",
       "      <td>1.0</td>\n",
       "      <td>0.0</td>\n",
       "      <td>0.0</td>\n",
       "      <td>0.000000</td>\n",
       "      <td>0.000000</td>\n",
       "      <td>1.0</td>\n",
       "    </tr>\n",
       "  </tbody>\n",
       "</table>\n",
       "</div>"
      ],
      "text/plain": [
       "          sex       age  age_cat  race  juv_fel_count  juv_misd_count  \\\n",
       "sex race                                                                \n",
       "0   0     0.0  0.258065      0.5   0.0            0.0             0.0   \n",
       "    0     0.0  0.096774      0.0   0.0            0.0             0.0   \n",
       "    1     0.0  0.370968      0.5   1.0            0.0             0.0   \n",
       "1   1     1.0  0.338710      0.5   1.0            0.0             0.0   \n",
       "0   1     0.0  0.145161      0.5   1.0            0.0             0.0   \n",
       "\n",
       "          juv_other_count  priors_count  c_charge_degree  \n",
       "sex race                                                  \n",
       "0   0            0.000000      0.000000              1.0  \n",
       "    0            0.142857      0.105263              1.0  \n",
       "    1            0.000000      0.368421              1.0  \n",
       "1   1            0.000000      0.000000              0.0  \n",
       "0   1            0.000000      0.000000              1.0  "
      ]
     },
     "execution_count": 5,
     "metadata": {},
     "output_type": "execute_result"
    }
   ],
   "source": [
    "scaler = MinMaxScaler()\n",
    "X[X.columns] = scaler.fit_transform(X[X.columns])\n",
    "X.head()"
   ]
  },
  {
   "cell_type": "markdown",
   "metadata": {
    "id": "3T-NvfWyQKUZ"
   },
   "source": [
    "split the dataset,"
   ]
  },
  {
   "cell_type": "code",
   "execution_count": 6,
   "metadata": {
    "id": "Vc4qGCNGQKUZ"
   },
   "outputs": [],
   "source": [
    "(X_train, X_test,\n",
    " y_train, y_test) = train_test_split(X, y, train_size=0.7, random_state=1234567)\n"
   ]
  },
  {
   "cell_type": "markdown",
   "metadata": {
    "id": "8bMlpomVQKUa"
   },
   "source": [
    "The protected attribute information is also replicated in the labels:"
   ]
  },
  {
   "cell_type": "code",
   "execution_count": 7,
   "metadata": {
    "colab": {
     "base_uri": "https://localhost:8080/"
    },
    "id": "HSpthk1lQKUa",
    "outputId": "b98fb738-2dd1-44b7-fe64-2dbbcb59a6a2"
   },
   "outputs": [
    {
     "data": {
      "text/plain": [
       "sex  race\n",
       "1    0       0\n",
       "     1       0\n",
       "0    1       0\n",
       "     0       1\n",
       "1    0       0\n",
       "dtype: int64"
      ]
     },
     "execution_count": 7,
     "metadata": {},
     "output_type": "execute_result"
    }
   ],
   "source": [
    "y_train.head()"
   ]
  },
  {
   "attachments": {},
   "cell_type": "markdown",
   "metadata": {
    "id": "13UfQJx_QKUb"
   },
   "source": [
    "## Explaining bias of a classifier on our dataset"
   ]
  },
  {
   "cell_type": "markdown",
   "metadata": {
    "id": "iMTOzFVLQKUb"
   },
   "source": [
    "With the data in this format, we can easily train a scikit-learn model and get predictions for the test data:"
   ]
  },
  {
   "cell_type": "code",
   "execution_count": 8,
   "metadata": {
    "colab": {
     "base_uri": "https://localhost:8080/"
    },
    "id": "tHeMqub4QKUb",
    "outputId": "7b06fd6c-bbc9-45d4-b6f2-daf3455a44fa"
   },
   "outputs": [
    {
     "name": "stdout",
     "output_type": "stream",
     "text": [
      "0.6736111111111112\n"
     ]
    }
   ],
   "source": [
    "clf = LogisticRegression(solver='liblinear').fit(X_train, y_train)\n",
    "y_pred = clf.predict(X_test)\n",
    "print(accuracy_score(y_test, y_pred))"
   ]
  },
  {
   "attachments": {},
   "cell_type": "markdown",
   "metadata": {},
   "source": [
    "### Explaining statistical parity"
   ]
  },
  {
   "attachments": {},
   "cell_type": "markdown",
   "metadata": {},
   "source": [
    "Now we are ready to explain the bias of the classifier based on global sensitivity analysis, which provides a variance decomposition approach to compute the Fairness Influence Functions (FIF) of independent features and the intersection of multiple features [1]. \n",
    "\n",
    "\n",
    "We start with statistical parity fairness metric, which belongs to independence group fairness.\n",
    "\n",
    "$$\n",
    "\\textbf{Statistical parity } = \\max_{\\mathbf{a}} \\Pr[\\widehat{Y} = 1 | \\mathbf{A} = \\mathbf{a}] - \\min_{\\mathbf{a}} \\Pr[\\widehat{Y} = 1 | \\mathbf{A} = \\mathbf{a}]\n",
    "$$\n",
    "\n",
    "where $ \\mathbf{A} $ is the set of sensitive features."
   ]
  },
  {
   "cell_type": "code",
   "execution_count": 9,
   "metadata": {},
   "outputs": [
    {
     "name": "stdout",
     "output_type": "stream",
     "text": [
      "\n",
      "\n",
      "\n",
      "c Decomposition for  race = 0.0\n",
      "c positive prediction probability of  race = 0.0 is 0.552643470402169\n",
      "c sample shape: (2213, 9)\n",
      "c sensitive group: race = 0.0\n",
      "c variance of Y 0.24722866502401591\n",
      "c mean of Y 0.552643470402169\n",
      "\n",
      "\n",
      "\n",
      "c Decomposition for  race = 1.0\n",
      "c positive prediction probability of  race = 1.0 is 0.24240378122889938\n",
      "c sample shape: (1481, 9)\n",
      "c sensitive group: race = 1.0\n",
      "c variance of Y 0.18364418807483127\n",
      "c mean of Y 0.24240378122889938\n",
      "\n",
      "c Exact statistical parity 0.3102396891732696\n"
     ]
    }
   ],
   "source": [
    "from aif360.sklearn.explainers.bias_explainer import explain_statistical_parity, explain_equalized_odds, explain_predictive_parity, draw_plot\n",
    "\n",
    "result, bias = explain_statistical_parity(\n",
    "                clf, # the trained model, clf.predict() has to be implemented\n",
    "                X_train, # choose any dataset you want, the resultant explanation will be with respect to that dataset\n",
    "                sensitive_features=sensitive_features, \n",
    "                maxorder=2, # choose between 1, 2, 3. The higher the value, explanation captures higher interactions among features\n",
    "                spline_intervals=4, # choose 3, 4, 5, 6, ... The higher the value, the more accurate the explanation incurring higher computational cost\n",
    "                verbose=True # choose between True, False\n",
    ")"
   ]
  },
  {
   "cell_type": "code",
   "execution_count": 10,
   "metadata": {},
   "outputs": [
    {
     "data": {
      "image/png": "[encoded data removed]",
      "text/plain": [
       "<Figure size 720x360 with 1 Axes>"
      ]
     },
     "metadata": {
      "needs_background": "light"
     },
     "output_type": "display_data"
    },
    {
     "data": {
      "text/plain": [
       "<Figure size 720x360 with 0 Axes>"
      ]
     },
     "metadata": {},
     "output_type": "display_data"
    }
   ],
   "source": [
    "plt = draw_plot(\n",
    "    result, \n",
    "    draw_waterfall=True, \n",
    "    fontsize=22, \n",
    "    labelsize=18, \n",
    "    figure_size=(10, 5), \n",
    "    title=\"Exact statistical parity: {}\".format(round(bias, 3)), \n",
    "    xlim=None,\n",
    "    x_label=\"Influence on statistical parity\", \n",
    "    text_x_pad=0.02, \n",
    "    text_y_pad=0.1, \n",
    "    result_x_pad=0.02, \n",
    "    result_y_location=0.5, \n",
    "    delete_zero_weights=False\n",
    "    )\n",
    "plt.show()\n",
    "plt.clf()"
   ]
  },
  {
   "attachments": {},
   "cell_type": "markdown",
   "metadata": {},
   "source": [
    "### Explaining equalized odds"
   ]
  },
  {
   "attachments": {},
   "cell_type": "markdown",
   "metadata": {},
   "source": [
    "Next, we explain equalized odds, which belongs to separation group fairness metrics.\n",
    "\n",
    "$$\n",
    "\\textbf{Equalized odds } = \\max_{y \\in [0, 1]}(\\max_{\\mathbf{a}} \\Pr[\\widehat{Y} = 1 | Y = y, \\mathbf{A} = \\mathbf{a}] - \\min_{\\mathbf{a}} \\Pr[\\widehat{Y} = 1 | Y = y, \\mathbf{A} = \\mathbf{a}])\n",
    "$$"
   ]
  },
  {
   "cell_type": "code",
   "execution_count": 11,
   "metadata": {},
   "outputs": [],
   "source": [
    "results, bias_values = explain_equalized_odds(\n",
    "                    clf, \n",
    "                    X_train, \n",
    "                    y_train, # For equalized odds, we need to pass the true labels as well\n",
    "                    sensitive_features=sensitive_features, \n",
    "                    maxorder=2,\n",
    "                    spline_intervals=4,\n",
    "                    verbose=False)\n",
    "# Since there are two class labels, results and bias_values are lists of length 2"
   ]
  },
  {
   "cell_type": "code",
   "execution_count": 12,
   "metadata": {},
   "outputs": [
    {
     "data": {
      "image/png": "[encoded data removed]",
      "text/plain": [
       "<Figure size 720x360 with 1 Axes>"
      ]
     },
     "metadata": {
      "needs_background": "light"
     },
     "output_type": "display_data"
    },
    {
     "data": {
      "text/plain": [
       "<Figure size 720x360 with 0 Axes>"
      ]
     },
     "metadata": {},
     "output_type": "display_data"
    }
   ],
   "source": [
    "index_max_unfairness = np.argmax(bias_values) # we choose the class label with the highest bias for equalized odds\n",
    "plt = draw_plot(results[index_max_unfairness], \n",
    "                draw_waterfall=True, \n",
    "                fontsize=22, \n",
    "                labelsize=18, \n",
    "                figure_size=(10, 5), \n",
    "                title=\"Exact equalized odds: {}\".format(round(bias_values[index_max_unfairness], 3)), \n",
    "                xlim=None,\n",
    "                x_label=\"Influence on equalized odds\", \n",
    "                text_x_pad=0.02, \n",
    "                text_y_pad=0.1, \n",
    "                result_x_pad=0.02, \n",
    "                result_y_location=0.5, \n",
    "                delete_zero_weights=False\n",
    ")\n",
    "plt.show()\n",
    "plt.clf()"
   ]
  },
  {
   "attachments": {},
   "cell_type": "markdown",
   "metadata": {},
   "source": [
    "### Explaining predictive parity"
   ]
  },
  {
   "attachments": {},
   "cell_type": "markdown",
   "metadata": {},
   "source": [
    "Finally, we explain predictive parity, which belongs to sufficiency group fairness metrics.\n",
    "$$\n",
    "\\textbf{Predictive parity } = \\max_{y \\in [0, 1]}(\\max_{\\mathbf{a}} \\Pr[Y = 1 | \\widehat{Y} = y, \\mathbf{A} = \\mathbf{a}] - \\min_{\\mathbf{a}} \\Pr[Y = 1 | \\widehat{Y} = y, \\mathbf{A} = \\mathbf{a}])\n",
    "$$\n"
   ]
  },
  {
   "cell_type": "code",
   "execution_count": 13,
   "metadata": {},
   "outputs": [],
   "source": [
    "results, bias_values = explain_predictive_parity(\n",
    "            clf, \n",
    "            X_train, \n",
    "            y_train, # For predictive parity, we need to pass the true labels as well\n",
    "            sensitive_features=sensitive_features, \n",
    "            maxorder=2, \n",
    "            spline_intervals=4,\n",
    "            verbose=False)"
   ]
  },
  {
   "cell_type": "code",
   "execution_count": 14,
   "metadata": {},
   "outputs": [
    {
     "data": {
      "image/png": "[encoded data removed]",
      "text/plain": [
       "<Figure size 720x360 with 1 Axes>"
      ]
     },
     "metadata": {
      "needs_background": "light"
     },
     "output_type": "display_data"
    },
    {
     "data": {
      "text/plain": [
       "<Figure size 720x360 with 0 Axes>"
      ]
     },
     "metadata": {},
     "output_type": "display_data"
    }
   ],
   "source": [
    "index_max_unfairness = np.argmax(bias_values)\n",
    "plt = draw_plot(results[index_max_unfairness],\n",
    "                draw_waterfall=True,\n",
    "                fontsize=22,\n",
    "                labelsize=18,\n",
    "                figure_size=(10, 5),\n",
    "                title=\"Exact predictive parity: {}\".format(round(bias_values[index_max_unfairness], 3)),\n",
    "                xlim=None,\n",
    "                x_label=\"Influence on predictive parity\",\n",
    "                text_x_pad=0.02,\n",
    "                text_y_pad=0.1,\n",
    "                result_x_pad=0.02,\n",
    "                result_y_location=0.5,\n",
    "                delete_zero_weights=False\n",
    ")\n",
    "plt.show()\n",
    "plt.clf()\n"
   ]
  },
  {
   "attachments": {},
   "cell_type": "markdown",
   "metadata": {},
   "source": [
    "Reference:\n",
    "\n",
    "[1] Ghosh, B., Basu, D., & Meel, K. S. (2022). How Biased are Your Features?: Computing Fairness Influence Functions with Global Sensitivity Analysis. arXiv preprint arXiv:2206.00667."
   ]
  },
  {
   "cell_type": "code",
   "execution_count": null,
   "metadata": {},
   "outputs": [],
   "source": []
  }
 ],
 "metadata": {
  "kernelspec": {
   "display_name": "Python 3",
   "language": "python",
   "name": "python3"
  },
  "language_info": {
   "codemirror_mode": {
    "name": "ipython",
    "version": 3
   },
   "file_extension": ".py",
   "mimetype": "text/x-python",
   "name": "python",
   "nbconvert_exporter": "python",
   "pygments_lexer": "ipython3",
   "version": "3.7.6"
  },
  "vscode": {
   "interpreter": {
    "hash": "d0c5ced7753e77a483fec8ff7063075635521cce6e0bd54998c8f174742209dd"
   }
  }
 },
 "nbformat": 4,
 "nbformat_minor": 2
}
