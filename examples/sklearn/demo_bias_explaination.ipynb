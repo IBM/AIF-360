{
 "cells": [
  {
   "cell_type": "markdown",
   "metadata": {
    "id": "zyACqF5CQKUU"
   },
   "source": [
    "[![Open In Colab](https://colab.research.google.com/assets/colab-badge.svg)](https://colab.research.google.com/github/Trusted-AI/AIF360/blob/master/examples/sklearn/demo_new_features.ipynb)"
   ]
  },
  {
   "cell_type": "markdown",
   "metadata": {},
   "source": [
    "# Getting Started"
   ]
  },
  {
   "cell_type": "code",
   "execution_count": 1,
   "metadata": {
    "colab": {
     "base_uri": "https://localhost:8080/"
    },
    "id": "3P12Gr-RQW2e",
    "outputId": "4a6126f9-198f-4b88-c9cf-f44a932ecaf0"
   },
   "outputs": [],
   "source": [
    "#Install AIF360\n",
    "!pip install 'aif360'"
   ]
  },
  {
   "cell_type": "code",
   "execution_count": 1,
   "metadata": {
    "colab": {
     "base_uri": "https://localhost:8080/"
    },
    "id": "KFgI8U9ZQX7g",
    "outputId": "b47381c9-8f71-4e59-ee4d-e63730211573"
   },
   "outputs": [
    {
     "name": "stderr",
     "output_type": "stream",
     "text": [
      "WARNING:root:No module named 'rpy2': FairAdapt will be unavailable. To install, run:\n",
      "pip install 'aif360[FairAdapt]'\n",
      "WARNING:root:No module named 'tempeh': fetch_lawschool_gpa will be unavailable. To install, run:\n",
      "pip install 'aif360[LawSchoolGPA]'\n"
     ]
    }
   ],
   "source": [
    "%matplotlib inline\n",
    "import matplotlib.pyplot as plt\n",
    "import numpy as np\n",
    "import pandas as pd\n",
    "import tensorflow.compat.v1 as tf\n",
    "tf.disable_eager_execution()\n",
    "tf.logging.set_verbosity(tf.logging.ERROR)\n",
    "\n",
    "from sklearn.compose import make_column_transformer\n",
    "from sklearn.linear_model import LogisticRegression\n",
    "from sklearn.metrics import accuracy_score\n",
    "from sklearn.model_selection import GridSearchCV, train_test_split\n",
    "from sklearn.preprocessing import OneHotEncoder\n",
    "\n",
    "import sys\n",
    "sys.path.append('../..')\n",
    "\n",
    "from aif360.sklearn.preprocessing import Reweighing, ReweighingMeta\n",
    "# from aif360.sklearn.inprocessing import AdversarialDebiasing\n",
    "from aif360.sklearn.postprocessing import CalibratedEqualizedOdds, PostProcessingMeta\n",
    "from aif360.sklearn.datasets import fetch_adult, fetch_compas\n",
    "from aif360.sklearn.metrics import disparate_impact_ratio, average_odds_error, generalized_fpr, statistical_parity_difference\n",
    "from aif360.sklearn.metrics import generalized_fnr, difference"
   ]
  },
  {
   "cell_type": "markdown",
   "metadata": {
    "id": "zHi_Esd7QKUW"
   },
   "source": [
    "## Loading data"
   ]
  },
  {
   "cell_type": "markdown",
   "metadata": {
    "id": "JBSgJWDJQKUX"
   },
   "source": [
    "Datasets are formatted as separate `X` (# samples x # features) and `y` (# samples x # labels) DataFrames. The index of each DataFrame contains protected attribute values per sample. Datasets may also load a `sample_weight` object to be used with certain algorithms/metrics. All of this makes it so that aif360 is compatible with scikit-learn objects.\n",
    "\n",
    "For example, we can easily load the Adult dataset from UCI with the following line:"
   ]
  },
  {
   "cell_type": "code",
   "execution_count": 4,
   "metadata": {
    "colab": {
     "base_uri": "https://localhost:8080/",
     "height": 238
    },
    "id": "CVuqa6BpQKUX",
    "outputId": "cc44625b-359a-46cd-fc15-cc15e90412b3"
   },
   "outputs": [
    {
     "name": "stderr",
     "output_type": "stream",
     "text": [
      "../../aif360/sklearn/datasets/utils.py:110: NumericConversionWarning: index contains non-numeric:\n",
      "sex        int64\n",
      "race    category\n",
      "dtype: object\n",
      "  category=NumericConversionWarning)\n"
     ]
    },
    {
     "data": {
      "text/html": [
       "<div>\n",
       "<style scoped>\n",
       "    .dataframe tbody tr th:only-of-type {\n",
       "        vertical-align: middle;\n",
       "    }\n",
       "\n",
       "    .dataframe tbody tr th {\n",
       "        vertical-align: top;\n",
       "    }\n",
       "\n",
       "    .dataframe thead th {\n",
       "        text-align: right;\n",
       "    }\n",
       "</style>\n",
       "<table border=\"1\" class=\"dataframe\">\n",
       "  <thead>\n",
       "    <tr style=\"text-align: right;\">\n",
       "      <th></th>\n",
       "      <th></th>\n",
       "      <th>sex</th>\n",
       "      <th>age</th>\n",
       "      <th>age_cat</th>\n",
       "      <th>juv_fel_count</th>\n",
       "      <th>juv_misd_count</th>\n",
       "      <th>juv_other_count</th>\n",
       "      <th>priors_count</th>\n",
       "      <th>c_charge_degree</th>\n",
       "    </tr>\n",
       "    <tr>\n",
       "      <th>sex</th>\n",
       "      <th>race</th>\n",
       "      <th></th>\n",
       "      <th></th>\n",
       "      <th></th>\n",
       "      <th></th>\n",
       "      <th></th>\n",
       "      <th></th>\n",
       "      <th></th>\n",
       "      <th></th>\n",
       "    </tr>\n",
       "  </thead>\n",
       "  <tbody>\n",
       "    <tr>\n",
       "      <th rowspan=\"5\" valign=\"top\">0</th>\n",
       "      <th>Other</th>\n",
       "      <td>0</td>\n",
       "      <td>69</td>\n",
       "      <td>2</td>\n",
       "      <td>0</td>\n",
       "      <td>0</td>\n",
       "      <td>0</td>\n",
       "      <td>0</td>\n",
       "      <td>1</td>\n",
       "    </tr>\n",
       "    <tr>\n",
       "      <th>African-American</th>\n",
       "      <td>0</td>\n",
       "      <td>34</td>\n",
       "      <td>1</td>\n",
       "      <td>0</td>\n",
       "      <td>0</td>\n",
       "      <td>0</td>\n",
       "      <td>0</td>\n",
       "      <td>1</td>\n",
       "    </tr>\n",
       "    <tr>\n",
       "      <th>African-American</th>\n",
       "      <td>0</td>\n",
       "      <td>24</td>\n",
       "      <td>0</td>\n",
       "      <td>0</td>\n",
       "      <td>0</td>\n",
       "      <td>1</td>\n",
       "      <td>4</td>\n",
       "      <td>1</td>\n",
       "    </tr>\n",
       "    <tr>\n",
       "      <th>Other</th>\n",
       "      <td>0</td>\n",
       "      <td>44</td>\n",
       "      <td>1</td>\n",
       "      <td>0</td>\n",
       "      <td>0</td>\n",
       "      <td>0</td>\n",
       "      <td>0</td>\n",
       "      <td>0</td>\n",
       "    </tr>\n",
       "    <tr>\n",
       "      <th>Caucasian</th>\n",
       "      <td>0</td>\n",
       "      <td>41</td>\n",
       "      <td>1</td>\n",
       "      <td>0</td>\n",
       "      <td>0</td>\n",
       "      <td>0</td>\n",
       "      <td>14</td>\n",
       "      <td>1</td>\n",
       "    </tr>\n",
       "  </tbody>\n",
       "</table>\n",
       "</div>"
      ],
      "text/plain": [
       "                      sex  age  age_cat  juv_fel_count  juv_misd_count  \\\n",
       "sex race                                                                 \n",
       "0   Other               0   69        2              0               0   \n",
       "    African-American    0   34        1              0               0   \n",
       "    African-American    0   24        0              0               0   \n",
       "    Other               0   44        1              0               0   \n",
       "    Caucasian           0   41        1              0               0   \n",
       "\n",
       "                      juv_other_count  priors_count  c_charge_degree  \n",
       "sex race                                                              \n",
       "0   Other                           0             0                1  \n",
       "    African-American                0             0                1  \n",
       "    African-American                1             4                1  \n",
       "    Other                           0             0                0  \n",
       "    Caucasian                       0            14                1  "
      ]
     },
     "execution_count": 4,
     "metadata": {},
     "output_type": "execute_result"
    }
   ],
   "source": [
    "# X, y, sample_weight = fetch_adult(numeric_only=True)\n",
    "X, y = fetch_compas(numeric_only=True)\n",
    "X.head()"
   ]
  },
  {
   "cell_type": "markdown",
   "metadata": {
    "id": "YoUxNPTHQKUY"
   },
   "source": [
    "We can then map the protected attributes to integers,"
   ]
  },
  {
   "cell_type": "code",
   "execution_count": 5,
   "metadata": {
    "id": "KoIzyUpIQKUY"
   },
   "outputs": [],
   "source": [
    "X.index = pd.MultiIndex.from_arrays(X.index.codes, names=X.index.names)\n",
    "y.index = pd.MultiIndex.from_arrays(y.index.codes, names=y.index.names)"
   ]
  },
  {
   "attachments": {},
   "cell_type": "markdown",
   "metadata": {
    "id": "FpMD-pRaQKUY"
   },
   "source": [
    "and the target classes to 0/1,"
   ]
  },
  {
   "cell_type": "code",
   "execution_count": 6,
   "metadata": {
    "id": "4FuupoA3QKUY"
   },
   "outputs": [],
   "source": [
    "y = pd.Series(y.factorize(sort=True)[0], index=y.index)"
   ]
  },
  {
   "attachments": {},
   "cell_type": "markdown",
   "metadata": {},
   "source": [
    "Scale the dataset so that features are within [0, 1]"
   ]
  },
  {
   "cell_type": "code",
   "execution_count": 7,
   "metadata": {},
   "outputs": [
    {
     "data": {
      "text/html": [
       "<div>\n",
       "<style scoped>\n",
       "    .dataframe tbody tr th:only-of-type {\n",
       "        vertical-align: middle;\n",
       "    }\n",
       "\n",
       "    .dataframe tbody tr th {\n",
       "        vertical-align: top;\n",
       "    }\n",
       "\n",
       "    .dataframe thead th {\n",
       "        text-align: right;\n",
       "    }\n",
       "</style>\n",
       "<table border=\"1\" class=\"dataframe\">\n",
       "  <thead>\n",
       "    <tr style=\"text-align: right;\">\n",
       "      <th></th>\n",
       "      <th></th>\n",
       "      <th>sex</th>\n",
       "      <th>age</th>\n",
       "      <th>age_cat</th>\n",
       "      <th>juv_fel_count</th>\n",
       "      <th>juv_misd_count</th>\n",
       "      <th>juv_other_count</th>\n",
       "      <th>priors_count</th>\n",
       "      <th>c_charge_degree</th>\n",
       "    </tr>\n",
       "    <tr>\n",
       "      <th>sex</th>\n",
       "      <th>race</th>\n",
       "      <th></th>\n",
       "      <th></th>\n",
       "      <th></th>\n",
       "      <th></th>\n",
       "      <th></th>\n",
       "      <th></th>\n",
       "      <th></th>\n",
       "      <th></th>\n",
       "    </tr>\n",
       "  </thead>\n",
       "  <tbody>\n",
       "    <tr>\n",
       "      <th rowspan=\"9\" valign=\"top\">0</th>\n",
       "      <th>5</th>\n",
       "      <td>0.0</td>\n",
       "      <td>0.653846</td>\n",
       "      <td>1.0</td>\n",
       "      <td>0.0</td>\n",
       "      <td>0.0</td>\n",
       "      <td>0.000000</td>\n",
       "      <td>0.000000</td>\n",
       "      <td>1.0</td>\n",
       "    </tr>\n",
       "    <tr>\n",
       "      <th>0</th>\n",
       "      <td>0.0</td>\n",
       "      <td>0.205128</td>\n",
       "      <td>0.5</td>\n",
       "      <td>0.0</td>\n",
       "      <td>0.0</td>\n",
       "      <td>0.000000</td>\n",
       "      <td>0.000000</td>\n",
       "      <td>1.0</td>\n",
       "    </tr>\n",
       "    <tr>\n",
       "      <th>0</th>\n",
       "      <td>0.0</td>\n",
       "      <td>0.076923</td>\n",
       "      <td>0.0</td>\n",
       "      <td>0.0</td>\n",
       "      <td>0.0</td>\n",
       "      <td>0.111111</td>\n",
       "      <td>0.105263</td>\n",
       "      <td>1.0</td>\n",
       "    </tr>\n",
       "    <tr>\n",
       "      <th>5</th>\n",
       "      <td>0.0</td>\n",
       "      <td>0.333333</td>\n",
       "      <td>0.5</td>\n",
       "      <td>0.0</td>\n",
       "      <td>0.0</td>\n",
       "      <td>0.000000</td>\n",
       "      <td>0.000000</td>\n",
       "      <td>0.0</td>\n",
       "    </tr>\n",
       "    <tr>\n",
       "      <th>2</th>\n",
       "      <td>0.0</td>\n",
       "      <td>0.294872</td>\n",
       "      <td>0.5</td>\n",
       "      <td>0.0</td>\n",
       "      <td>0.0</td>\n",
       "      <td>0.000000</td>\n",
       "      <td>0.368421</td>\n",
       "      <td>1.0</td>\n",
       "    </tr>\n",
       "    <tr>\n",
       "      <th>...</th>\n",
       "      <td>...</td>\n",
       "      <td>...</td>\n",
       "      <td>...</td>\n",
       "      <td>...</td>\n",
       "      <td>...</td>\n",
       "      <td>...</td>\n",
       "      <td>...</td>\n",
       "      <td>...</td>\n",
       "    </tr>\n",
       "    <tr>\n",
       "      <th>0</th>\n",
       "      <td>0.0</td>\n",
       "      <td>0.064103</td>\n",
       "      <td>0.0</td>\n",
       "      <td>0.0</td>\n",
       "      <td>0.0</td>\n",
       "      <td>0.000000</td>\n",
       "      <td>0.000000</td>\n",
       "      <td>1.0</td>\n",
       "    </tr>\n",
       "    <tr>\n",
       "      <th>0</th>\n",
       "      <td>0.0</td>\n",
       "      <td>0.064103</td>\n",
       "      <td>0.0</td>\n",
       "      <td>0.0</td>\n",
       "      <td>0.0</td>\n",
       "      <td>0.000000</td>\n",
       "      <td>0.000000</td>\n",
       "      <td>1.0</td>\n",
       "    </tr>\n",
       "    <tr>\n",
       "      <th>5</th>\n",
       "      <td>0.0</td>\n",
       "      <td>0.500000</td>\n",
       "      <td>1.0</td>\n",
       "      <td>0.0</td>\n",
       "      <td>0.0</td>\n",
       "      <td>0.000000</td>\n",
       "      <td>0.000000</td>\n",
       "      <td>1.0</td>\n",
       "    </tr>\n",
       "    <tr>\n",
       "      <th rowspan=\"2\" valign=\"top\">1</th>\n",
       "      <th>0</th>\n",
       "      <td>1.0</td>\n",
       "      <td>0.192308</td>\n",
       "      <td>0.5</td>\n",
       "      <td>0.0</td>\n",
       "      <td>0.0</td>\n",
       "      <td>0.000000</td>\n",
       "      <td>0.078947</td>\n",
       "      <td>0.0</td>\n",
       "    </tr>\n",
       "    <tr>\n",
       "      <th>3</th>\n",
       "      <td>1.0</td>\n",
       "      <td>0.064103</td>\n",
       "      <td>0.0</td>\n",
       "      <td>0.0</td>\n",
       "      <td>0.0</td>\n",
       "      <td>0.000000</td>\n",
       "      <td>0.052632</td>\n",
       "      <td>1.0</td>\n",
       "    </tr>\n",
       "  </tbody>\n",
       "</table>\n",
       "<p>6172 rows × 8 columns</p>\n",
       "</div>"
      ],
      "text/plain": [
       "          sex       age  age_cat  juv_fel_count  juv_misd_count  \\\n",
       "sex race                                                          \n",
       "0   5     0.0  0.653846      1.0            0.0             0.0   \n",
       "    0     0.0  0.205128      0.5            0.0             0.0   \n",
       "    0     0.0  0.076923      0.0            0.0             0.0   \n",
       "    5     0.0  0.333333      0.5            0.0             0.0   \n",
       "    2     0.0  0.294872      0.5            0.0             0.0   \n",
       "...       ...       ...      ...            ...             ...   \n",
       "    0     0.0  0.064103      0.0            0.0             0.0   \n",
       "    0     0.0  0.064103      0.0            0.0             0.0   \n",
       "    5     0.0  0.500000      1.0            0.0             0.0   \n",
       "1   0     1.0  0.192308      0.5            0.0             0.0   \n",
       "    3     1.0  0.064103      0.0            0.0             0.0   \n",
       "\n",
       "          juv_other_count  priors_count  c_charge_degree  \n",
       "sex race                                                  \n",
       "0   5            0.000000      0.000000              1.0  \n",
       "    0            0.000000      0.000000              1.0  \n",
       "    0            0.111111      0.105263              1.0  \n",
       "    5            0.000000      0.000000              0.0  \n",
       "    2            0.000000      0.368421              1.0  \n",
       "...                   ...           ...              ...  \n",
       "    0            0.000000      0.000000              1.0  \n",
       "    0            0.000000      0.000000              1.0  \n",
       "    5            0.000000      0.000000              1.0  \n",
       "1   0            0.000000      0.078947              0.0  \n",
       "    3            0.000000      0.052632              1.0  \n",
       "\n",
       "[6172 rows x 8 columns]"
      ]
     },
     "execution_count": 7,
     "metadata": {},
     "output_type": "execute_result"
    }
   ],
   "source": [
    "from sklearn.preprocessing import MinMaxScaler\n",
    "scaler = MinMaxScaler()\n",
    "X[X.columns] = scaler.fit_transform(X[X.columns])\n",
    "X"
   ]
  },
  {
   "cell_type": "code",
   "execution_count": 8,
   "metadata": {},
   "outputs": [],
   "source": [
    "X.dropna(inplace=True)"
   ]
  },
  {
   "cell_type": "markdown",
   "metadata": {
    "id": "3T-NvfWyQKUZ"
   },
   "source": [
    "split the dataset,"
   ]
  },
  {
   "cell_type": "code",
   "execution_count": 9,
   "metadata": {
    "id": "Vc4qGCNGQKUZ"
   },
   "outputs": [],
   "source": [
    "(X_train, X_test,\n",
    " y_train, y_test) = train_test_split(X, y, train_size=0.7, random_state=1234567)"
   ]
  },
  {
   "cell_type": "markdown",
   "metadata": {
    "id": "8bMlpomVQKUa"
   },
   "source": [
    "The protected attribute information is also replicated in the labels:"
   ]
  },
  {
   "cell_type": "code",
   "execution_count": 10,
   "metadata": {
    "colab": {
     "base_uri": "https://localhost:8080/"
    },
    "id": "HSpthk1lQKUa",
    "outputId": "b98fb738-2dd1-44b7-fe64-2dbbcb59a6a2"
   },
   "outputs": [
    {
     "data": {
      "text/plain": [
       "sex  race\n",
       "0    0       1\n",
       "     2       1\n",
       "     3       0\n",
       "1    2       1\n",
       "     2       0\n",
       "dtype: int64"
      ]
     },
     "execution_count": 10,
     "metadata": {},
     "output_type": "execute_result"
    }
   ],
   "source": [
    "y_train.head()"
   ]
  },
  {
   "cell_type": "markdown",
   "metadata": {
    "id": "13UfQJx_QKUb"
   },
   "source": [
    "## Running metrics"
   ]
  },
  {
   "cell_type": "markdown",
   "metadata": {
    "id": "iMTOzFVLQKUb"
   },
   "source": [
    "With the data in this format, we can easily train a scikit-learn model and get predictions for the test data:"
   ]
  },
  {
   "cell_type": "code",
   "execution_count": 11,
   "metadata": {
    "colab": {
     "base_uri": "https://localhost:8080/"
    },
    "id": "tHeMqub4QKUb",
    "outputId": "7b06fd6c-bbc9-45d4-b6f2-daf3455a44fa"
   },
   "outputs": [
    {
     "data": {
      "text/plain": [
       "0.6814254859611231"
      ]
     },
     "execution_count": 11,
     "metadata": {},
     "output_type": "execute_result"
    }
   ],
   "source": [
    "clf = LogisticRegression(solver='liblinear').fit(X_train, y_train)\n",
    "y_pred = clf.predict(X_test)\n",
    "accuracy_score(y_test, y_pred)"
   ]
  },
  {
   "cell_type": "markdown",
   "metadata": {
    "id": "aVu8VzgpQKUb"
   },
   "source": [
    "Now, we can analyze our predictions and quickly calucate the disparate impact for females vs. males:"
   ]
  },
  {
   "cell_type": "code",
   "execution_count": 12,
   "metadata": {
    "colab": {
     "base_uri": "https://localhost:8080/"
    },
    "id": "8mVD0ZWSQKUb",
    "outputId": "204a3f64-8306-469f-c39a-2fbf90f17039"
   },
   "outputs": [
    {
     "data": {
      "text/plain": [
       "3.811782165440702"
      ]
     },
     "execution_count": 12,
     "metadata": {},
     "output_type": "execute_result"
    }
   ],
   "source": [
    "disparate_impact_ratio(y_test, y_pred, prot_attr='sex')"
   ]
  },
  {
   "cell_type": "code",
   "execution_count": 13,
   "metadata": {},
   "outputs": [
    {
     "data": {
      "text/plain": [
       "0.339067849361967"
      ]
     },
     "execution_count": 13,
     "metadata": {},
     "output_type": "execute_result"
    }
   ],
   "source": [
    "statistical_parity_difference(y_test, y_pred, prot_attr='sex')"
   ]
  },
  {
   "cell_type": "code",
   "execution_count": 14,
   "metadata": {},
   "outputs": [],
   "source": [
    "from aif360.sklearn.explainers.bias_explainer import explain_statistical_parity"
   ]
  },
  {
   "cell_type": "code",
   "execution_count": 15,
   "metadata": {},
   "outputs": [
    {
     "name": "stdout",
     "output_type": "stream",
     "text": [
      "\n",
      "\n",
      "\n",
      "c Decomposition for  sex = 0.0\n",
      "c positive prediction probability of  sex = 0.0 is 0.44390243902439025\n",
      "c sample shape: (3485, 8)\n",
      "c sensitive group: sex = 0.0\n",
      "c variance of Y 0.24685306365258772\n",
      "c mean of Y 0.44390243902439025\n"
     ]
    },
    {
     "name": "stderr",
     "output_type": "stream",
     "text": [
      "/Users/bishwamittraghosh/anaconda3/lib/python3.7/site-packages/sklearn/base.py:451: UserWarning: X does not have valid feature names, but LogisticRegression was fitted with feature names\n",
      "  \"X does not have valid feature names, but\"\n",
      "/Users/bishwamittraghosh/anaconda3/lib/python3.7/site-packages/sklearn/base.py:451: UserWarning: X does not have valid feature names, but LogisticRegression was fitted with feature names\n",
      "  \"X does not have valid feature names, but\"\n",
      "/Users/bishwamittraghosh/anaconda3/lib/python3.7/site-packages/sklearn/base.py:451: UserWarning: X does not have valid feature names, but LogisticRegression was fitted with feature names\n",
      "  \"X does not have valid feature names, but\"\n",
      "/Users/bishwamittraghosh/anaconda3/lib/python3.7/site-packages/sklearn/base.py:451: UserWarning: X does not have valid feature names, but LogisticRegression was fitted with feature names\n",
      "  \"X does not have valid feature names, but\"\n"
     ]
    },
    {
     "name": "stdout",
     "output_type": "stream",
     "text": [
      "\n",
      "\n",
      "\n",
      "c Decomposition for  sex = 1.0\n",
      "c positive prediction probability of  sex = 1.0 is 0.11377245508982035\n",
      "c sample shape: (835, 8)\n",
      "c sensitive group: sex = 1.0\n",
      "c variance of Y 0.10082828355265516\n",
      "c mean of Y 0.11377245508982035\n",
      "\n",
      "                              names        Sa  Sa_conf        Sb  Sb_conf  \\\n",
      "0                               sex  0.000000      0.0  0.000000      0.0   \n",
      "1                               age  0.037718      0.0  0.003358      0.0   \n",
      "2                           age_cat  0.010598      0.0  0.010708      0.0   \n",
      "3                     juv_fel_count  0.000102      0.0  0.000242      0.0   \n",
      "4                    juv_misd_count  0.000360      0.0 -0.001299      0.0   \n",
      "..                              ...       ...      ...       ...      ...   \n",
      "31      juv_misd_count/priors_count  0.001385      0.0 -0.000799      0.0   \n",
      "32   juv_misd_count/c_charge_degree  0.001932      0.0 -0.000009      0.0   \n",
      "33     juv_other_count/priors_count  0.001584      0.0 -0.000522      0.0   \n",
      "34  juv_other_count/c_charge_degree  0.000520      0.0  0.000122      0.0   \n",
      "35     priors_count/c_charge_degree  0.002415      0.0 -0.000726      0.0   \n",
      "\n",
      "           S  S_conf        ST  ST_conf      Var1      Var2  VarTotal  \\\n",
      "0   0.000000     0.0 -0.090735      0.0  0.000000       NaN  0.246853   \n",
      "1   0.041064     0.0  0.091326      0.0  0.041064       NaN  0.246853   \n",
      "2   0.021298     0.0  0.046032      0.0  0.021298       NaN  0.246853   \n",
      "3   0.000344     0.0  0.013672      0.0  0.000344       NaN  0.246853   \n",
      "4  -0.000939     0.0  0.013900      0.0 -0.000939       NaN  0.246853   \n",
      "..       ...     ...       ...      ...       ...       ...       ...   \n",
      "31  0.000679     0.0       NaN      NaN       NaN  0.000679       NaN   \n",
      "32  0.001946     0.0       NaN      NaN       NaN  0.001946       NaN   \n",
      "33  0.001064     0.0       NaN      NaN       NaN  0.001064       NaN   \n",
      "34  0.000640     0.0       NaN      NaN       NaN  0.000640       NaN   \n",
      "35  0.001689     0.0       NaN      NaN       NaN  0.001689       NaN   \n",
      "\n",
      "    structural contribution  correlative contribution sensitive group  \n",
      "0                  0.000000                  0.000000       sex = 0.0  \n",
      "1                  0.037718                  0.003346       sex = 0.0  \n",
      "2                  0.010598                  0.010700       sex = 0.0  \n",
      "3                  0.000102                  0.000242       sex = 0.0  \n",
      "4                  0.000360                 -0.001299       sex = 0.0  \n",
      "..                      ...                       ...             ...  \n",
      "31                 0.001385                 -0.000706       sex = 1.0  \n",
      "32                 0.001932                  0.000014       sex = 1.0  \n",
      "33                 0.001584                 -0.000520       sex = 1.0  \n",
      "34                 0.000520                  0.000120       sex = 1.0  \n",
      "35                 0.002415                 -0.000726       sex = 1.0  \n",
      "\n",
      "[72 rows x 15 columns]\n"
     ]
    },
    {
     "data": {
      "image/png": "[encoded data removed]",
      "text/plain": [
       "<Figure size 468x288 with 1 Axes>"
      ]
     },
     "metadata": {
      "needs_background": "light"
     },
     "output_type": "display_data"
    },
    {
     "name": "stdout",
     "output_type": "stream",
     "text": [
      "Exact statistical parity 0.3301299839345699\n"
     ]
    },
    {
     "data": {
      "text/html": [
       "<div>\n",
       "<style scoped>\n",
       "    .dataframe tbody tr th:only-of-type {\n",
       "        vertical-align: middle;\n",
       "    }\n",
       "\n",
       "    .dataframe tbody tr th {\n",
       "        vertical-align: top;\n",
       "    }\n",
       "\n",
       "    .dataframe thead th {\n",
       "        text-align: right;\n",
       "    }\n",
       "</style>\n",
       "<table border=\"1\" class=\"dataframe\">\n",
       "  <thead>\n",
       "    <tr style=\"text-align: right;\">\n",
       "      <th></th>\n",
       "      <th>weight</th>\n",
       "    </tr>\n",
       "    <tr>\n",
       "      <th>feature</th>\n",
       "      <th></th>\n",
       "    </tr>\n",
       "  </thead>\n",
       "  <tbody>\n",
       "    <tr>\n",
       "      <th>priors count</th>\n",
       "      <td>0.117061</td>\n",
       "    </tr>\n",
       "    <tr>\n",
       "      <th>sex \\&amp; c charge degree</th>\n",
       "      <td>-0.101842</td>\n",
       "    </tr>\n",
       "    <tr>\n",
       "      <th>age</th>\n",
       "      <td>0.073671</td>\n",
       "    </tr>\n",
       "    <tr>\n",
       "      <th>age \\&amp; priors count</th>\n",
       "      <td>0.051102</td>\n",
       "    </tr>\n",
       "    <tr>\n",
       "      <th>age cat</th>\n",
       "      <td>0.036233</td>\n",
       "    </tr>\n",
       "    <tr>\n",
       "      <th>sex \\&amp; priors count</th>\n",
       "      <td>-0.032465</td>\n",
       "    </tr>\n",
       "    <tr>\n",
       "      <th>age \\&amp; c charge degree</th>\n",
       "      <td>0.023052</td>\n",
       "    </tr>\n",
       "    <tr>\n",
       "      <th>juv other count \\&amp; c charge degree</th>\n",
       "      <td>0.022389</td>\n",
       "    </tr>\n",
       "    <tr>\n",
       "      <th>sex \\&amp; age</th>\n",
       "      <td>-0.021223</td>\n",
       "    </tr>\n",
       "    <tr>\n",
       "      <th>juv misd count \\&amp; c charge degree</th>\n",
       "      <td>0.020639</td>\n",
       "    </tr>\n",
       "    <tr>\n",
       "      <th>age cat \\&amp; c charge degree</th>\n",
       "      <td>0.020523</td>\n",
       "    </tr>\n",
       "    <tr>\n",
       "      <th>juv fel count \\&amp; c charge degree</th>\n",
       "      <td>0.020425</td>\n",
       "    </tr>\n",
       "    <tr>\n",
       "      <th>priors count \\&amp; c charge degree</th>\n",
       "      <td>0.016018</td>\n",
       "    </tr>\n",
       "    <tr>\n",
       "      <th>age \\&amp; age cat</th>\n",
       "      <td>0.014784</td>\n",
       "    </tr>\n",
       "    <tr>\n",
       "      <th>age \\&amp; juv fel count</th>\n",
       "      <td>0.006521</td>\n",
       "    </tr>\n",
       "    <tr>\n",
       "      <th>age \\&amp; juv misd count</th>\n",
       "      <td>0.005734</td>\n",
       "    </tr>\n",
       "    <tr>\n",
       "      <th>juv other count</th>\n",
       "      <td>0.005419</td>\n",
       "    </tr>\n",
       "    <tr>\n",
       "      <th>age \\&amp; juv other count</th>\n",
       "      <td>0.005152</td>\n",
       "    </tr>\n",
       "    <tr>\n",
       "      <th>juv other count \\&amp; priors count</th>\n",
       "      <td>0.004867</td>\n",
       "    </tr>\n",
       "    <tr>\n",
       "      <th>age cat \\&amp; juv misd count</th>\n",
       "      <td>-0.004711</td>\n",
       "    </tr>\n",
       "    <tr>\n",
       "      <th>juv misd count</th>\n",
       "      <td>-0.004365</td>\n",
       "    </tr>\n",
       "    <tr>\n",
       "      <th>sex \\&amp; juv other count</th>\n",
       "      <td>-0.003898</td>\n",
       "    </tr>\n",
       "    <tr>\n",
       "      <th>sex \\&amp; juv fel count</th>\n",
       "      <td>-0.003185</td>\n",
       "    </tr>\n",
       "    <tr>\n",
       "      <th>sex \\&amp; juv misd count</th>\n",
       "      <td>0.002527</td>\n",
       "    </tr>\n",
       "    <tr>\n",
       "      <th>sex \\&amp; age cat</th>\n",
       "      <td>0.001395</td>\n",
       "    </tr>\n",
       "    <tr>\n",
       "      <th>age cat \\&amp; juv other count</th>\n",
       "      <td>-0.001284</td>\n",
       "    </tr>\n",
       "    <tr>\n",
       "      <th>age cat \\&amp; juv fel count</th>\n",
       "      <td>-0.001019</td>\n",
       "    </tr>\n",
       "    <tr>\n",
       "      <th>juv fel count \\&amp; juv other count</th>\n",
       "      <td>0.000756</td>\n",
       "    </tr>\n",
       "    <tr>\n",
       "      <th>juv fel count</th>\n",
       "      <td>0.000544</td>\n",
       "    </tr>\n",
       "    <tr>\n",
       "      <th>juv fel count \\&amp; priors count</th>\n",
       "      <td>-0.000542</td>\n",
       "    </tr>\n",
       "    <tr>\n",
       "      <th>juv misd count \\&amp; juv other count</th>\n",
       "      <td>-0.000388</td>\n",
       "    </tr>\n",
       "    <tr>\n",
       "      <th>age cat \\&amp; priors count</th>\n",
       "      <td>-0.000268</td>\n",
       "    </tr>\n",
       "    <tr>\n",
       "      <th>juv fel count \\&amp; juv misd count</th>\n",
       "      <td>0.000222</td>\n",
       "    </tr>\n",
       "    <tr>\n",
       "      <th>juv misd count \\&amp; priors count</th>\n",
       "      <td>0.000163</td>\n",
       "    </tr>\n",
       "    <tr>\n",
       "      <th>c charge degree</th>\n",
       "      <td>0.000000</td>\n",
       "    </tr>\n",
       "    <tr>\n",
       "      <th>sex</th>\n",
       "      <td>0.000000</td>\n",
       "    </tr>\n",
       "  </tbody>\n",
       "</table>\n",
       "</div>"
      ],
      "text/plain": [
       "                                      weight\n",
       "feature                                     \n",
       "priors count                        0.117061\n",
       "sex \\& c charge degree             -0.101842\n",
       "age                                 0.073671\n",
       "age \\& priors count                 0.051102\n",
       "age cat                             0.036233\n",
       "sex \\& priors count                -0.032465\n",
       "age \\& c charge degree              0.023052\n",
       "juv other count \\& c charge degree  0.022389\n",
       "sex \\& age                         -0.021223\n",
       "juv misd count \\& c charge degree   0.020639\n",
       "age cat \\& c charge degree          0.020523\n",
       "juv fel count \\& c charge degree    0.020425\n",
       "priors count \\& c charge degree     0.016018\n",
       "age \\& age cat                      0.014784\n",
       "age \\& juv fel count                0.006521\n",
       "age \\& juv misd count               0.005734\n",
       "juv other count                     0.005419\n",
       "age \\& juv other count              0.005152\n",
       "juv other count \\& priors count     0.004867\n",
       "age cat \\& juv misd count          -0.004711\n",
       "juv misd count                     -0.004365\n",
       "sex \\& juv other count             -0.003898\n",
       "sex \\& juv fel count               -0.003185\n",
       "sex \\& juv misd count               0.002527\n",
       "sex \\& age cat                      0.001395\n",
       "age cat \\& juv other count         -0.001284\n",
       "age cat \\& juv fel count           -0.001019\n",
       "juv fel count \\& juv other count    0.000756\n",
       "juv fel count                       0.000544\n",
       "juv fel count \\& priors count      -0.000542\n",
       "juv misd count \\& juv other count  -0.000388\n",
       "age cat \\& priors count            -0.000268\n",
       "juv fel count \\& juv misd count     0.000222\n",
       "juv misd count \\& priors count      0.000163\n",
       "c charge degree                     0.000000\n",
       "sex                                 0.000000"
      ]
     },
     "execution_count": 15,
     "metadata": {},
     "output_type": "execute_result"
    }
   ],
   "source": [
    "explain_statistical_parity(clf, X_train, sensitive_features=['sex'], maxorder=2, draw_plot=True, verbose=True)"
   ]
  },
  {
   "cell_type": "code",
   "execution_count": 19,
   "metadata": {},
   "outputs": [
    {
     "data": {
      "text/plain": [
       "array([1, 0, 1, ..., 0, 0, 1])"
      ]
     },
     "execution_count": 19,
     "metadata": {},
     "output_type": "execute_result"
    }
   ],
   "source": [
    "race = y_test.index.get_level_values('race').to_numpy()\n",
    "sex = y_test.index.get_level_values('sex').to_numpy()\n",
    "prot_attr = np.where(race ^ sex, 0, 1)\n",
    "prot_attr"
   ]
  },
  {
   "cell_type": "markdown",
   "metadata": {
    "id": "cNonH6t1QKUc"
   },
   "source": [
    "And similarly, we can assess how close the predictions are to equality of odds.\n",
    "\n",
    "`average_odds_error()` computes the (unweighted) average of the absolute values of the true positive rate (TPR) difference and false positive rate (FPR) difference, i.e.:\n",
    "\n",
    "$$ \\tfrac{1}{2}\\left(|FPR_{D = \\text{unprivileged}} - FPR_{D = \\text{privileged}}| + |TPR_{D = \\text{unprivileged}} - TPR_{D = \\text{privileged}}|\\right) $$"
   ]
  },
  {
   "cell_type": "code",
   "execution_count": 12,
   "metadata": {
    "colab": {
     "base_uri": "https://localhost:8080/"
    },
    "id": "C5_ZlM4dQKUc",
    "outputId": "2fd17013-5f9f-4131-8826-d3a50b7ef713"
   },
   "outputs": [
    {
     "data": {
      "text/plain": [
       "0.09875694175767563"
      ]
     },
     "execution_count": 12,
     "metadata": {},
     "output_type": "execute_result"
    }
   ],
   "source": [
    "average_odds_error(y_test, y_pred, priv_group=(1, 1))"
   ]
  },
  {
   "cell_type": "markdown",
   "metadata": {
    "id": "H0VZVtSrQKUc"
   },
   "source": [
    "In that case, we chose to look at the intersection of all protected attributes (race and sex) and designate a single combination (white males) as privileged.\n",
    "\n",
    "If we wish to do something more complex, we can pass a custom array of protected attributes, like so (note: this choice of protected groups is just for demonstration):"
   ]
  },
  {
   "cell_type": "code",
   "execution_count": 13,
   "metadata": {
    "colab": {
     "base_uri": "https://localhost:8080/"
    },
    "id": "LmcK2STxQKUc",
    "outputId": "eccc550b-b7cb-49c7-dca7-5ef1f2d621c2"
   },
   "outputs": [
    {
     "data": {
      "text/plain": [
       "0.3844295196608744"
      ]
     },
     "execution_count": 13,
     "metadata": {},
     "output_type": "execute_result"
    }
   ],
   "source": [
    "race = y_test.index.get_level_values('race').to_numpy()\n",
    "sex = y_test.index.get_level_values('sex').to_numpy()\n",
    "prot_attr = np.where(race ^ sex, 0, 1)\n",
    "disparate_impact_ratio(y_test, y_pred, prot_attr=prot_attr)"
   ]
  },
  {
   "cell_type": "markdown",
   "metadata": {
    "id": "vZRn0EJiQKUd"
   },
   "source": [
    "## Debiasing algorithms"
   ]
  },
  {
   "cell_type": "markdown",
   "metadata": {
    "id": "FJhOugvqQKUd"
   },
   "source": [
    "`ReweighingMeta` is a workaround until changing sample weights can be handled properly in `Pipeline`/`GridSearchCV`"
   ]
  },
  {
   "cell_type": "code",
   "execution_count": 14,
   "metadata": {
    "colab": {
     "base_uri": "https://localhost:8080/"
    },
    "id": "KyGPWqeVQKUd",
    "outputId": "83e7a7b8-a6a5-4c27-fd73-fb300bb00b58"
   },
   "outputs": [
    {
     "name": "stdout",
     "output_type": "stream",
     "text": [
      "0.8402004864745338\n",
      "{'estimator__C': 1}\n"
     ]
    }
   ],
   "source": [
    "rew = ReweighingMeta(estimator=LogisticRegression(solver='liblinear'),\n",
    "                     reweigher=Reweighing('sex'))\n",
    "\n",
    "params = {'estimator__C': [1, 10]}\n",
    "\n",
    "clf = GridSearchCV(rew, params, scoring='accuracy', cv=5)\n",
    "clf.fit(X_train, y_train)\n",
    "print(clf.score(X_test, y_test))\n",
    "print(clf.best_params_)"
   ]
  },
  {
   "cell_type": "code",
   "execution_count": 15,
   "metadata": {
    "colab": {
     "base_uri": "https://localhost:8080/"
    },
    "id": "WGz3Hn8UQKUd",
    "outputId": "7f2e11c0-dd77-4a0b-b813-02961a3f756a"
   },
   "outputs": [
    {
     "data": {
      "text/plain": [
       "0.5874230323221501"
      ]
     },
     "execution_count": 15,
     "metadata": {},
     "output_type": "execute_result"
    }
   ],
   "source": [
    "disparate_impact_ratio(y_test, clf.predict(X_test), prot_attr='sex')"
   ]
  },
  {
   "cell_type": "markdown",
   "metadata": {
    "id": "svwzVk2DQKUe"
   },
   "source": [
    "Rather than trying to weight accuracy and fairness, we can try a fair in-processing algorithm:"
   ]
  },
  {
   "cell_type": "code",
   "execution_count": 16,
   "metadata": {
    "colab": {
     "base_uri": "https://localhost:8080/"
    },
    "id": "waeF--xEQKUe",
    "outputId": "e68f4dbc-b526-49f2-e859-10d3e1f7d59a"
   },
   "outputs": [
    {
     "data": {
      "text/plain": [
       "0.8345249502469226"
      ]
     },
     "execution_count": 16,
     "metadata": {},
     "output_type": "execute_result"
    }
   ],
   "source": [
    "adv_deb = AdversarialDebiasing(prot_attr='sex', random_state=1234567)\n",
    "adv_deb.fit(X_train, y_train)\n",
    "adv_deb.score(X_test, y_test)"
   ]
  },
  {
   "cell_type": "code",
   "execution_count": 17,
   "metadata": {
    "colab": {
     "base_uri": "https://localhost:8080/"
    },
    "id": "PEXZO3CsQKUe",
    "outputId": "31b00ed9-8ccd-4cb6-b55a-a45bbca77368"
   },
   "outputs": [
    {
     "data": {
      "text/plain": [
       "0.1200164835077702"
      ]
     },
     "execution_count": 17,
     "metadata": {},
     "output_type": "execute_result"
    }
   ],
   "source": [
    "average_odds_error(y_test, adv_deb.predict(X_test), prot_attr='sex')"
   ]
  },
  {
   "cell_type": "markdown",
   "metadata": {
    "id": "ihLM59GVQKUe"
   },
   "source": [
    "Note that `AdversarialDebiasing` creates a TensorFlow session which we should close when we're finished to free up resources:"
   ]
  },
  {
   "cell_type": "code",
   "execution_count": 18,
   "metadata": {
    "id": "pm75UZQEQKUe"
   },
   "outputs": [],
   "source": [
    "adv_deb.sess_.close()"
   ]
  },
  {
   "cell_type": "markdown",
   "metadata": {
    "id": "MwUp9d4GQKUf"
   },
   "source": [
    "Finally, let's try a post-processor, `CalibratedEqualizedOdds`.\n",
    "\n",
    "Since the post-processor needs to be trained on data unseen by the original estimator, we will use the `PostProcessingMeta` class which splits the data and trains the estimator and post-processor with their own split."
   ]
  },
  {
   "cell_type": "code",
   "execution_count": 19,
   "metadata": {
    "colab": {
     "base_uri": "https://localhost:8080/"
    },
    "id": "dCcMevWgQKUf",
    "outputId": "213d4a62-3898-4fb8-a61e-c56395d53660"
   },
   "outputs": [
    {
     "data": {
      "text/plain": [
       "0.8200044224957618"
      ]
     },
     "execution_count": 19,
     "metadata": {},
     "output_type": "execute_result"
    }
   ],
   "source": [
    "cal_eq_odds = CalibratedEqualizedOdds('sex', cost_constraint='fnr', random_state=1234567)\n",
    "log_reg = LogisticRegression(solver='liblinear')\n",
    "postproc = PostProcessingMeta(estimator=log_reg, postprocessor=cal_eq_odds, random_state=1234567)\n",
    "\n",
    "postproc.fit(X_train, y_train)\n",
    "accuracy_score(y_test, postproc.predict(X_test))"
   ]
  },
  {
   "cell_type": "code",
   "execution_count": 20,
   "metadata": {
    "colab": {
     "base_uri": "https://localhost:8080/",
     "height": 283
    },
    "id": "oSElX6mEQKUf",
    "outputId": "7c6189a7-b615-4ce1-bf6a-ffdac35b0d49"
   },
   "outputs": [
    {
     "data": {
      "image/png": "[encoded data removed]",
      "text/plain": [
       "<Figure size 432x288 with 1 Axes>"
      ]
     },
     "metadata": {
      "needs_background": "light"
     },
     "output_type": "display_data"
    }
   ],
   "source": [
    "y_pred = postproc.predict_proba(X_test)[:, 1]\n",
    "y_lr = postproc.estimator_.predict_proba(X_test)[:, 1]\n",
    "br = postproc.postprocessor_.base_rates_\n",
    "i = X_test.index.get_level_values('sex') == 1\n",
    "\n",
    "plt.plot([0, br[0]], [0, 1-br[0]], '-b', label='All calibrated classifiers (Females)')\n",
    "plt.plot([0, br[1]], [0, 1-br[1]], '-r', label='All calibrated classifiers (Males)')\n",
    "\n",
    "plt.scatter(generalized_fpr(y_test[~i], y_lr[~i]),\n",
    "            generalized_fnr(y_test[~i], y_lr[~i]),\n",
    "            300, c='b', marker='.', label='Original classifier (Females)')\n",
    "plt.scatter(generalized_fpr(y_test[i], y_lr[i]),\n",
    "            generalized_fnr(y_test[i], y_lr[i]),\n",
    "            300, c='r', marker='.', label='Original classifier (Males)')\n",
    "                                                                        \n",
    "plt.scatter(generalized_fpr(y_test[~i], y_pred[~i]),\n",
    "            generalized_fnr(y_test[~i], y_pred[~i]),\n",
    "            100, c='b', marker='d', label='Post-processed classifier (Females)')\n",
    "plt.scatter(generalized_fpr(y_test[i], y_pred[i]),\n",
    "            generalized_fnr(y_test[i], y_pred[i]),\n",
    "            100, c='r', marker='d', label='Post-processed classifier (Males)')\n",
    "\n",
    "plt.plot([0, 1], [generalized_fnr(y_test, y_pred)]*2, '--', c='0.5')\n",
    "\n",
    "plt.axis('square')\n",
    "plt.xlim([0.0, 0.4])\n",
    "plt.ylim([0.3, 0.7])\n",
    "plt.xlabel('generalized fpr');\n",
    "plt.ylabel('generalized fnr');\n",
    "plt.legend(bbox_to_anchor=(1.04,1), loc='upper left');"
   ]
  },
  {
   "cell_type": "markdown",
   "metadata": {
    "id": "na2YWDICQKUg"
   },
   "source": [
    "We can see the generalized false negative rate is approximately equalized and the classifiers remain close to the calibration lines.\n",
    "\n",
    "We can quanitify the discrepancy between protected groups using the `difference` operator:"
   ]
  },
  {
   "cell_type": "code",
   "execution_count": 21,
   "metadata": {
    "colab": {
     "base_uri": "https://localhost:8080/"
    },
    "id": "smrTomVyQKUg",
    "outputId": "6add1353-fae6-474a-b9e8-5d1be8cd8a39"
   },
   "outputs": [
    {
     "data": {
      "text/plain": [
       "0.0006901337553552045"
      ]
     },
     "execution_count": 21,
     "metadata": {},
     "output_type": "execute_result"
    }
   ],
   "source": [
    "difference(generalized_fnr, y_test, y_pred, prot_attr='sex')"
   ]
  },
  {
   "cell_type": "code",
   "execution_count": null,
   "metadata": {},
   "outputs": [],
   "source": []
  }
 ],
 "metadata": {
  "kernelspec": {
   "display_name": "Python 3",
   "language": "python",
   "name": "python3"
  },
  "language_info": {
   "codemirror_mode": {
    "name": "ipython",
    "version": 3
   },
   "file_extension": ".py",
   "mimetype": "text/x-python",
   "name": "python",
   "nbconvert_exporter": "python",
   "pygments_lexer": "ipython3",
   "version": "3.7.6"
  },
  "vscode": {
   "interpreter": {
    "hash": "d0c5ced7753e77a483fec8ff7063075635521cce6e0bd54998c8f174742209dd"
   }
  }
 },
 "nbformat": 4,
 "nbformat_minor": 2
}
