{
 "cells": [
  {
   "cell_type": "markdown",
   "metadata": {},
   "source": [
    "# Fair Data Adaptation\n",
    "The `FairAdapt` package provides a pre-processing method that can be used with the following workflow (both regression and classification):\n",
    "    \n",
    "    1. obtain a dataset of interest (D),\n",
    "    2. define the causal graph (G) for the dataset (see the graph of the Adult dataset below as an example),\n",
    "    3. using original data D and the causal graph G obtain a fair-transformed version of the data FT(D),\n",
    "    4. after the adaptation, use the transformed dataset FT(D) to train any classifier/regressor.\n",
    "    \n",
    "The adaptation procedure in `FairAdapt` adapts the variables in a topological order and ensures that discrimination removal is causally meaningful (under the assumption that the causal graph G is correctly specified). Additionally, the method explicitly computes what is known in the literature as _counterfactual instances_. For example, for a male individual, we can explicitly compute what his \"education level or employment status would have been, had he in fact been female\". Such reasoning can also help justify fair decision-making. \n",
    "\n",
    "In the following, we give an example of how `FairAdapt` can be used."
   ]
  },
  {
   "cell_type": "code",
   "execution_count": 2,
   "metadata": {},
   "outputs": [],
   "source": [
    "import numpy as np\n",
    "import pandas as pd\n",
    "from lightgbm import LGBMClassifier\n",
    "import igraph\n",
    "\n",
    "from sklearn.metrics import accuracy_score\n",
    "from sklearn.model_selection import train_test_split\n",
    "\n",
    "from aif360.sklearn.datasets import fetch_adult\n",
    "from aif360.sklearn.metrics import statistical_parity_difference\n",
    "from aif360.sklearn.preprocessing import FairAdapt"
   ]
  },
  {
   "cell_type": "markdown",
   "metadata": {},
   "source": [
    "## Load a dataset\n",
    "We start by loading the UCI Adult dataset and inspecting it."
   ]
  },
  {
   "cell_type": "code",
   "execution_count": 3,
   "metadata": {
    "code_folding": []
   },
   "outputs": [
    {
     "data": {
      "text/html": [
       "<div>\n",
       "<style scoped>\n",
       "    .dataframe tbody tr th:only-of-type {\n",
       "        vertical-align: middle;\n",
       "    }\n",
       "\n",
       "    .dataframe tbody tr th {\n",
       "        vertical-align: top;\n",
       "    }\n",
       "\n",
       "    .dataframe thead th {\n",
       "        text-align: right;\n",
       "    }\n",
       "</style>\n",
       "<table border=\"1\" class=\"dataframe\">\n",
       "  <thead>\n",
       "    <tr style=\"text-align: right;\">\n",
       "      <th></th>\n",
       "      <th></th>\n",
       "      <th></th>\n",
       "      <th>age</th>\n",
       "      <th>workclass</th>\n",
       "      <th>education-num</th>\n",
       "      <th>marital-status</th>\n",
       "      <th>occupation</th>\n",
       "      <th>race</th>\n",
       "      <th>sex</th>\n",
       "      <th>hours-per-week</th>\n",
       "      <th>native-country</th>\n",
       "    </tr>\n",
       "    <tr>\n",
       "      <th></th>\n",
       "      <th>race</th>\n",
       "      <th>sex</th>\n",
       "      <th></th>\n",
       "      <th></th>\n",
       "      <th></th>\n",
       "      <th></th>\n",
       "      <th></th>\n",
       "      <th></th>\n",
       "      <th></th>\n",
       "      <th></th>\n",
       "      <th></th>\n",
       "    </tr>\n",
       "  </thead>\n",
       "  <tbody>\n",
       "    <tr>\n",
       "      <th>0</th>\n",
       "      <th>Non-white</th>\n",
       "      <th>Male</th>\n",
       "      <td>25.0</td>\n",
       "      <td>Private</td>\n",
       "      <td>7.0</td>\n",
       "      <td>Never-married</td>\n",
       "      <td>Machine-op-inspct</td>\n",
       "      <td>Non-white</td>\n",
       "      <td>Male</td>\n",
       "      <td>40.0</td>\n",
       "      <td>United-States</td>\n",
       "    </tr>\n",
       "    <tr>\n",
       "      <th>1</th>\n",
       "      <th>White</th>\n",
       "      <th>Male</th>\n",
       "      <td>38.0</td>\n",
       "      <td>Private</td>\n",
       "      <td>9.0</td>\n",
       "      <td>Married-civ-spouse</td>\n",
       "      <td>Farming-fishing</td>\n",
       "      <td>White</td>\n",
       "      <td>Male</td>\n",
       "      <td>50.0</td>\n",
       "      <td>United-States</td>\n",
       "    </tr>\n",
       "    <tr>\n",
       "      <th>2</th>\n",
       "      <th>White</th>\n",
       "      <th>Male</th>\n",
       "      <td>28.0</td>\n",
       "      <td>Local-gov</td>\n",
       "      <td>12.0</td>\n",
       "      <td>Married-civ-spouse</td>\n",
       "      <td>Protective-serv</td>\n",
       "      <td>White</td>\n",
       "      <td>Male</td>\n",
       "      <td>40.0</td>\n",
       "      <td>United-States</td>\n",
       "    </tr>\n",
       "    <tr>\n",
       "      <th>3</th>\n",
       "      <th>Non-white</th>\n",
       "      <th>Male</th>\n",
       "      <td>44.0</td>\n",
       "      <td>Private</td>\n",
       "      <td>10.0</td>\n",
       "      <td>Married-civ-spouse</td>\n",
       "      <td>Machine-op-inspct</td>\n",
       "      <td>Non-white</td>\n",
       "      <td>Male</td>\n",
       "      <td>40.0</td>\n",
       "      <td>United-States</td>\n",
       "    </tr>\n",
       "    <tr>\n",
       "      <th>5</th>\n",
       "      <th>White</th>\n",
       "      <th>Male</th>\n",
       "      <td>34.0</td>\n",
       "      <td>Private</td>\n",
       "      <td>6.0</td>\n",
       "      <td>Never-married</td>\n",
       "      <td>Other-service</td>\n",
       "      <td>White</td>\n",
       "      <td>Male</td>\n",
       "      <td>30.0</td>\n",
       "      <td>United-States</td>\n",
       "    </tr>\n",
       "  </tbody>\n",
       "</table>\n",
       "</div>"
      ],
      "text/plain": [
       "                   age  workclass  education-num      marital-status  \\\n",
       "  race      sex                                                        \n",
       "0 Non-white Male  25.0    Private            7.0       Never-married   \n",
       "1 White     Male  38.0    Private            9.0  Married-civ-spouse   \n",
       "2 White     Male  28.0  Local-gov           12.0  Married-civ-spouse   \n",
       "3 Non-white Male  44.0    Private           10.0  Married-civ-spouse   \n",
       "5 White     Male  34.0    Private            6.0       Never-married   \n",
       "\n",
       "                         occupation       race   sex  hours-per-week  \\\n",
       "  race      sex                                                        \n",
       "0 Non-white Male  Machine-op-inspct  Non-white  Male            40.0   \n",
       "1 White     Male    Farming-fishing      White  Male            50.0   \n",
       "2 White     Male    Protective-serv      White  Male            40.0   \n",
       "3 Non-white Male  Machine-op-inspct  Non-white  Male            40.0   \n",
       "5 White     Male      Other-service      White  Male            30.0   \n",
       "\n",
       "                 native-country  \n",
       "  race      sex                  \n",
       "0 Non-white Male  United-States  \n",
       "1 White     Male  United-States  \n",
       "2 White     Male  United-States  \n",
       "3 Non-white Male  United-States  \n",
       "5 White     Male  United-States  "
      ]
     },
     "execution_count": 3,
     "metadata": {},
     "output_type": "execute_result"
    }
   ],
   "source": [
    "X, y, sample_weight = fetch_adult()\n",
    "n_samp = 5000\n",
    "\n",
    "X = X.drop(['education', 'capital-gain', 'capital-loss', 'relationship'], axis = 1)\n",
    "X = X[0:n_samp]\n",
    "y = y[0:n_samp]\n",
    "\n",
    "X.head()"
   ]
  },
  {
   "cell_type": "markdown",
   "metadata": {},
   "source": [
    "## Split the data into training and testing"
   ]
  },
  {
   "cell_type": "code",
   "execution_count": 4,
   "metadata": {},
   "outputs": [],
   "source": [
    "(X_train, X_test,\n",
    " y_train, y_test) = train_test_split(X, y, train_size=0.8, random_state=1234567)"
   ]
  },
  {
   "cell_type": "markdown",
   "metadata": {},
   "source": [
    "## Train a LGBM predictor on original data and compute accuracy and parity gap"
   ]
  },
  {
   "cell_type": "code",
   "execution_count": 5,
   "metadata": {},
   "outputs": [
    {
     "data": {
      "text/plain": [
       "0.835"
      ]
     },
     "execution_count": 5,
     "metadata": {},
     "output_type": "execute_result"
    }
   ],
   "source": [
    "clf = LGBMClassifier()\n",
    "clf.fit(X_train, y_train)\n",
    "\n",
    "y_pred = clf.predict(X_test)\n",
    "accuracy_score(y_test, y_pred)"
   ]
  },
  {
   "cell_type": "code",
   "execution_count": 6,
   "metadata": {},
   "outputs": [
    {
     "name": "stdout",
     "output_type": "stream",
     "text": [
      "Parity gap equals -20.00%\n"
     ]
    }
   ],
   "source": [
    "# parity gap\n",
    "par_gap = statistical_parity_difference(y_test, y_pred, prot_attr=\"sex\", \n",
    "                                         priv_group=\"Male\", pos_label=\">50K\")\n",
    "print(f\"Parity gap equals {par_gap:.2%}\")"
   ]
  },
  {
   "cell_type": "markdown",
   "metadata": {},
   "source": [
    "Therefore, a male person is 20\\% more likely than a female person to be predicted as earning more than 50k$/year."
   ]
  },
  {
   "cell_type": "markdown",
   "metadata": {},
   "source": [
    "## Construct the adjacency matrix (causal graph)"
   ]
  },
  {
   "cell_type": "code",
   "execution_count": 7,
   "metadata": {},
   "outputs": [],
   "source": [
    "# construct an adjacency matrix\n",
    "train_df = pd.concat([X_train, y_train], axis=1)\n",
    "adj_mat = pd.DataFrame(\n",
    "    np.zeros((len(train_df.columns), len(train_df.columns)), dtype=int),\n",
    "    index=train_df.columns.values,\n",
    "    columns=train_df.columns.values\n",
    ")\n",
    "\n",
    "# Construct the adjacency matrix of the causal graph\n",
    "adj_mat.at[[\"sex\", \"age\", \"native-country\", \"race\"],\n",
    "           [\"marital-status\", \"education-num\",\"workclass\", \"hours-per-week\", \"occupation\", \"annual-income\"]] = 1\n",
    "adj_mat.at[\"marital-status\",\n",
    "           [\"education-num\", \"workclass\", \"hours-per-week\", \"occupation\", \"annual-income\"]] = 1\n",
    "adj_mat.at[\"education-num\",\n",
    "           [\"workclass\", \"hours-per-week\", \"occupation\", \"annual-income\"]] = 1\n",
    "adj_mat.at[[\"workclass\", \"hours-per-week\", \"occupation\"],\n",
    "           \"annual-income\"] = 1"
   ]
  },
  {
   "cell_type": "markdown",
   "metadata": {},
   "source": [
    "## Visualize the causal graph\n",
    "After constructing the causal model for the Adult dataset, we can visualize what it looks like:"
   ]
  },
  {
   "cell_type": "code",
   "execution_count": 8,
   "metadata": {},
   "outputs": [
    {
     "data": {
      "image/svg+xml": "<?xml version=\"1.0\" encoding=\"UTF-8\"?>\n<svg xmlns=\"http://www.w3.org/2000/svg\" xmlns:xlink=\"http://www.w3.org/1999/xlink\" width=\"700pt\" height=\"500pt\" viewBox=\"0 0 700 500\" version=\"1.1\">\n<defs>\n<g>\n<symbol overflow=\"visible\" id=\"glyph0-0\">\n<path style=\"stroke:none;\" d=\"M 0.453125 0 L 0.453125 -10.042969 L 8.421875 -10.042969 L 8.421875 0 Z M 7.164062 -1.257812 L 7.164062 -8.785156 L 1.710938 -8.785156 L 1.710938 -1.257812 Z M 7.164062 -1.257812 \"/>\n</symbol>\n<symbol overflow=\"visible\" id=\"glyph0-1\">\n<path style=\"stroke:none;\" d=\"M 1.84375 -1.949219 C 1.84375 -1.59375 1.976562 -1.3125 2.234375 -1.109375 C 2.496094 -0.902344 2.804688 -0.800781 3.15625 -0.800781 C 3.589844 -0.800781 4.011719 -0.898438 4.414062 -1.101562 C 5.097656 -1.433594 5.441406 -1.976562 5.441406 -2.734375 L 5.441406 -3.726562 C 5.289062 -3.628906 5.097656 -3.550781 4.859375 -3.484375 C 4.625 -3.421875 4.390625 -3.375 4.164062 -3.351562 L 3.417969 -3.253906 C 2.972656 -3.195312 2.636719 -3.101562 2.414062 -2.972656 C 2.035156 -2.757812 1.84375 -2.417969 1.84375 -1.949219 Z M 4.828125 -4.4375 C 5.109375 -4.472656 5.296875 -4.589844 5.394531 -4.792969 C 5.449219 -4.902344 5.476562 -5.058594 5.476562 -5.265625 C 5.476562 -5.683594 5.328125 -5.988281 5.027344 -6.175781 C 4.730469 -6.367188 4.300781 -6.460938 3.746094 -6.460938 C 3.101562 -6.460938 2.648438 -6.285156 2.378906 -5.941406 C 2.226562 -5.75 2.128906 -5.464844 2.085938 -5.085938 L 0.9375 -5.085938 C 0.960938 -5.988281 1.253906 -6.617188 1.816406 -6.96875 C 2.378906 -7.320312 3.03125 -7.5 3.773438 -7.5 C 4.632812 -7.5 5.335938 -7.335938 5.871094 -7.007812 C 6.40625 -6.679688 6.671875 -6.167969 6.671875 -5.476562 L 6.671875 -1.257812 C 6.671875 -1.128906 6.699219 -1.027344 6.75 -0.949219 C 6.804688 -0.871094 6.914062 -0.835938 7.082031 -0.835938 C 7.136719 -0.835938 7.199219 -0.835938 7.265625 -0.84375 C 7.335938 -0.851562 7.40625 -0.859375 7.484375 -0.875 L 7.484375 0.0351562 C 7.292969 0.0898438 7.148438 0.125 7.046875 0.136719 C 6.945312 0.148438 6.8125 0.15625 6.636719 0.15625 C 6.214844 0.15625 5.90625 0.0078125 5.714844 -0.292969 C 5.613281 -0.453125 5.542969 -0.679688 5.503906 -0.96875 C 5.253906 -0.640625 4.890625 -0.359375 4.421875 -0.117188 C 3.953125 0.125 3.4375 0.246094 2.871094 0.246094 C 2.191406 0.246094 1.636719 0.0390625 1.207031 -0.371094 C 0.777344 -0.785156 0.5625 -1.300781 0.5625 -1.921875 C 0.5625 -2.601562 0.773438 -3.125 1.195312 -3.5 C 1.621094 -3.875 2.175781 -4.105469 2.863281 -4.191406 Z M 4.828125 -4.4375 \"/>\n</symbol>\n<symbol overflow=\"visible\" id=\"glyph0-2\">\n<path style=\"stroke:none;\" d=\"M 3.484375 -7.453125 C 4.058594 -7.453125 4.5625 -7.308594 4.992188 -7.027344 C 5.222656 -6.867188 5.460938 -6.636719 5.703125 -6.328125 L 5.703125 -7.253906 L 6.835938 -7.253906 L 6.835938 -0.59375 C 6.835938 0.335938 6.699219 1.070312 6.425781 1.605469 C 5.914062 2.601562 4.953125 3.097656 3.535156 3.097656 C 2.746094 3.097656 2.082031 2.921875 1.546875 2.566406 C 1.007812 2.214844 0.707031 1.660156 0.640625 0.910156 L 1.894531 0.910156 C 1.953125 1.238281 2.070312 1.492188 2.25 1.667969 C 2.527344 1.941406 2.964844 2.078125 3.5625 2.078125 C 4.503906 2.078125 5.121094 1.746094 5.414062 1.078125 C 5.585938 0.6875 5.667969 -0.0117188 5.652344 -1.019531 C 5.40625 -0.644531 5.109375 -0.367188 4.765625 -0.183594 C 4.417969 0 3.960938 0.0898438 3.390625 0.0898438 C 2.597656 0.0898438 1.902344 -0.191406 1.308594 -0.753906 C 0.714844 -1.316406 0.417969 -2.25 0.417969 -3.546875 C 0.417969 -4.773438 0.714844 -5.730469 1.316406 -6.417969 C 1.914062 -7.105469 2.640625 -7.453125 3.484375 -7.453125 Z M 5.703125 -3.691406 C 5.703125 -4.597656 5.515625 -5.269531 5.140625 -5.707031 C 4.765625 -6.144531 4.289062 -6.363281 3.710938 -6.363281 C 2.84375 -6.363281 2.253906 -5.957031 1.933594 -5.148438 C 1.765625 -4.714844 1.679688 -4.148438 1.679688 -3.445312 C 1.679688 -2.621094 1.847656 -1.992188 2.183594 -1.5625 C 2.519531 -1.132812 2.96875 -0.914062 3.535156 -0.914062 C 4.417969 -0.914062 5.039062 -1.316406 5.398438 -2.113281 C 5.601562 -2.5625 5.703125 -3.089844 5.703125 -3.691406 Z M 5.703125 -3.691406 \"/>\n</symbol>\n<symbol overflow=\"visible\" id=\"glyph0-3\">\n<path style=\"stroke:none;\" d=\"M 3.953125 -7.484375 C 4.472656 -7.484375 4.972656 -7.363281 5.460938 -7.121094 C 5.949219 -6.875 6.320312 -6.558594 6.578125 -6.171875 C 6.824219 -5.804688 6.984375 -5.375 7.070312 -4.882812 C 7.140625 -4.542969 7.179688 -4.007812 7.179688 -3.265625 L 1.8125 -3.265625 C 1.835938 -2.523438 2.007812 -1.929688 2.335938 -1.480469 C 2.664062 -1.03125 3.175781 -0.804688 3.863281 -0.804688 C 4.503906 -0.804688 5.015625 -1.019531 5.398438 -1.441406 C 5.617188 -1.6875 5.773438 -1.972656 5.867188 -2.296875 L 7.074219 -2.296875 C 7.042969 -2.027344 6.9375 -1.726562 6.757812 -1.398438 C 6.578125 -1.066406 6.375 -0.796875 6.152344 -0.585938 C 5.777344 -0.222656 5.316406 0.0234375 4.765625 0.148438 C 4.46875 0.222656 4.132812 0.257812 3.757812 0.257812 C 2.847656 0.257812 2.074219 -0.0703125 1.441406 -0.734375 C 0.808594 -1.398438 0.492188 -2.328125 0.492188 -3.519531 C 0.492188 -4.695312 0.8125 -5.652344 1.449219 -6.382812 C 2.085938 -7.117188 2.921875 -7.484375 3.953125 -7.484375 Z M 5.914062 -4.246094 C 5.863281 -4.777344 5.746094 -5.203125 5.5625 -5.523438 C 5.226562 -6.117188 4.664062 -6.414062 3.875 -6.414062 C 3.3125 -6.414062 2.835938 -6.207031 2.453125 -5.800781 C 2.070312 -5.390625 1.867188 -4.875 1.84375 -4.246094 Z M 5.914062 -4.246094 \"/>\n</symbol>\n<symbol overflow=\"visible\" id=\"glyph0-4\">\n<path style=\"stroke:none;\" d=\"M 1.46875 -7.320312 L 2.878906 -1.550781 L 4.304688 -7.320312 L 5.6875 -7.320312 L 7.125 -1.585938 L 8.621094 -7.320312 L 9.851562 -7.320312 L 7.726562 0 L 6.445312 0 L 4.957031 -5.667969 L 3.515625 0 L 2.234375 0 L 0.125 -7.320312 Z M 1.46875 -7.320312 \"/>\n</symbol>\n<symbol overflow=\"visible\" id=\"glyph0-5\">\n<path style=\"stroke:none;\" d=\"M 3.808594 -0.792969 C 4.625 -0.792969 5.183594 -1.101562 5.484375 -1.71875 C 5.789062 -2.335938 5.941406 -3.023438 5.941406 -3.78125 C 5.941406 -4.464844 5.832031 -5.019531 5.613281 -5.449219 C 5.265625 -6.125 4.667969 -6.460938 3.820312 -6.460938 C 3.070312 -6.460938 2.523438 -6.171875 2.179688 -5.597656 C 1.839844 -5.023438 1.667969 -4.332031 1.667969 -3.519531 C 1.667969 -2.742188 1.839844 -2.09375 2.179688 -1.570312 C 2.523438 -1.050781 3.066406 -0.792969 3.808594 -0.792969 Z M 3.855469 -7.53125 C 4.796875 -7.53125 5.597656 -7.21875 6.25 -6.589844 C 6.898438 -5.960938 7.226562 -5.035156 7.226562 -3.8125 C 7.226562 -2.632812 6.9375 -1.660156 6.363281 -0.890625 C 5.789062 -0.117188 4.898438 0.265625 3.691406 0.265625 C 2.683594 0.265625 1.882812 -0.0742188 1.292969 -0.753906 C 0.699219 -1.4375 0.402344 -2.351562 0.402344 -3.5 C 0.402344 -4.730469 0.714844 -5.710938 1.339844 -6.4375 C 1.964844 -7.167969 2.804688 -7.53125 3.855469 -7.53125 Z M 3.855469 -7.53125 \"/>\n</symbol>\n<symbol overflow=\"visible\" id=\"glyph0-6\">\n<path style=\"stroke:none;\" d=\"M 0.9375 -7.320312 L 2.105469 -7.320312 L 2.105469 -6.054688 C 2.203125 -6.300781 2.4375 -6.601562 2.808594 -6.957031 C 3.183594 -7.308594 3.613281 -7.484375 4.101562 -7.484375 C 4.125 -7.484375 4.164062 -7.484375 4.21875 -7.476562 C 4.273438 -7.472656 4.367188 -7.464844 4.5 -7.453125 L 4.5 -6.152344 C 4.425781 -6.164062 4.359375 -6.175781 4.296875 -6.179688 C 4.234375 -6.183594 4.167969 -6.1875 4.09375 -6.1875 C 3.476562 -6.1875 3 -5.988281 2.664062 -5.589844 C 2.332031 -5.191406 2.167969 -4.730469 2.167969 -4.210938 L 2.167969 0 L 0.9375 0 Z M 0.9375 -7.320312 \"/>\n</symbol>\n<symbol overflow=\"visible\" id=\"glyph0-7\">\n<path style=\"stroke:none;\" d=\"M 0.875 -10.042969 L 2.058594 -10.042969 L 2.058594 -4.210938 L 5.214844 -7.320312 L 6.789062 -7.320312 L 3.984375 -4.578125 L 6.945312 0 L 5.375 0 L 3.089844 -3.691406 L 2.058594 -2.75 L 2.058594 0 L 0.875 0 Z M 0.875 -10.042969 \"/>\n</symbol>\n<symbol overflow=\"visible\" id=\"glyph0-8\">\n<path style=\"stroke:none;\" d=\"M 3.726562 -7.53125 C 4.550781 -7.53125 5.222656 -7.332031 5.738281 -6.929688 C 6.257812 -6.53125 6.566406 -5.839844 6.671875 -4.859375 L 5.476562 -4.859375 C 5.402344 -5.3125 5.234375 -5.6875 4.976562 -5.984375 C 4.71875 -6.28125 4.300781 -6.433594 3.726562 -6.433594 C 2.941406 -6.433594 2.382812 -6.050781 2.042969 -5.285156 C 1.824219 -4.789062 1.714844 -4.175781 1.714844 -3.445312 C 1.714844 -2.710938 1.871094 -2.09375 2.179688 -1.59375 C 2.492188 -1.09375 2.976562 -0.839844 3.644531 -0.839844 C 4.15625 -0.839844 4.558594 -0.996094 4.855469 -1.308594 C 5.15625 -1.621094 5.363281 -2.046875 5.476562 -2.589844 L 6.671875 -2.589844 C 6.535156 -1.621094 6.195312 -0.910156 5.648438 -0.460938 C 5.101562 -0.0117188 4.398438 0.210938 3.546875 0.210938 C 2.589844 0.210938 1.828125 -0.136719 1.257812 -0.835938 C 0.6875 -1.535156 0.402344 -2.410156 0.402344 -3.460938 C 0.402344 -4.746094 0.714844 -5.746094 1.339844 -6.460938 C 1.964844 -7.175781 2.757812 -7.53125 3.726562 -7.53125 Z M 3.726562 -7.53125 \"/>\n</symbol>\n<symbol overflow=\"visible\" id=\"glyph0-9\">\n<path style=\"stroke:none;\" d=\"M 0.9375 -10.042969 L 2.167969 -10.042969 L 2.167969 0 L 0.9375 0 Z M 0.9375 -10.042969 \"/>\n</symbol>\n<symbol overflow=\"visible\" id=\"glyph0-10\">\n<path style=\"stroke:none;\" d=\"M 1.632812 -2.296875 C 1.671875 -1.886719 1.773438 -1.570312 1.941406 -1.351562 C 2.25 -0.957031 2.789062 -0.757812 3.554688 -0.757812 C 4.011719 -0.757812 4.410156 -0.859375 4.757812 -1.054688 C 5.105469 -1.253906 5.277344 -1.5625 5.277344 -1.976562 C 5.277344 -2.289062 5.136719 -2.53125 4.859375 -2.695312 C 4.683594 -2.792969 4.332031 -2.910156 3.808594 -3.042969 L 2.828125 -3.289062 C 2.203125 -3.445312 1.746094 -3.617188 1.449219 -3.808594 C 0.921875 -4.140625 0.65625 -4.601562 0.65625 -5.1875 C 0.65625 -5.882812 0.90625 -6.441406 1.40625 -6.871094 C 1.90625 -7.296875 2.574219 -7.511719 3.417969 -7.511719 C 4.519531 -7.511719 5.316406 -7.1875 5.804688 -6.542969 C 6.109375 -6.132812 6.257812 -5.691406 6.25 -5.214844 L 5.085938 -5.214844 C 5.0625 -5.492188 4.964844 -5.746094 4.792969 -5.976562 C 4.507812 -6.296875 4.019531 -6.460938 3.320312 -6.460938 C 2.855469 -6.460938 2.503906 -6.371094 2.265625 -6.195312 C 2.027344 -6.015625 1.90625 -5.78125 1.90625 -5.488281 C 1.90625 -5.171875 2.0625 -4.914062 2.378906 -4.722656 C 2.5625 -4.609375 2.828125 -4.507812 3.1875 -4.421875 L 4 -4.226562 C 4.882812 -4.011719 5.476562 -3.804688 5.777344 -3.601562 C 6.253906 -3.289062 6.492188 -2.792969 6.492188 -2.117188 C 6.492188 -1.46875 6.246094 -0.90625 5.753906 -0.429688 C 5.257812 0.0429688 4.503906 0.28125 3.492188 0.28125 C 2.402344 0.28125 1.632812 0.03125 1.179688 -0.460938 C 0.726562 -0.957031 0.484375 -1.566406 0.453125 -2.296875 Z M 1.632812 -2.296875 \"/>\n</symbol>\n<symbol overflow=\"visible\" id=\"glyph0-11\">\n<path style=\"stroke:none;\" d=\"M 1.679688 -3.574219 C 1.679688 -2.789062 1.847656 -2.136719 2.179688 -1.605469 C 2.511719 -1.078125 3.046875 -0.8125 3.78125 -0.8125 C 4.351562 -0.8125 4.816406 -1.058594 5.183594 -1.546875 C 5.550781 -2.039062 5.734375 -2.742188 5.734375 -3.65625 C 5.734375 -4.582031 5.546875 -5.265625 5.167969 -5.710938 C 4.789062 -6.15625 4.324219 -6.378906 3.765625 -6.378906 C 3.148438 -6.378906 2.644531 -6.140625 2.257812 -5.667969 C 1.875 -5.195312 1.679688 -4.496094 1.679688 -3.574219 Z M 3.535156 -7.453125 C 4.09375 -7.453125 4.5625 -7.332031 4.941406 -7.09375 C 5.160156 -6.957031 5.410156 -6.71875 5.6875 -6.378906 L 5.6875 -10.078125 L 6.871094 -10.078125 L 6.871094 0 L 5.761719 0 L 5.761719 -1.019531 C 5.476562 -0.566406 5.136719 -0.242188 4.742188 -0.0390625 C 4.351562 0.160156 3.902344 0.257812 3.398438 0.257812 C 2.582031 0.257812 1.875 -0.0820312 1.277344 -0.769531 C 0.679688 -1.453125 0.382812 -2.367188 0.382812 -3.507812 C 0.382812 -4.574219 0.65625 -5.496094 1.199219 -6.277344 C 1.742188 -7.058594 2.523438 -7.453125 3.535156 -7.453125 Z M 3.535156 -7.453125 \"/>\n</symbol>\n<symbol overflow=\"visible\" id=\"glyph0-12\">\n<path style=\"stroke:none;\" d=\"M 2.132812 -7.320312 L 2.132812 -2.460938 C 2.132812 -2.085938 2.191406 -1.78125 2.3125 -1.546875 C 2.53125 -1.109375 2.9375 -0.890625 3.535156 -0.890625 C 4.390625 -0.890625 4.972656 -1.273438 5.285156 -2.039062 C 5.453125 -2.449219 5.539062 -3.011719 5.539062 -3.726562 L 5.539062 -7.320312 L 6.765625 -7.320312 L 6.765625 0 L 5.605469 0 L 5.617188 -1.078125 C 5.460938 -0.800781 5.261719 -0.566406 5.023438 -0.375 C 4.554688 0.0078125 3.984375 0.199219 3.316406 0.199219 C 2.273438 0.199219 1.5625 -0.148438 1.183594 -0.847656 C 0.976562 -1.222656 0.875 -1.71875 0.875 -2.34375 L 0.875 -7.320312 Z M 2.132812 -7.320312 \"/>\n</symbol>\n<symbol overflow=\"visible\" id=\"glyph0-13\">\n<path style=\"stroke:none;\" d=\"M 1.148438 -9.367188 L 2.390625 -9.367188 L 2.390625 -7.320312 L 3.5625 -7.320312 L 3.5625 -6.316406 L 2.390625 -6.316406 L 2.390625 -1.539062 C 2.390625 -1.28125 2.480469 -1.113281 2.652344 -1.023438 C 2.75 -0.976562 2.90625 -0.949219 3.132812 -0.949219 C 3.191406 -0.949219 3.253906 -0.953125 3.320312 -0.953125 C 3.390625 -0.957031 3.46875 -0.960938 3.5625 -0.96875 L 3.5625 0 C 3.421875 0.0390625 3.273438 0.0703125 3.121094 0.0898438 C 2.96875 0.109375 2.804688 0.117188 2.625 0.117188 C 2.050781 0.117188 1.660156 -0.03125 1.457031 -0.324219 C 1.25 -0.617188 1.148438 -1 1.148438 -1.46875 L 1.148438 -6.316406 L 0.15625 -6.316406 L 0.15625 -7.320312 L 1.148438 -7.320312 Z M 1.148438 -9.367188 \"/>\n</symbol>\n<symbol overflow=\"visible\" id=\"glyph0-14\">\n<path style=\"stroke:none;\" d=\"M 0.902344 -7.289062 L 2.152344 -7.289062 L 2.152344 0 L 0.902344 0 Z M 0.902344 -10.042969 L 2.152344 -10.042969 L 2.152344 -8.648438 L 0.902344 -8.648438 Z M 0.902344 -10.042969 \"/>\n</symbol>\n<symbol overflow=\"visible\" id=\"glyph0-15\">\n<path style=\"stroke:none;\" d=\"M 0.902344 -7.320312 L 2.070312 -7.320312 L 2.070312 -6.28125 C 2.417969 -6.710938 2.785156 -7.019531 3.171875 -7.203125 C 3.558594 -7.390625 3.988281 -7.484375 4.464844 -7.484375 C 5.503906 -7.484375 6.203125 -7.125 6.570312 -6.398438 C 6.769531 -6 6.871094 -5.433594 6.871094 -4.695312 L 6.871094 0 L 5.617188 0 L 5.617188 -4.613281 C 5.617188 -5.0625 5.554688 -5.421875 5.421875 -5.695312 C 5.203125 -6.148438 4.804688 -6.378906 4.230469 -6.378906 C 3.9375 -6.378906 3.699219 -6.347656 3.515625 -6.289062 C 3.175781 -6.1875 2.878906 -5.988281 2.625 -5.6875 C 2.421875 -5.445312 2.285156 -5.195312 2.226562 -4.9375 C 2.164062 -4.679688 2.132812 -4.3125 2.132812 -3.835938 L 2.132812 0 L 0.902344 0 Z M 0.902344 -7.320312 \"/>\n</symbol>\n<symbol overflow=\"visible\" id=\"glyph0-16\">\n<path style=\"stroke:none;\" d=\"M 0.582031 -4.53125 L 4.011719 -4.53125 L 4.011719 -3.265625 L 0.582031 -3.265625 Z M 0.582031 -4.53125 \"/>\n</symbol>\n<symbol overflow=\"visible\" id=\"glyph0-17\">\n<path style=\"stroke:none;\" d=\"M 0.902344 -7.320312 L 2.117188 -7.320312 L 2.117188 -6.28125 C 2.410156 -6.640625 2.675781 -6.90625 2.914062 -7.070312 C 3.320312 -7.347656 3.777344 -7.484375 4.292969 -7.484375 C 4.875 -7.484375 5.34375 -7.34375 5.703125 -7.054688 C 5.902344 -6.890625 6.085938 -6.648438 6.25 -6.328125 C 6.523438 -6.722656 6.84375 -7.011719 7.210938 -7.203125 C 7.582031 -7.390625 7.996094 -7.484375 8.457031 -7.484375 C 9.441406 -7.484375 10.109375 -7.128906 10.464844 -6.417969 C 10.65625 -6.035156 10.753906 -5.519531 10.753906 -4.875 L 10.753906 0 L 9.476562 0 L 9.476562 -5.085938 C 9.476562 -5.574219 9.351562 -5.910156 9.109375 -6.089844 C 8.867188 -6.273438 8.566406 -6.363281 8.21875 -6.363281 C 7.734375 -6.363281 7.316406 -6.203125 6.96875 -5.878906 C 6.621094 -5.554688 6.445312 -5.015625 6.445312 -4.257812 L 6.445312 0 L 5.195312 0 L 5.195312 -4.777344 C 5.195312 -5.273438 5.136719 -5.636719 5.015625 -5.867188 C 4.828125 -6.207031 4.480469 -6.378906 3.972656 -6.378906 C 3.507812 -6.378906 3.085938 -6.199219 2.703125 -5.835938 C 2.324219 -5.476562 2.132812 -4.828125 2.132812 -3.882812 L 2.132812 0 L 0.902344 0 Z M 0.902344 -7.320312 \"/>\n</symbol>\n<symbol overflow=\"visible\" id=\"glyph0-18\">\n<path style=\"stroke:none;\" d=\"M 3.992188 -0.828125 C 4.566406 -0.828125 5.042969 -1.066406 5.425781 -1.546875 C 5.804688 -2.027344 5.996094 -2.75 5.996094 -3.703125 C 5.996094 -4.289062 5.910156 -4.789062 5.742188 -5.210938 C 5.421875 -6.015625 4.839844 -6.417969 3.992188 -6.417969 C 3.140625 -6.417969 2.554688 -5.992188 2.242188 -5.140625 C 2.074219 -4.683594 1.988281 -4.105469 1.988281 -3.40625 C 1.988281 -2.839844 2.074219 -2.359375 2.242188 -1.960938 C 2.5625 -1.203125 3.144531 -0.828125 3.992188 -0.828125 Z M 0.804688 -7.289062 L 2.003906 -7.289062 L 2.003906 -6.316406 C 2.25 -6.648438 2.519531 -6.90625 2.808594 -7.089844 C 3.222656 -7.363281 3.710938 -7.5 4.273438 -7.5 C 5.101562 -7.5 5.804688 -7.179688 6.382812 -6.546875 C 6.960938 -5.910156 7.253906 -5 7.253906 -3.820312 C 7.253906 -2.226562 6.835938 -1.085938 6 -0.402344 C 5.472656 0.03125 4.859375 0.246094 4.15625 0.246094 C 3.605469 0.246094 3.140625 0.125 2.769531 -0.117188 C 2.550781 -0.253906 2.304688 -0.488281 2.039062 -0.820312 L 2.039062 2.917969 L 0.804688 2.917969 Z M 0.804688 -7.289062 \"/>\n</symbol>\n<symbol overflow=\"visible\" id=\"glyph0-19\">\n<path style=\"stroke:none;\" d=\"M 0.203125 -7.320312 L 1.796875 -7.320312 L 3.480469 -4.742188 L 5.179688 -7.320312 L 6.679688 -7.289062 L 4.210938 -3.753906 L 6.789062 0 L 5.214844 0 L 3.398438 -2.75 L 1.632812 0 L 0.0742188 0 L 2.652344 -3.753906 Z M 0.203125 -7.320312 \"/>\n</symbol>\n<symbol overflow=\"visible\" id=\"glyph0-20\">\n<path style=\"stroke:none;\" d=\"M 0.902344 -10.078125 L 2.132812 -10.078125 L 2.132812 -6.328125 C 2.425781 -6.699219 2.6875 -6.960938 2.917969 -7.109375 C 3.316406 -7.367188 3.808594 -7.5 4.402344 -7.5 C 5.464844 -7.5 6.183594 -7.128906 6.5625 -6.382812 C 6.765625 -5.976562 6.871094 -5.417969 6.871094 -4.695312 L 6.871094 0 L 5.605469 0 L 5.605469 -4.613281 C 5.605469 -5.152344 5.539062 -5.546875 5.398438 -5.796875 C 5.175781 -6.199219 4.757812 -6.398438 4.140625 -6.398438 C 3.632812 -6.398438 3.167969 -6.222656 2.753906 -5.871094 C 2.339844 -5.519531 2.132812 -4.859375 2.132812 -3.882812 L 2.132812 0 L 0.902344 0 Z M 0.902344 -10.078125 \"/>\n</symbol>\n<symbol overflow=\"visible\" id=\"glyph0-21\">\n<path style=\"stroke:none;\" d=\"M 1.503906 -7.320312 L 3.460938 -1.359375 L 5.503906 -7.320312 L 6.851562 -7.320312 L 4.085938 0 L 2.773438 0 L 0.0742188 -7.320312 Z M 1.503906 -7.320312 \"/>\n</symbol>\n<symbol overflow=\"visible\" id=\"glyph0-22\">\n<path style=\"stroke:none;\" d=\"M 5.476562 -7.320312 L 6.835938 -7.320312 C 6.664062 -6.851562 6.277344 -5.78125 5.679688 -4.109375 C 5.234375 -2.851562 4.859375 -1.824219 4.558594 -1.03125 C 3.847656 0.835938 3.347656 1.976562 3.054688 2.386719 C 2.765625 2.796875 2.261719 3 1.550781 3 C 1.378906 3 1.246094 2.992188 1.152344 2.980469 C 1.058594 2.96875 0.945312 2.941406 0.804688 2.90625 L 0.804688 1.785156 C 1.019531 1.84375 1.175781 1.878906 1.273438 1.894531 C 1.367188 1.90625 1.453125 1.914062 1.523438 1.914062 C 1.75 1.914062 1.917969 1.875 2.027344 1.800781 C 2.132812 1.726562 2.222656 1.632812 2.296875 1.523438 C 2.320312 1.488281 2.402344 1.300781 2.542969 0.964844 C 2.683594 0.625 2.785156 0.375 2.851562 0.210938 L 0.144531 -7.320312 L 1.539062 -7.320312 L 3.5 -1.359375 Z M 5.476562 -7.320312 \"/>\n</symbol>\n</g>\n</defs>\n<g id=\"surface2\">\n<rect x=\"0\" y=\"0\" width=\"700\" height=\"500\" style=\"fill:rgb(100%,100%,100%);fill-opacity:1;stroke:none;\"/>\n<path style=\"fill:none;stroke-width:1;stroke-linecap:butt;stroke-linejoin:miter;stroke:rgb(26.666667%,26.666667%,26.666667%);stroke-opacity:1;stroke-miterlimit:10;\" d=\"M 588.691406 128.988281 L 624.230469 269.417969 \"/>\n<path style=\" stroke:none;fill-rule:nonzero;fill:rgb(26.666667%,26.666667%,26.666667%);fill-opacity:1;\" d=\"M 627.730469 283.246094 L 619.738281 270.554688 L 628.726562 268.28125 L 627.730469 283.246094 \"/>\n<path style=\"fill:none;stroke-width:1;stroke-linecap:butt;stroke-linejoin:miter;stroke:rgb(26.666667%,26.666667%,26.666667%);stroke-opacity:1;stroke-miterlimit:10;\" d=\"M 588.691406 128.988281 L 393.390625 183.167969 \"/>\n<path style=\" stroke:none;fill-rule:nonzero;fill:rgb(26.666667%,26.666667%,26.666667%);fill-opacity:1;\" d=\"M 379.644531 186.980469 L 392.152344 178.699219 L 394.628906 187.632812 L 379.644531 186.980469 \"/>\n<path style=\"fill:none;stroke-width:1;stroke-linecap:butt;stroke-linejoin:miter;stroke:rgb(26.666667%,26.666667%,26.666667%);stroke-opacity:1;stroke-miterlimit:10;\" d=\"M 588.691406 128.988281 L 348.609375 273.863281 \"/>\n<path style=\" stroke:none;fill-rule:nonzero;fill:rgb(26.666667%,26.666667%,26.666667%);fill-opacity:1;\" d=\"M 336.394531 281.234375 L 346.214844 269.894531 L 351.003906 277.832031 L 336.394531 281.234375 \"/>\n<path style=\"fill:none;stroke-width:1;stroke-linecap:butt;stroke-linejoin:miter;stroke:rgb(26.666667%,26.666667%,26.666667%);stroke-opacity:1;stroke-miterlimit:10;\" d=\"M 588.691406 128.988281 L 187.691406 145.945312 \"/>\n<path style=\" stroke:none;fill-rule:nonzero;fill:rgb(26.666667%,26.666667%,26.666667%);fill-opacity:1;\" d=\"M 173.4375 146.550781 L 187.496094 141.316406 L 187.886719 150.578125 L 173.4375 146.550781 \"/>\n<path style=\"fill:none;stroke-width:1;stroke-linecap:butt;stroke-linejoin:miter;stroke:rgb(26.666667%,26.666667%,26.666667%);stroke-opacity:1;stroke-miterlimit:10;\" d=\"M 588.691406 128.988281 L 122.699219 233.828125 \"/>\n<path style=\" stroke:none;fill-rule:nonzero;fill:rgb(26.666667%,26.666667%,26.666667%);fill-opacity:1;\" d=\"M 108.78125 236.960938 L 121.679688 229.308594 L 123.714844 238.351562 L 108.78125 236.960938 \"/>\n<path style=\"fill:none;stroke-width:1;stroke-linecap:butt;stroke-linejoin:miter;stroke:rgb(26.666667%,26.666667%,26.666667%);stroke-opacity:1;stroke-miterlimit:10;\" d=\"M 588.691406 128.988281 L 515.082031 219.039062 \"/>\n<path style=\" stroke:none;fill-rule:nonzero;fill:rgb(26.666667%,26.666667%,26.666667%);fill-opacity:1;\" d=\"M 506.054688 230.085938 L 511.496094 216.105469 L 518.671875 221.972656 L 506.054688 230.085938 \"/>\n<path style=\"fill:none;stroke-width:1;stroke-linecap:butt;stroke-linejoin:miter;stroke:rgb(26.666667%,26.666667%,26.666667%);stroke-opacity:1;stroke-miterlimit:10;\" d=\"M 640 331.71875 L 534.488281 291.625 \"/>\n<path style=\" stroke:none;fill-rule:nonzero;fill:rgb(26.666667%,26.666667%,26.666667%);fill-opacity:1;\" d=\"M 521.152344 286.558594 L 536.132812 287.292969 L 532.839844 295.960938 L 521.152344 286.558594 \"/>\n<path style=\"fill:none;stroke-width:1;stroke-linecap:butt;stroke-linejoin:miter;stroke:rgb(26.666667%,26.666667%,26.666667%);stroke-opacity:1;stroke-miterlimit:10;\" d=\"M 331.464844 200.347656 L 580.871094 306.542969 \"/>\n<path style=\" stroke:none;fill-rule:nonzero;fill:rgb(26.666667%,26.666667%,26.666667%);fill-opacity:1;\" d=\"M 593.996094 312.132812 L 579.054688 310.808594 L 582.6875 302.277344 L 593.996094 312.132812 \"/>\n<path style=\"fill:none;stroke-width:1;stroke-linecap:butt;stroke-linejoin:miter;stroke:rgb(26.666667%,26.666667%,26.666667%);stroke-opacity:1;stroke-miterlimit:10;\" d=\"M 331.464844 200.347656 L 185.851562 164.160156 \"/>\n<path style=\" stroke:none;fill-rule:nonzero;fill:rgb(26.666667%,26.666667%,26.666667%);fill-opacity:1;\" d=\"M 172.007812 160.722656 L 186.96875 159.664062 L 184.734375 168.660156 L 172.007812 160.722656 \"/>\n<path style=\"fill:none;stroke-width:1;stroke-linecap:butt;stroke-linejoin:miter;stroke:rgb(26.666667%,26.666667%,26.666667%);stroke-opacity:1;stroke-miterlimit:10;\" d=\"M 331.464844 200.347656 L 123.300781 236.839844 \"/>\n<path style=\" stroke:none;fill-rule:nonzero;fill:rgb(26.666667%,26.666667%,26.666667%);fill-opacity:1;\" d=\"M 109.25 239.304688 L 122.5 232.273438 L 124.101562 241.40625 L 109.25 239.304688 \"/>\n<path style=\"fill:none;stroke-width:1;stroke-linecap:butt;stroke-linejoin:miter;stroke:rgb(26.666667%,26.666667%,26.666667%);stroke-opacity:1;stroke-miterlimit:10;\" d=\"M 331.464844 200.347656 L 416.449219 241.042969 \"/>\n<path style=\" stroke:none;fill-rule:nonzero;fill:rgb(26.666667%,26.666667%,26.666667%);fill-opacity:1;\" d=\"M 429.316406 247.203125 L 414.445312 245.222656 L 418.449219 236.863281 L 429.316406 247.203125 \"/>\n<path style=\"fill:none;stroke-width:1;stroke-linecap:butt;stroke-linejoin:miter;stroke:rgb(26.666667%,26.666667%,26.666667%);stroke-opacity:1;stroke-miterlimit:10;\" d=\"M 293.585938 307.066406 L 575.894531 327.15625 \"/>\n<path style=\" stroke:none;fill-rule:nonzero;fill:rgb(26.666667%,26.666667%,26.666667%);fill-opacity:1;\" d=\"M 590.125 328.171875 L 575.566406 331.78125 L 576.226562 322.535156 L 590.125 328.171875 \"/>\n<path style=\"fill:none;stroke-width:1;stroke-linecap:butt;stroke-linejoin:miter;stroke:rgb(26.666667%,26.666667%,26.666667%);stroke-opacity:1;stroke-miterlimit:10;\" d=\"M 293.585938 307.066406 L 309.96875 260.910156 \"/>\n<path style=\" stroke:none;fill-rule:nonzero;fill:rgb(26.666667%,26.666667%,26.666667%);fill-opacity:1;\" d=\"M 314.738281 247.46875 L 314.335938 262.460938 L 305.597656 259.359375 L 314.738281 247.46875 \"/>\n<path style=\"fill:none;stroke-width:1;stroke-linecap:butt;stroke-linejoin:miter;stroke:rgb(26.666667%,26.666667%,26.666667%);stroke-opacity:1;stroke-miterlimit:10;\" d=\"M 293.585938 307.066406 L 170.515625 192.460938 \"/>\n<path style=\" stroke:none;fill-rule:nonzero;fill:rgb(26.666667%,26.666667%,26.666667%);fill-opacity:1;\" d=\"M 160.074219 182.738281 L 173.671875 189.066406 L 167.355469 195.851562 L 160.074219 182.738281 \"/>\n<path style=\"fill:none;stroke-width:1;stroke-linecap:butt;stroke-linejoin:miter;stroke:rgb(26.666667%,26.666667%,26.666667%);stroke-opacity:1;stroke-miterlimit:10;\" d=\"M 293.585938 307.066406 L 122.300781 263.707031 \"/>\n<path style=\" stroke:none;fill-rule:nonzero;fill:rgb(26.666667%,26.666667%,26.666667%);fill-opacity:1;\" d=\"M 108.472656 260.207031 L 123.4375 259.214844 L 121.164062 268.199219 L 108.472656 260.207031 \"/>\n<path style=\"fill:none;stroke-width:1;stroke-linecap:butt;stroke-linejoin:miter;stroke:rgb(26.666667%,26.666667%,26.666667%);stroke-opacity:1;stroke-miterlimit:10;\" d=\"M 293.585938 307.066406 L 411.539062 282.105469 \"/>\n<path style=\" stroke:none;fill-rule:nonzero;fill:rgb(26.666667%,26.666667%,26.666667%);fill-opacity:1;\" d=\"M 425.496094 279.152344 L 412.496094 286.640625 L 410.578125 277.570312 L 425.496094 279.152344 \"/>\n<path style=\"fill:none;stroke-width:1;stroke-linecap:butt;stroke-linejoin:miter;stroke:rgb(26.666667%,26.666667%,26.666667%);stroke-opacity:1;stroke-miterlimit:10;\" d=\"M 123.484375 148.664062 L 413.609375 247.984375 \"/>\n<path style=\" stroke:none;fill-rule:nonzero;fill:rgb(26.666667%,26.666667%,26.666667%);fill-opacity:1;\" d=\"M 427.105469 252.605469 L 412.109375 252.371094 L 415.109375 243.597656 L 427.105469 252.605469 \"/>\n<path style=\"fill:none;stroke-width:1;stroke-linecap:butt;stroke-linejoin:miter;stroke:rgb(26.666667%,26.666667%,26.666667%);stroke-opacity:1;stroke-miterlimit:10;\" d=\"M 87.09375 395.558594 L 576.160156 339.089844 \"/>\n<path style=\" stroke:none;fill-rule:nonzero;fill:rgb(26.666667%,26.666667%,26.666667%);fill-opacity:1;\" d=\"M 590.328125 337.453125 L 576.691406 343.695312 L 575.625 334.484375 L 590.328125 337.453125 \"/>\n<path style=\"fill:none;stroke-width:1;stroke-linecap:butt;stroke-linejoin:miter;stroke:rgb(26.666667%,26.666667%,26.666667%);stroke-opacity:1;stroke-miterlimit:10;\" d=\"M 87.09375 395.558594 L 281.25 240.457031 \"/>\n<path style=\" stroke:none;fill-rule:nonzero;fill:rgb(26.666667%,26.666667%,26.666667%);fill-opacity:1;\" d=\"M 292.398438 231.554688 L 284.144531 244.078125 L 278.359375 236.835938 L 292.398438 231.554688 \"/>\n<path style=\"fill:none;stroke-width:1;stroke-linecap:butt;stroke-linejoin:miter;stroke:rgb(26.666667%,26.666667%,26.666667%);stroke-opacity:1;stroke-miterlimit:10;\" d=\"M 87.09375 395.558594 L 234.515625 332.382812 \"/>\n<path style=\" stroke:none;fill-rule:nonzero;fill:rgb(26.666667%,26.666667%,26.666667%);fill-opacity:1;\" d=\"M 247.628906 326.761719 L 236.339844 336.640625 L 232.6875 328.121094 L 247.628906 326.761719 \"/>\n<path style=\"fill:none;stroke-width:1;stroke-linecap:butt;stroke-linejoin:miter;stroke:rgb(26.666667%,26.666667%,26.666667%);stroke-opacity:1;stroke-miterlimit:10;\" d=\"M 87.09375 395.558594 L 114.113281 212.242188 \"/>\n<path style=\" stroke:none;fill-rule:nonzero;fill:rgb(26.666667%,26.666667%,26.666667%);fill-opacity:1;\" d=\"M 116.191406 198.128906 L 118.699219 212.917969 L 109.527344 211.566406 L 116.191406 198.128906 \"/>\n<path style=\"fill:none;stroke-width:1;stroke-linecap:butt;stroke-linejoin:miter;stroke:rgb(26.666667%,26.666667%,26.666667%);stroke-opacity:1;stroke-miterlimit:10;\" d=\"M 87.09375 395.558594 L 71.601562 311.148438 \"/>\n<path style=\" stroke:none;fill-rule:nonzero;fill:rgb(26.666667%,26.666667%,26.666667%);fill-opacity:1;\" d=\"M 69.027344 297.113281 L 76.160156 310.308594 L 67.042969 311.984375 L 69.027344 297.113281 \"/>\n<path style=\"fill:none;stroke-width:1;stroke-linecap:butt;stroke-linejoin:miter;stroke:rgb(26.666667%,26.666667%,26.666667%);stroke-opacity:1;stroke-miterlimit:10;\" d=\"M 87.09375 395.558594 L 413.332031 288.789062 \"/>\n<path style=\" stroke:none;fill-rule:nonzero;fill:rgb(26.666667%,26.666667%,26.666667%);fill-opacity:1;\" d=\"M 426.890625 284.351562 L 414.773438 293.195312 L 411.890625 284.382812 L 426.890625 284.351562 \"/>\n<path style=\"fill:none;stroke-width:1;stroke-linecap:butt;stroke-linejoin:miter;stroke:rgb(26.666667%,26.666667%,26.666667%);stroke-opacity:1;stroke-miterlimit:10;\" d=\"M 341.578125 440 L 579.589844 353.640625 \"/>\n<path style=\" stroke:none;fill-rule:nonzero;fill:rgb(26.666667%,26.666667%,26.666667%);fill-opacity:1;\" d=\"M 593 348.773438 L 581.167969 357.996094 L 578.007812 349.28125 L 593 348.773438 \"/>\n<path style=\"fill:none;stroke-width:1;stroke-linecap:butt;stroke-linejoin:miter;stroke:rgb(26.666667%,26.666667%,26.666667%);stroke-opacity:1;stroke-miterlimit:10;\" d=\"M 341.578125 440 L 334.171875 264.554688 \"/>\n<path style=\" stroke:none;fill-rule:nonzero;fill:rgb(26.666667%,26.666667%,26.666667%);fill-opacity:1;\" d=\"M 333.570312 250.300781 L 338.804688 264.359375 L 329.542969 264.75 L 333.570312 250.300781 \"/>\n<path style=\"fill:none;stroke-width:1;stroke-linecap:butt;stroke-linejoin:miter;stroke:rgb(26.666667%,26.666667%,26.666667%);stroke-opacity:1;stroke-miterlimit:10;\" d=\"M 341.578125 440 L 315.410156 367.515625 \"/>\n<path style=\" stroke:none;fill-rule:nonzero;fill:rgb(26.666667%,26.666667%,26.666667%);fill-opacity:1;\" d=\"M 310.5625 354.097656 L 319.769531 365.941406 L 311.046875 369.089844 L 310.5625 354.097656 \"/>\n<path style=\"fill:none;stroke-width:1;stroke-linecap:butt;stroke-linejoin:miter;stroke:rgb(26.666667%,26.666667%,26.666667%);stroke-opacity:1;stroke-miterlimit:10;\" d=\"M 341.578125 440 L 161.996094 200.109375 \"/>\n<path style=\" stroke:none;fill-rule:nonzero;fill:rgb(26.666667%,26.666667%,26.666667%);fill-opacity:1;\" d=\"M 153.445312 188.6875 L 165.707031 197.332031 L 158.285156 202.886719 L 153.445312 188.6875 \"/>\n<path style=\"fill:none;stroke-width:1;stroke-linecap:butt;stroke-linejoin:miter;stroke:rgb(26.666667%,26.666667%,26.666667%);stroke-opacity:1;stroke-miterlimit:10;\" d=\"M 341.578125 440 L 113.089844 284.148438 \"/>\n<path style=\" stroke:none;fill-rule:nonzero;fill:rgb(26.666667%,26.666667%,26.666667%);fill-opacity:1;\" d=\"M 101.304688 276.109375 L 115.703125 280.320312 L 110.480469 287.980469 L 101.304688 276.109375 \"/>\n<path style=\"fill:none;stroke-width:1;stroke-linecap:butt;stroke-linejoin:miter;stroke:rgb(26.666667%,26.666667%,26.666667%);stroke-opacity:1;stroke-miterlimit:10;\" d=\"M 341.578125 440 L 435.015625 319.574219 \"/>\n<path style=\" stroke:none;fill-rule:nonzero;fill:rgb(26.666667%,26.666667%,26.666667%);fill-opacity:1;\" d=\"M 443.761719 308.304688 L 438.679688 322.414062 L 431.351562 316.730469 L 443.761719 308.304688 \"/>\n<path style=\"fill:none;stroke-width:1;stroke-linecap:butt;stroke-linejoin:miter;stroke:rgb(26.666667%,26.666667%,26.666667%);stroke-opacity:1;stroke-miterlimit:10;\" d=\"M 60 247.9375 L 410.226562 265.566406 \"/>\n<path style=\" stroke:none;fill-rule:nonzero;fill:rgb(26.666667%,26.666667%,26.666667%);fill-opacity:1;\" d=\"M 424.476562 266.285156 L 409.992188 270.199219 L 410.460938 260.9375 L 424.476562 266.285156 \"/>\n<path style=\"fill:none;stroke-width:1;stroke-linecap:butt;stroke-linejoin:miter;stroke:rgb(26.666667%,26.666667%,26.666667%);stroke-opacity:1;stroke-miterlimit:10;\" d=\"M 360.792969 60 L 593.945312 286.898438 \"/>\n<path style=\" stroke:none;fill-rule:nonzero;fill:rgb(26.666667%,26.666667%,26.666667%);fill-opacity:1;\" d=\"M 604.167969 296.847656 L 590.710938 290.21875 L 597.175781 283.578125 L 604.167969 296.847656 \"/>\n<path style=\"fill:none;stroke-width:1;stroke-linecap:butt;stroke-linejoin:miter;stroke:rgb(26.666667%,26.666667%,26.666667%);stroke-opacity:1;stroke-miterlimit:10;\" d=\"M 360.792969 60 L 344.609375 137.441406 \"/>\n<path style=\" stroke:none;fill-rule:nonzero;fill:rgb(26.666667%,26.666667%,26.666667%);fill-opacity:1;\" d=\"M 341.691406 151.40625 L 340.074219 136.492188 L 349.148438 138.386719 L 341.691406 151.40625 \"/>\n<path style=\"fill:none;stroke-width:1;stroke-linecap:butt;stroke-linejoin:miter;stroke:rgb(26.666667%,26.666667%,26.666667%);stroke-opacity:1;stroke-miterlimit:10;\" d=\"M 360.792969 60 L 310.453125 245.054688 \"/>\n<path style=\" stroke:none;fill-rule:nonzero;fill:rgb(26.666667%,26.666667%,26.666667%);fill-opacity:1;\" d=\"M 306.710938 258.820312 L 305.980469 243.839844 L 314.925781 246.273438 L 306.710938 258.820312 \"/>\n<path style=\"fill:none;stroke-width:1;stroke-linecap:butt;stroke-linejoin:miter;stroke:rgb(26.666667%,26.666667%,26.666667%);stroke-opacity:1;stroke-miterlimit:10;\" d=\"M 360.792969 60 L 183.683594 126.171875 \"/>\n<path style=\" stroke:none;fill-rule:nonzero;fill:rgb(26.666667%,26.666667%,26.666667%);fill-opacity:1;\" d=\"M 170.320312 131.164062 L 182.0625 121.828125 L 185.308594 130.511719 L 170.320312 131.164062 \"/>\n<path style=\"fill:none;stroke-width:1;stroke-linecap:butt;stroke-linejoin:miter;stroke:rgb(26.666667%,26.666667%,26.666667%);stroke-opacity:1;stroke-miterlimit:10;\" d=\"M 360.792969 60 L 114.503906 213.882812 \"/>\n<path style=\" stroke:none;fill-rule:nonzero;fill:rgb(26.666667%,26.666667%,26.666667%);fill-opacity:1;\" d=\"M 102.402344 221.441406 L 112.046875 209.953125 L 116.957031 217.8125 L 102.402344 221.441406 \"/>\n<path style=\"fill:none;stroke-width:1;stroke-linecap:butt;stroke-linejoin:miter;stroke:rgb(26.666667%,26.666667%,26.666667%);stroke-opacity:1;stroke-miterlimit:10;\" d=\"M 360.792969 60 L 443.695312 212.347656 \"/>\n<path style=\" stroke:none;fill-rule:nonzero;fill:rgb(26.666667%,26.666667%,26.666667%);fill-opacity:1;\" d=\"M 450.511719 224.878906 L 439.625 214.566406 L 447.765625 210.132812 L 450.511719 224.878906 \"/>\n<path style=\"fill-rule:nonzero;fill:rgb(100%,0%,0%);fill-opacity:1;stroke-width:1;stroke-linecap:butt;stroke-linejoin:miter;stroke:rgb(0%,0%,0%);stroke-opacity:1;stroke-miterlimit:10;\" d=\"M 638.691406 128.988281 C 638.691406 156.601562 616.304688 178.988281 588.691406 178.988281 C 561.074219 178.988281 538.691406 156.601562 538.691406 128.988281 C 538.691406 101.375 561.074219 78.988281 588.691406 78.988281 C 616.304688 78.988281 638.691406 101.375 638.691406 128.988281 \"/>\n<path style=\"fill-rule:nonzero;fill:rgb(100%,0%,0%);fill-opacity:1;stroke-width:1;stroke-linecap:butt;stroke-linejoin:miter;stroke:rgb(0%,0%,0%);stroke-opacity:1;stroke-miterlimit:10;\" d=\"M 690 331.71875 C 690 359.332031 667.613281 381.71875 640 381.71875 C 612.386719 381.71875 590 359.332031 590 331.71875 C 590 304.105469 612.386719 281.71875 640 281.71875 C 667.613281 281.71875 690 304.105469 690 331.71875 \"/>\n<path style=\"fill-rule:nonzero;fill:rgb(100%,0%,0%);fill-opacity:1;stroke-width:1;stroke-linecap:butt;stroke-linejoin:miter;stroke:rgb(0%,0%,0%);stroke-opacity:1;stroke-miterlimit:10;\" d=\"M 381.464844 200.347656 C 381.464844 227.960938 359.078125 250.347656 331.464844 250.347656 C 303.847656 250.347656 281.464844 227.960938 281.464844 200.347656 C 281.464844 172.734375 303.847656 150.347656 331.464844 150.347656 C 359.078125 150.347656 381.464844 172.734375 381.464844 200.347656 \"/>\n<path style=\"fill-rule:nonzero;fill:rgb(100%,0%,0%);fill-opacity:1;stroke-width:1;stroke-linecap:butt;stroke-linejoin:miter;stroke:rgb(0%,0%,0%);stroke-opacity:1;stroke-miterlimit:10;\" d=\"M 343.585938 307.066406 C 343.585938 334.683594 321.199219 357.066406 293.585938 357.066406 C 265.972656 357.066406 243.585938 334.683594 243.585938 307.066406 C 243.585938 279.453125 265.972656 257.066406 293.585938 257.066406 C 321.199219 257.066406 343.585938 279.453125 343.585938 307.066406 \"/>\n<path style=\"fill-rule:nonzero;fill:rgb(100%,0%,0%);fill-opacity:1;stroke-width:1;stroke-linecap:butt;stroke-linejoin:miter;stroke:rgb(0%,0%,0%);stroke-opacity:1;stroke-miterlimit:10;\" d=\"M 173.484375 148.664062 C 173.484375 176.277344 151.097656 198.664062 123.484375 198.664062 C 95.867188 198.664062 73.484375 176.277344 73.484375 148.664062 C 73.484375 121.046875 95.867188 98.664062 123.484375 98.664062 C 151.097656 98.664062 173.484375 121.046875 173.484375 148.664062 \"/>\n<path style=\"fill-rule:nonzero;fill:rgb(100%,0%,0%);fill-opacity:1;stroke-width:1;stroke-linecap:butt;stroke-linejoin:miter;stroke:rgb(0%,0%,0%);stroke-opacity:1;stroke-miterlimit:10;\" d=\"M 137.09375 395.558594 C 137.09375 423.171875 114.707031 445.558594 87.09375 445.558594 C 59.480469 445.558594 37.09375 423.171875 37.09375 395.558594 C 37.09375 367.945312 59.480469 345.558594 87.09375 345.558594 C 114.707031 345.558594 137.09375 367.945312 137.09375 395.558594 \"/>\n<path style=\"fill-rule:nonzero;fill:rgb(100%,0%,0%);fill-opacity:1;stroke-width:1;stroke-linecap:butt;stroke-linejoin:miter;stroke:rgb(0%,0%,0%);stroke-opacity:1;stroke-miterlimit:10;\" d=\"M 391.578125 440 C 391.578125 467.613281 369.191406 490 341.578125 490 C 313.964844 490 291.578125 467.613281 291.578125 440 C 291.578125 412.386719 313.964844 390 341.578125 390 C 369.191406 390 391.578125 412.386719 391.578125 440 \"/>\n<path style=\"fill-rule:nonzero;fill:rgb(100%,0%,0%);fill-opacity:1;stroke-width:1;stroke-linecap:butt;stroke-linejoin:miter;stroke:rgb(0%,0%,0%);stroke-opacity:1;stroke-miterlimit:10;\" d=\"M 110 247.9375 C 110 275.550781 87.613281 297.9375 60 297.9375 C 32.386719 297.9375 10 275.550781 10 247.9375 C 10 220.320312 32.386719 197.9375 60 197.9375 C 87.613281 197.9375 110 220.320312 110 247.9375 \"/>\n<path style=\"fill-rule:nonzero;fill:rgb(100%,0%,0%);fill-opacity:1;stroke-width:1;stroke-linecap:butt;stroke-linejoin:miter;stroke:rgb(0%,0%,0%);stroke-opacity:1;stroke-miterlimit:10;\" d=\"M 410.792969 60 C 410.792969 87.613281 388.410156 110 360.792969 110 C 333.179688 110 310.792969 87.613281 310.792969 60 C 310.792969 32.386719 333.179688 10 360.792969 10 C 388.410156 10 410.792969 32.386719 410.792969 60 \"/>\n<path style=\"fill-rule:nonzero;fill:rgb(100%,0%,0%);fill-opacity:1;stroke-width:1;stroke-linecap:butt;stroke-linejoin:miter;stroke:rgb(0%,0%,0%);stroke-opacity:1;stroke-miterlimit:10;\" d=\"M 524.410156 268.800781 C 524.410156 296.414062 502.027344 318.800781 474.410156 318.800781 C 446.796875 318.800781 424.410156 296.414062 424.410156 268.800781 C 424.410156 241.183594 446.796875 218.800781 474.410156 218.800781 C 502.027344 218.800781 524.410156 241.183594 524.410156 268.800781 \"/>\n<g style=\"fill:rgb(0%,0%,0%);fill-opacity:1;\">\n  <use xlink:href=\"#glyph0-1\" x=\"577.035156\" y=\"134.347656\"/>\n  <use xlink:href=\"#glyph0-2\" x=\"584.821289\" y=\"134.347656\"/>\n  <use xlink:href=\"#glyph0-3\" x=\"592.607422\" y=\"134.347656\"/>\n</g>\n<g style=\"fill:rgb(0%,0%,0%);fill-opacity:1;\">\n  <use xlink:href=\"#glyph0-4\" x=\"609.464844\" y=\"338.351562\"/>\n  <use xlink:href=\"#glyph0-5\" x=\"619.575195\" y=\"338.351562\"/>\n  <use xlink:href=\"#glyph0-6\" x=\"627.361328\" y=\"338.351562\"/>\n  <use xlink:href=\"#glyph0-7\" x=\"632.023438\" y=\"338.351562\"/>\n  <use xlink:href=\"#glyph0-8\" x=\"639.023438\" y=\"338.351562\"/>\n  <use xlink:href=\"#glyph0-9\" x=\"646.023438\" y=\"338.351562\"/>\n  <use xlink:href=\"#glyph0-1\" x=\"649.133789\" y=\"338.351562\"/>\n  <use xlink:href=\"#glyph0-10\" x=\"656.919922\" y=\"338.351562\"/>\n  <use xlink:href=\"#glyph0-10\" x=\"663.919922\" y=\"338.351562\"/>\n</g>\n<g style=\"fill:rgb(0%,0%,0%);fill-opacity:1;\">\n  <use xlink:href=\"#glyph0-3\" x=\"285.367188\" y=\"206.996094\"/>\n  <use xlink:href=\"#glyph0-11\" x=\"293.15332\" y=\"206.996094\"/>\n  <use xlink:href=\"#glyph0-12\" x=\"300.939453\" y=\"206.996094\"/>\n  <use xlink:href=\"#glyph0-8\" x=\"308.725586\" y=\"206.996094\"/>\n  <use xlink:href=\"#glyph0-1\" x=\"315.725586\" y=\"206.996094\"/>\n  <use xlink:href=\"#glyph0-13\" x=\"323.511719\" y=\"206.996094\"/>\n  <use xlink:href=\"#glyph0-14\" x=\"327.401367\" y=\"206.996094\"/>\n  <use xlink:href=\"#glyph0-5\" x=\"330.511719\" y=\"206.996094\"/>\n  <use xlink:href=\"#glyph0-15\" x=\"338.297852\" y=\"206.996094\"/>\n  <use xlink:href=\"#glyph0-16\" x=\"346.083984\" y=\"206.996094\"/>\n  <use xlink:href=\"#glyph0-15\" x=\"350.746094\" y=\"206.996094\"/>\n  <use xlink:href=\"#glyph0-12\" x=\"358.532227\" y=\"206.996094\"/>\n  <use xlink:href=\"#glyph0-17\" x=\"366.318359\" y=\"206.996094\"/>\n</g>\n<g style=\"fill:rgb(0%,0%,0%);fill-opacity:1;\">\n  <use xlink:href=\"#glyph0-17\" x=\"251.375\" y=\"313.699219\"/>\n  <use xlink:href=\"#glyph0-1\" x=\"263.037109\" y=\"313.699219\"/>\n  <use xlink:href=\"#glyph0-6\" x=\"270.823242\" y=\"313.699219\"/>\n  <use xlink:href=\"#glyph0-14\" x=\"275.485352\" y=\"313.699219\"/>\n  <use xlink:href=\"#glyph0-13\" x=\"278.595703\" y=\"313.699219\"/>\n  <use xlink:href=\"#glyph0-1\" x=\"282.485352\" y=\"313.699219\"/>\n  <use xlink:href=\"#glyph0-9\" x=\"290.271484\" y=\"313.699219\"/>\n  <use xlink:href=\"#glyph0-16\" x=\"293.381836\" y=\"313.699219\"/>\n  <use xlink:href=\"#glyph0-10\" x=\"298.043945\" y=\"313.699219\"/>\n  <use xlink:href=\"#glyph0-13\" x=\"305.043945\" y=\"313.699219\"/>\n  <use xlink:href=\"#glyph0-1\" x=\"308.933594\" y=\"313.699219\"/>\n  <use xlink:href=\"#glyph0-13\" x=\"316.719727\" y=\"313.699219\"/>\n  <use xlink:href=\"#glyph0-12\" x=\"320.609375\" y=\"313.699219\"/>\n  <use xlink:href=\"#glyph0-10\" x=\"328.395508\" y=\"313.699219\"/>\n</g>\n<g style=\"fill:rgb(0%,0%,0%);fill-opacity:1;\">\n  <use xlink:href=\"#glyph0-5\" x=\"89.882812\" y=\"155.292969\"/>\n  <use xlink:href=\"#glyph0-8\" x=\"97.668945\" y=\"155.292969\"/>\n  <use xlink:href=\"#glyph0-8\" x=\"104.668945\" y=\"155.292969\"/>\n  <use xlink:href=\"#glyph0-12\" x=\"111.668945\" y=\"155.292969\"/>\n  <use xlink:href=\"#glyph0-18\" x=\"119.455078\" y=\"155.292969\"/>\n  <use xlink:href=\"#glyph0-1\" x=\"127.241211\" y=\"155.292969\"/>\n  <use xlink:href=\"#glyph0-13\" x=\"135.027344\" y=\"155.292969\"/>\n  <use xlink:href=\"#glyph0-14\" x=\"138.916992\" y=\"155.292969\"/>\n  <use xlink:href=\"#glyph0-5\" x=\"142.027344\" y=\"155.292969\"/>\n  <use xlink:href=\"#glyph0-15\" x=\"149.813477\" y=\"155.292969\"/>\n</g>\n<g style=\"fill:rgb(0%,0%,0%);fill-opacity:1;\">\n  <use xlink:href=\"#glyph0-6\" x=\"73.3125\" y=\"400.933594\"/>\n  <use xlink:href=\"#glyph0-1\" x=\"77.974609\" y=\"400.933594\"/>\n  <use xlink:href=\"#glyph0-8\" x=\"85.760742\" y=\"400.933594\"/>\n  <use xlink:href=\"#glyph0-3\" x=\"92.760742\" y=\"400.933594\"/>\n</g>\n<g style=\"fill:rgb(0%,0%,0%);fill-opacity:1;\">\n  <use xlink:href=\"#glyph0-10\" x=\"330.566406\" y=\"445.367188\"/>\n  <use xlink:href=\"#glyph0-3\" x=\"337.566406\" y=\"445.367188\"/>\n  <use xlink:href=\"#glyph0-19\" x=\"345.352539\" y=\"445.367188\"/>\n</g>\n<g style=\"fill:rgb(0%,0%,0%);fill-opacity:1;\">\n  <use xlink:href=\"#glyph0-20\" x=\"10.945312\" y=\"254.585938\"/>\n  <use xlink:href=\"#glyph0-5\" x=\"18.731445\" y=\"254.585938\"/>\n  <use xlink:href=\"#glyph0-12\" x=\"26.517578\" y=\"254.585938\"/>\n  <use xlink:href=\"#glyph0-6\" x=\"34.303711\" y=\"254.585938\"/>\n  <use xlink:href=\"#glyph0-10\" x=\"38.96582\" y=\"254.585938\"/>\n  <use xlink:href=\"#glyph0-16\" x=\"45.96582\" y=\"254.585938\"/>\n  <use xlink:href=\"#glyph0-18\" x=\"50.62793\" y=\"254.585938\"/>\n  <use xlink:href=\"#glyph0-3\" x=\"58.414062\" y=\"254.585938\"/>\n  <use xlink:href=\"#glyph0-6\" x=\"66.200195\" y=\"254.585938\"/>\n  <use xlink:href=\"#glyph0-16\" x=\"70.862305\" y=\"254.585938\"/>\n  <use xlink:href=\"#glyph0-4\" x=\"75.524414\" y=\"254.585938\"/>\n  <use xlink:href=\"#glyph0-3\" x=\"85.634766\" y=\"254.585938\"/>\n  <use xlink:href=\"#glyph0-3\" x=\"93.420898\" y=\"254.585938\"/>\n  <use xlink:href=\"#glyph0-7\" x=\"101.207031\" y=\"254.585938\"/>\n</g>\n<g style=\"fill:rgb(0%,0%,0%);fill-opacity:1;\">\n  <use xlink:href=\"#glyph0-15\" x=\"316.460938\" y=\"66.632812\"/>\n  <use xlink:href=\"#glyph0-1\" x=\"324.24707\" y=\"66.632812\"/>\n  <use xlink:href=\"#glyph0-13\" x=\"332.033203\" y=\"66.632812\"/>\n  <use xlink:href=\"#glyph0-14\" x=\"335.922852\" y=\"66.632812\"/>\n  <use xlink:href=\"#glyph0-21\" x=\"339.033203\" y=\"66.632812\"/>\n  <use xlink:href=\"#glyph0-3\" x=\"346.033203\" y=\"66.632812\"/>\n  <use xlink:href=\"#glyph0-16\" x=\"353.819336\" y=\"66.632812\"/>\n  <use xlink:href=\"#glyph0-8\" x=\"358.481445\" y=\"66.632812\"/>\n  <use xlink:href=\"#glyph0-5\" x=\"365.481445\" y=\"66.632812\"/>\n  <use xlink:href=\"#glyph0-12\" x=\"373.267578\" y=\"66.632812\"/>\n  <use xlink:href=\"#glyph0-15\" x=\"381.053711\" y=\"66.632812\"/>\n  <use xlink:href=\"#glyph0-13\" x=\"388.839844\" y=\"66.632812\"/>\n  <use xlink:href=\"#glyph0-6\" x=\"392.729492\" y=\"66.632812\"/>\n  <use xlink:href=\"#glyph0-22\" x=\"397.391602\" y=\"66.632812\"/>\n</g>\n<g style=\"fill:rgb(0%,0%,0%);fill-opacity:1;\">\n  <use xlink:href=\"#glyph0-1\" x=\"428.519531\" y=\"275.429688\"/>\n  <use xlink:href=\"#glyph0-15\" x=\"436.305664\" y=\"275.429688\"/>\n  <use xlink:href=\"#glyph0-15\" x=\"444.091797\" y=\"275.429688\"/>\n  <use xlink:href=\"#glyph0-12\" x=\"451.87793\" y=\"275.429688\"/>\n  <use xlink:href=\"#glyph0-1\" x=\"459.664062\" y=\"275.429688\"/>\n  <use xlink:href=\"#glyph0-9\" x=\"467.450195\" y=\"275.429688\"/>\n  <use xlink:href=\"#glyph0-16\" x=\"470.560547\" y=\"275.429688\"/>\n  <use xlink:href=\"#glyph0-14\" x=\"475.222656\" y=\"275.429688\"/>\n  <use xlink:href=\"#glyph0-15\" x=\"478.333008\" y=\"275.429688\"/>\n  <use xlink:href=\"#glyph0-8\" x=\"486.119141\" y=\"275.429688\"/>\n  <use xlink:href=\"#glyph0-5\" x=\"493.119141\" y=\"275.429688\"/>\n  <use xlink:href=\"#glyph0-17\" x=\"500.905273\" y=\"275.429688\"/>\n  <use xlink:href=\"#glyph0-3\" x=\"512.567383\" y=\"275.429688\"/>\n</g>\n</g>\n</svg>\n",
      "text/plain": [
       "<igraph.drawing.Plot at 0x7fae6071c130>"
      ]
     },
     "execution_count": 8,
     "metadata": {
      "image/svg+xml": {
       "isolated": true
      }
     },
     "output_type": "execute_result"
    }
   ],
   "source": [
    "G = igraph.Graph.Adjacency(matrix=adj_mat.values.tolist())\n",
    "G.vs['label'] = adj_mat.columns\n",
    "igraph.plot(G, bbox=(0, 0, 700, 500), vertex_size=100, margin=60)"
   ]
  },
  {
   "cell_type": "markdown",
   "metadata": {},
   "source": [
    "## Instantiate and run FairAdapt\n",
    "In the final step we run `FairAdapt` to perform the data adaptation. We use sex as the protected attribute."
   ]
  },
  {
   "cell_type": "code",
   "execution_count": 9,
   "metadata": {
    "scrolled": true
   },
   "outputs": [],
   "source": [
    "FA = FairAdapt(prot_attr=\"sex\", adj_mat=adj_mat, outcome=\"annual-income\")\n",
    "Xf_train, yf_train, Xf_test = FA.fit_transform(X_train, y_train, X_test)"
   ]
  },
  {
   "cell_type": "markdown",
   "metadata": {},
   "source": [
    "## Retrain LGBM and check whether discrimination was removed\n",
    "After the adaptation, the same classifier is used again, but on the fair version of the data."
   ]
  },
  {
   "cell_type": "code",
   "execution_count": 10,
   "metadata": {},
   "outputs": [
    {
     "data": {
      "text/plain": [
       "0.788"
      ]
     },
     "execution_count": 10,
     "metadata": {},
     "output_type": "execute_result"
    }
   ],
   "source": [
    "clf_fair = LGBMClassifier()\n",
    "clf_fair.fit(Xf_train, yf_train)\n",
    "\n",
    "yf_pred = clf_fair.predict(Xf_test)\n",
    "accuracy_score(y_test, yf_pred)"
   ]
  },
  {
   "cell_type": "code",
   "execution_count": 11,
   "metadata": {},
   "outputs": [
    {
     "name": "stdout",
     "output_type": "stream",
     "text": [
      "Fair parity gap equals -2.65%\n"
     ]
    }
   ],
   "source": [
    "# fair parity gap\n",
    "fair_gap = statistical_parity_difference(y_test, yf_pred, prot_attr=\"sex\", \n",
    "                                         priv_group=\"Male\", pos_label=\">50K\")\n",
    "print(f\"Fair parity gap equals {fair_gap:.2%}\")"
   ]
  },
  {
   "cell_type": "markdown",
   "metadata": {},
   "source": [
    "After applying `FairAdapt`, we notice that the parity gap between the group was decreased."
   ]
  }
 ],
 "metadata": {
  "hide_input": false,
  "kernelspec": {
   "display_name": "Python 3",
   "language": "python",
   "name": "python3"
  },
  "language_info": {
   "codemirror_mode": {
    "name": "ipython",
    "version": 3
   },
   "file_extension": ".py",
   "mimetype": "text/x-python",
   "name": "python",
   "nbconvert_exporter": "python",
   "pygments_lexer": "ipython3",
   "version": "3.8.12"
  },
  "toc": {
   "base_numbering": 1,
   "nav_menu": {},
   "number_sections": true,
   "sideBar": true,
   "skip_h1_title": true,
   "title_cell": "Table of Contents",
   "title_sidebar": "Contents",
   "toc_cell": false,
   "toc_position": {
    "height": "calc(100% - 180px)",
    "left": "10px",
    "top": "150px",
    "width": "313px"
   },
   "toc_section_display": true,
   "toc_window_display": true
  },
  "varInspector": {
   "cols": {
    "lenName": 16,
    "lenType": 16,
    "lenVar": 40
   },
   "kernels_config": {
    "python": {
     "delete_cmd_postfix": "",
     "delete_cmd_prefix": "del ",
     "library": "var_list.py",
     "varRefreshCmd": "print(var_dic_list())"
    },
    "r": {
     "delete_cmd_postfix": ") ",
     "delete_cmd_prefix": "rm(",
     "library": "var_list.r",
     "varRefreshCmd": "cat(var_dic_list()) "
    }
   },
   "types_to_exclude": [
    "module",
    "function",
    "builtin_function_or_method",
    "instance",
    "_Feature"
   ],
   "window_display": false
  }
 },
 "nbformat": 4,
 "nbformat_minor": 4
}
