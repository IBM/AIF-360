{
 "cells": [
  {
   "attachments": {},
   "cell_type": "markdown",
   "id": "cb83dd63",
   "metadata": {},
   "source": [
    "# Tutorial\n",
    "## See the effect of Intersectional Fairness (ISF) technology using RejectOptionClassification (ROC) and the AdultDataset\n",
    "In this tutorial, we will detect the intersectional bias of the AdultDataset, improve the intersectional fairness with ISF, and demonstrate its effectiveness.  \n",
    "While ISF supports several mitigation methods, we now select RejectOptionClassification and extend it for intersectional fairness.  \n",
    "We will also compare ISF with ROC to explain ISF is suitable for retaining intersectional fairness."
   ]
  },
  {
   "attachments": {},
   "cell_type": "markdown",
   "id": "6f7b1448",
   "metadata": {},
   "source": [
    "#### RejectOptionClassification\n",
    "Reject option classification is a postprocessing technique that gives favourable outcomes to unpriviliged groups and unfavourable outcomes to priviliged groups in a confidence band around the decision boundary with the highest uncertainty.\n",
    "\n",
    "References.  \n",
    "F. Kamiran, A. Karim, and X. Zhang, “Decision Theory for Discrimination-Aware Classification,” IEEE International Conference on Data Mining, 2012."
   ]
  },
  {
   "cell_type": "code",
   "execution_count": 1,
   "id": "61f434b3",
   "metadata": {},
   "outputs": [],
   "source": [
    "%matplotlib inline"
   ]
  },
  {
   "cell_type": "code",
   "execution_count": 2,
   "id": "ece30760",
   "metadata": {},
   "outputs": [],
   "source": [
    "from pylab import rcParams"
   ]
  },
  {
   "cell_type": "code",
   "execution_count": 3,
   "id": "b388ec32-95d0-4fae-8662-8501943e334b",
   "metadata": {
    "collapsed": true,
    "jupyter": {
     "outputs_hidden": true
    }
   },
   "outputs": [
    {
     "name": "stderr",
     "output_type": "stream",
     "text": [
      "2024-08-21 11:46:26.407880: I tensorflow/core/util/port.cc:153] oneDNN custom operations are on. You may see slightly different numerical results due to floating-point round-off errors from different computation orders. To turn them off, set the environment variable `TF_ENABLE_ONEDNN_OPTS=0`.\n",
      "2024-08-21 11:46:26.418550: E external/local_xla/xla/stream_executor/cuda/cuda_fft.cc:485] Unable to register cuFFT factory: Attempting to register factory for plugin cuFFT when one has already been registered\n",
      "2024-08-21 11:46:26.430318: E external/local_xla/xla/stream_executor/cuda/cuda_dnn.cc:8454] Unable to register cuDNN factory: Attempting to register factory for plugin cuDNN when one has already been registered\n",
      "2024-08-21 11:46:26.434087: E external/local_xla/xla/stream_executor/cuda/cuda_blas.cc:1452] Unable to register cuBLAS factory: Attempting to register factory for plugin cuBLAS when one has already been registered\n",
      "2024-08-21 11:46:26.445493: I tensorflow/core/platform/cpu_feature_guard.cc:210] This TensorFlow binary is optimized to use available CPU instructions in performance-critical operations.\n",
      "To enable the following instructions: AVX2 AVX512F AVX512_VNNI FMA, in other operations, rebuild TensorFlow with the appropriate compiler flags.\n",
      "2024-08-21 11:46:27.146813: W tensorflow/compiler/tf2tensorrt/utils/py_utils.cc:38] TF-TRT Warning: Could not find TensorRT\n",
      "/home/vboxuser/.local/lib/python3.10/site-packages/inFairness/utils/ndcg.py:37: FutureWarning: We've integrated functorch into PyTorch. As the final step of the integration, `functorch.vmap` is deprecated as of PyTorch 2.0 and will be deleted in a future version of PyTorch >= 2.3. Please use `torch.vmap` instead; see the PyTorch 2.0 release notes and/or the `torch.func` migration guide for more details https://pytorch.org/docs/main/func.migrating.html\n",
      "  vect_normalized_discounted_cumulative_gain = vmap(\n",
      "/home/vboxuser/.local/lib/python3.10/site-packages/inFairness/utils/ndcg.py:48: FutureWarning: We've integrated functorch into PyTorch. As the final step of the integration, `functorch.vmap` is deprecated as of PyTorch 2.0 and will be deleted in a future version of PyTorch >= 2.3. Please use `torch.vmap` instead; see the PyTorch 2.0 release notes and/or the `torch.func` migration guide for more details https://pytorch.org/docs/main/func.migrating.html\n",
      "  monte_carlo_vect_ndcg = vmap(vect_normalized_discounted_cumulative_gain, in_dims=(0,))\n"
     ]
    }
   ],
   "source": [
    "from aif360.algorithms.intersectional_fairness import IntersectionalFairness\n",
    "from aif360.algorithms.isf_helpers.isf_utils.common import output_subgroup_metrics, convert_labels, create_multi_group_label\n",
    "from aif360.algorithms.isf_helpers.isf_analysis.intersectional_bias import calc_intersectionalbias, plot_intersectionalbias_compare\n",
    "from aif360.algorithms.isf_helpers.isf_analysis.metrics import check_metrics_combination_attribute, check_metrics_single_attribute"
   ]
  },
  {
   "cell_type": "code",
   "execution_count": 4,
   "id": "4fd1a618",
   "metadata": {},
   "outputs": [],
   "source": [
    "import numpy as np\n",
    "import pandas as pd"
   ]
  },
  {
   "attachments": {},
   "cell_type": "markdown",
   "id": "d24d6739",
   "metadata": {},
   "source": [
    "## Set up AdultDataset\n",
    "Note: To download and install the AdultDataset manually, follow [README.md in AIF360](https://github.com/Trusted-AI/AIF360/tree/master/aif360/data).  "
   ]
  },
  {
   "cell_type": "code",
   "execution_count": 5,
   "id": "c6258781",
   "metadata": {},
   "outputs": [],
   "source": [
    "from aif360.datasets import AdultDataset"
   ]
  },
  {
   "cell_type": "code",
   "execution_count": 6,
   "id": "55ccad01",
   "metadata": {},
   "outputs": [
    {
     "name": "stderr",
     "output_type": "stream",
     "text": [
      "WARNING:root:Missing Data: 3620 rows removed from AdultDataset.\n"
     ]
    }
   ],
   "source": [
    "dataset = AdultDataset()\n",
    "convert_labels(dataset)\n",
    "ds_train, ds_test = dataset.split([0.7])"
   ]
  },
  {
   "attachments": {},
   "cell_type": "markdown",
   "id": "bc8d7f02",
   "metadata": {},
   "source": [
    "### Ensure what attributes are protected  \n",
    "To verify intersectional bias, you need to specify two attributes in the Dataset as protected ones.  \n",
    "AdultDataset has already specified the following two attributes as protected:  "
   ]
  },
  {
   "cell_type": "code",
   "execution_count": 7,
   "id": "c5c26fd4",
   "metadata": {},
   "outputs": [
    {
     "data": {
      "text/plain": [
       "['race', 'sex']"
      ]
     },
     "execution_count": 7,
     "metadata": {},
     "output_type": "execute_result"
    }
   ],
   "source": [
    "dataset.protected_attribute_names"
   ]
  },
  {
   "attachments": {},
   "cell_type": "markdown",
   "id": "1aaea4b3",
   "metadata": {},
   "source": [
    "## Classification  \n",
    "We first build a classification model using ROC which is a postprocessing algorithm.  \n",
    "We train a Logistic Regression model with data ds_train and then we proceed with classification for data ds_test.  "
   ]
  },
  {
   "cell_type": "code",
   "execution_count": 8,
   "id": "5a9a4b91",
   "metadata": {},
   "outputs": [],
   "source": [
    "from sklearn.preprocessing import StandardScaler\n",
    "\n",
    "scale_orig = StandardScaler()\n",
    "X_train = scale_orig.fit_transform(ds_train.features)\n",
    "y_train = ds_train.labels.ravel()\n",
    "X_test = scale_orig.transform(ds_test.features)\n",
    "Y_test = ds_test.labels.ravel()"
   ]
  },
  {
   "cell_type": "code",
   "execution_count": 9,
   "id": "81f3684e",
   "metadata": {
    "scrolled": true
   },
   "outputs": [
    {
     "data": {
      "text/html": [
       "<style>#sk-container-id-1 {\n",
       "  /* Definition of color scheme common for light and dark mode */\n",
       "  --sklearn-color-text: black;\n",
       "  --sklearn-color-line: gray;\n",
       "  /* Definition of color scheme for unfitted estimators */\n",
       "  --sklearn-color-unfitted-level-0: #fff5e6;\n",
       "  --sklearn-color-unfitted-level-1: #f6e4d2;\n",
       "  --sklearn-color-unfitted-level-2: #ffe0b3;\n",
       "  --sklearn-color-unfitted-level-3: chocolate;\n",
       "  /* Definition of color scheme for fitted estimators */\n",
       "  --sklearn-color-fitted-level-0: #f0f8ff;\n",
       "  --sklearn-color-fitted-level-1: #d4ebff;\n",
       "  --sklearn-color-fitted-level-2: #b3dbfd;\n",
       "  --sklearn-color-fitted-level-3: cornflowerblue;\n",
       "\n",
       "  /* Specific color for light theme */\n",
       "  --sklearn-color-text-on-default-background: var(--sg-text-color, var(--theme-code-foreground, var(--jp-content-font-color1, black)));\n",
       "  --sklearn-color-background: var(--sg-background-color, var(--theme-background, var(--jp-layout-color0, white)));\n",
       "  --sklearn-color-border-box: var(--sg-text-color, var(--theme-code-foreground, var(--jp-content-font-color1, black)));\n",
       "  --sklearn-color-icon: #696969;\n",
       "\n",
       "  @media (prefers-color-scheme: dark) {\n",
       "    /* Redefinition of color scheme for dark theme */\n",
       "    --sklearn-color-text-on-default-background: var(--sg-text-color, var(--theme-code-foreground, var(--jp-content-font-color1, white)));\n",
       "    --sklearn-color-background: var(--sg-background-color, var(--theme-background, var(--jp-layout-color0, #111)));\n",
       "    --sklearn-color-border-box: var(--sg-text-color, var(--theme-code-foreground, var(--jp-content-font-color1, white)));\n",
       "    --sklearn-color-icon: #878787;\n",
       "  }\n",
       "}\n",
       "\n",
       "#sk-container-id-1 {\n",
       "  color: var(--sklearn-color-text);\n",
       "}\n",
       "\n",
       "#sk-container-id-1 pre {\n",
       "  padding: 0;\n",
       "}\n",
       "\n",
       "#sk-container-id-1 input.sk-hidden--visually {\n",
       "  border: 0;\n",
       "  clip: rect(1px 1px 1px 1px);\n",
       "  clip: rect(1px, 1px, 1px, 1px);\n",
       "  height: 1px;\n",
       "  margin: -1px;\n",
       "  overflow: hidden;\n",
       "  padding: 0;\n",
       "  position: absolute;\n",
       "  width: 1px;\n",
       "}\n",
       "\n",
       "#sk-container-id-1 div.sk-dashed-wrapped {\n",
       "  border: 1px dashed var(--sklearn-color-line);\n",
       "  margin: 0 0.4em 0.5em 0.4em;\n",
       "  box-sizing: border-box;\n",
       "  padding-bottom: 0.4em;\n",
       "  background-color: var(--sklearn-color-background);\n",
       "}\n",
       "\n",
       "#sk-container-id-1 div.sk-container {\n",
       "  /* jupyter's `normalize.less` sets `[hidden] { display: none; }`\n",
       "     but bootstrap.min.css set `[hidden] { display: none !important; }`\n",
       "     so we also need the `!important` here to be able to override the\n",
       "     default hidden behavior on the sphinx rendered scikit-learn.org.\n",
       "     See: https://github.com/scikit-learn/scikit-learn/issues/21755 */\n",
       "  display: inline-block !important;\n",
       "  position: relative;\n",
       "}\n",
       "\n",
       "#sk-container-id-1 div.sk-text-repr-fallback {\n",
       "  display: none;\n",
       "}\n",
       "\n",
       "div.sk-parallel-item,\n",
       "div.sk-serial,\n",
       "div.sk-item {\n",
       "  /* draw centered vertical line to link estimators */\n",
       "  background-image: linear-gradient(var(--sklearn-color-text-on-default-background), var(--sklearn-color-text-on-default-background));\n",
       "  background-size: 2px 100%;\n",
       "  background-repeat: no-repeat;\n",
       "  background-position: center center;\n",
       "}\n",
       "\n",
       "/* Parallel-specific style estimator block */\n",
       "\n",
       "#sk-container-id-1 div.sk-parallel-item::after {\n",
       "  content: \"\";\n",
       "  width: 100%;\n",
       "  border-bottom: 2px solid var(--sklearn-color-text-on-default-background);\n",
       "  flex-grow: 1;\n",
       "}\n",
       "\n",
       "#sk-container-id-1 div.sk-parallel {\n",
       "  display: flex;\n",
       "  align-items: stretch;\n",
       "  justify-content: center;\n",
       "  background-color: var(--sklearn-color-background);\n",
       "  position: relative;\n",
       "}\n",
       "\n",
       "#sk-container-id-1 div.sk-parallel-item {\n",
       "  display: flex;\n",
       "  flex-direction: column;\n",
       "}\n",
       "\n",
       "#sk-container-id-1 div.sk-parallel-item:first-child::after {\n",
       "  align-self: flex-end;\n",
       "  width: 50%;\n",
       "}\n",
       "\n",
       "#sk-container-id-1 div.sk-parallel-item:last-child::after {\n",
       "  align-self: flex-start;\n",
       "  width: 50%;\n",
       "}\n",
       "\n",
       "#sk-container-id-1 div.sk-parallel-item:only-child::after {\n",
       "  width: 0;\n",
       "}\n",
       "\n",
       "/* Serial-specific style estimator block */\n",
       "\n",
       "#sk-container-id-1 div.sk-serial {\n",
       "  display: flex;\n",
       "  flex-direction: column;\n",
       "  align-items: center;\n",
       "  background-color: var(--sklearn-color-background);\n",
       "  padding-right: 1em;\n",
       "  padding-left: 1em;\n",
       "}\n",
       "\n",
       "\n",
       "/* Toggleable style: style used for estimator/Pipeline/ColumnTransformer box that is\n",
       "clickable and can be expanded/collapsed.\n",
       "- Pipeline and ColumnTransformer use this feature and define the default style\n",
       "- Estimators will overwrite some part of the style using the `sk-estimator` class\n",
       "*/\n",
       "\n",
       "/* Pipeline and ColumnTransformer style (default) */\n",
       "\n",
       "#sk-container-id-1 div.sk-toggleable {\n",
       "  /* Default theme specific background. It is overwritten whether we have a\n",
       "  specific estimator or a Pipeline/ColumnTransformer */\n",
       "  background-color: var(--sklearn-color-background);\n",
       "}\n",
       "\n",
       "/* Toggleable label */\n",
       "#sk-container-id-1 label.sk-toggleable__label {\n",
       "  cursor: pointer;\n",
       "  display: block;\n",
       "  width: 100%;\n",
       "  margin-bottom: 0;\n",
       "  padding: 0.5em;\n",
       "  box-sizing: border-box;\n",
       "  text-align: center;\n",
       "}\n",
       "\n",
       "#sk-container-id-1 label.sk-toggleable__label-arrow:before {\n",
       "  /* Arrow on the left of the label */\n",
       "  content: \"▸\";\n",
       "  float: left;\n",
       "  margin-right: 0.25em;\n",
       "  color: var(--sklearn-color-icon);\n",
       "}\n",
       "\n",
       "#sk-container-id-1 label.sk-toggleable__label-arrow:hover:before {\n",
       "  color: var(--sklearn-color-text);\n",
       "}\n",
       "\n",
       "/* Toggleable content - dropdown */\n",
       "\n",
       "#sk-container-id-1 div.sk-toggleable__content {\n",
       "  max-height: 0;\n",
       "  max-width: 0;\n",
       "  overflow: hidden;\n",
       "  text-align: left;\n",
       "  /* unfitted */\n",
       "  background-color: var(--sklearn-color-unfitted-level-0);\n",
       "}\n",
       "\n",
       "#sk-container-id-1 div.sk-toggleable__content.fitted {\n",
       "  /* fitted */\n",
       "  background-color: var(--sklearn-color-fitted-level-0);\n",
       "}\n",
       "\n",
       "#sk-container-id-1 div.sk-toggleable__content pre {\n",
       "  margin: 0.2em;\n",
       "  border-radius: 0.25em;\n",
       "  color: var(--sklearn-color-text);\n",
       "  /* unfitted */\n",
       "  background-color: var(--sklearn-color-unfitted-level-0);\n",
       "}\n",
       "\n",
       "#sk-container-id-1 div.sk-toggleable__content.fitted pre {\n",
       "  /* unfitted */\n",
       "  background-color: var(--sklearn-color-fitted-level-0);\n",
       "}\n",
       "\n",
       "#sk-container-id-1 input.sk-toggleable__control:checked~div.sk-toggleable__content {\n",
       "  /* Expand drop-down */\n",
       "  max-height: 200px;\n",
       "  max-width: 100%;\n",
       "  overflow: auto;\n",
       "}\n",
       "\n",
       "#sk-container-id-1 input.sk-toggleable__control:checked~label.sk-toggleable__label-arrow:before {\n",
       "  content: \"▾\";\n",
       "}\n",
       "\n",
       "/* Pipeline/ColumnTransformer-specific style */\n",
       "\n",
       "#sk-container-id-1 div.sk-label input.sk-toggleable__control:checked~label.sk-toggleable__label {\n",
       "  color: var(--sklearn-color-text);\n",
       "  background-color: var(--sklearn-color-unfitted-level-2);\n",
       "}\n",
       "\n",
       "#sk-container-id-1 div.sk-label.fitted input.sk-toggleable__control:checked~label.sk-toggleable__label {\n",
       "  background-color: var(--sklearn-color-fitted-level-2);\n",
       "}\n",
       "\n",
       "/* Estimator-specific style */\n",
       "\n",
       "/* Colorize estimator box */\n",
       "#sk-container-id-1 div.sk-estimator input.sk-toggleable__control:checked~label.sk-toggleable__label {\n",
       "  /* unfitted */\n",
       "  background-color: var(--sklearn-color-unfitted-level-2);\n",
       "}\n",
       "\n",
       "#sk-container-id-1 div.sk-estimator.fitted input.sk-toggleable__control:checked~label.sk-toggleable__label {\n",
       "  /* fitted */\n",
       "  background-color: var(--sklearn-color-fitted-level-2);\n",
       "}\n",
       "\n",
       "#sk-container-id-1 div.sk-label label.sk-toggleable__label,\n",
       "#sk-container-id-1 div.sk-label label {\n",
       "  /* The background is the default theme color */\n",
       "  color: var(--sklearn-color-text-on-default-background);\n",
       "}\n",
       "\n",
       "/* On hover, darken the color of the background */\n",
       "#sk-container-id-1 div.sk-label:hover label.sk-toggleable__label {\n",
       "  color: var(--sklearn-color-text);\n",
       "  background-color: var(--sklearn-color-unfitted-level-2);\n",
       "}\n",
       "\n",
       "/* Label box, darken color on hover, fitted */\n",
       "#sk-container-id-1 div.sk-label.fitted:hover label.sk-toggleable__label.fitted {\n",
       "  color: var(--sklearn-color-text);\n",
       "  background-color: var(--sklearn-color-fitted-level-2);\n",
       "}\n",
       "\n",
       "/* Estimator label */\n",
       "\n",
       "#sk-container-id-1 div.sk-label label {\n",
       "  font-family: monospace;\n",
       "  font-weight: bold;\n",
       "  display: inline-block;\n",
       "  line-height: 1.2em;\n",
       "}\n",
       "\n",
       "#sk-container-id-1 div.sk-label-container {\n",
       "  text-align: center;\n",
       "}\n",
       "\n",
       "/* Estimator-specific */\n",
       "#sk-container-id-1 div.sk-estimator {\n",
       "  font-family: monospace;\n",
       "  border: 1px dotted var(--sklearn-color-border-box);\n",
       "  border-radius: 0.25em;\n",
       "  box-sizing: border-box;\n",
       "  margin-bottom: 0.5em;\n",
       "  /* unfitted */\n",
       "  background-color: var(--sklearn-color-unfitted-level-0);\n",
       "}\n",
       "\n",
       "#sk-container-id-1 div.sk-estimator.fitted {\n",
       "  /* fitted */\n",
       "  background-color: var(--sklearn-color-fitted-level-0);\n",
       "}\n",
       "\n",
       "/* on hover */\n",
       "#sk-container-id-1 div.sk-estimator:hover {\n",
       "  /* unfitted */\n",
       "  background-color: var(--sklearn-color-unfitted-level-2);\n",
       "}\n",
       "\n",
       "#sk-container-id-1 div.sk-estimator.fitted:hover {\n",
       "  /* fitted */\n",
       "  background-color: var(--sklearn-color-fitted-level-2);\n",
       "}\n",
       "\n",
       "/* Specification for estimator info (e.g. \"i\" and \"?\") */\n",
       "\n",
       "/* Common style for \"i\" and \"?\" */\n",
       "\n",
       ".sk-estimator-doc-link,\n",
       "a:link.sk-estimator-doc-link,\n",
       "a:visited.sk-estimator-doc-link {\n",
       "  float: right;\n",
       "  font-size: smaller;\n",
       "  line-height: 1em;\n",
       "  font-family: monospace;\n",
       "  background-color: var(--sklearn-color-background);\n",
       "  border-radius: 1em;\n",
       "  height: 1em;\n",
       "  width: 1em;\n",
       "  text-decoration: none !important;\n",
       "  margin-left: 1ex;\n",
       "  /* unfitted */\n",
       "  border: var(--sklearn-color-unfitted-level-1) 1pt solid;\n",
       "  color: var(--sklearn-color-unfitted-level-1);\n",
       "}\n",
       "\n",
       ".sk-estimator-doc-link.fitted,\n",
       "a:link.sk-estimator-doc-link.fitted,\n",
       "a:visited.sk-estimator-doc-link.fitted {\n",
       "  /* fitted */\n",
       "  border: var(--sklearn-color-fitted-level-1) 1pt solid;\n",
       "  color: var(--sklearn-color-fitted-level-1);\n",
       "}\n",
       "\n",
       "/* On hover */\n",
       "div.sk-estimator:hover .sk-estimator-doc-link:hover,\n",
       ".sk-estimator-doc-link:hover,\n",
       "div.sk-label-container:hover .sk-estimator-doc-link:hover,\n",
       ".sk-estimator-doc-link:hover {\n",
       "  /* unfitted */\n",
       "  background-color: var(--sklearn-color-unfitted-level-3);\n",
       "  color: var(--sklearn-color-background);\n",
       "  text-decoration: none;\n",
       "}\n",
       "\n",
       "div.sk-estimator.fitted:hover .sk-estimator-doc-link.fitted:hover,\n",
       ".sk-estimator-doc-link.fitted:hover,\n",
       "div.sk-label-container:hover .sk-estimator-doc-link.fitted:hover,\n",
       ".sk-estimator-doc-link.fitted:hover {\n",
       "  /* fitted */\n",
       "  background-color: var(--sklearn-color-fitted-level-3);\n",
       "  color: var(--sklearn-color-background);\n",
       "  text-decoration: none;\n",
       "}\n",
       "\n",
       "/* Span, style for the box shown on hovering the info icon */\n",
       ".sk-estimator-doc-link span {\n",
       "  display: none;\n",
       "  z-index: 9999;\n",
       "  position: relative;\n",
       "  font-weight: normal;\n",
       "  right: .2ex;\n",
       "  padding: .5ex;\n",
       "  margin: .5ex;\n",
       "  width: min-content;\n",
       "  min-width: 20ex;\n",
       "  max-width: 50ex;\n",
       "  color: var(--sklearn-color-text);\n",
       "  box-shadow: 2pt 2pt 4pt #999;\n",
       "  /* unfitted */\n",
       "  background: var(--sklearn-color-unfitted-level-0);\n",
       "  border: .5pt solid var(--sklearn-color-unfitted-level-3);\n",
       "}\n",
       "\n",
       ".sk-estimator-doc-link.fitted span {\n",
       "  /* fitted */\n",
       "  background: var(--sklearn-color-fitted-level-0);\n",
       "  border: var(--sklearn-color-fitted-level-3);\n",
       "}\n",
       "\n",
       ".sk-estimator-doc-link:hover span {\n",
       "  display: block;\n",
       "}\n",
       "\n",
       "/* \"?\"-specific style due to the `<a>` HTML tag */\n",
       "\n",
       "#sk-container-id-1 a.estimator_doc_link {\n",
       "  float: right;\n",
       "  font-size: 1rem;\n",
       "  line-height: 1em;\n",
       "  font-family: monospace;\n",
       "  background-color: var(--sklearn-color-background);\n",
       "  border-radius: 1rem;\n",
       "  height: 1rem;\n",
       "  width: 1rem;\n",
       "  text-decoration: none;\n",
       "  /* unfitted */\n",
       "  color: var(--sklearn-color-unfitted-level-1);\n",
       "  border: var(--sklearn-color-unfitted-level-1) 1pt solid;\n",
       "}\n",
       "\n",
       "#sk-container-id-1 a.estimator_doc_link.fitted {\n",
       "  /* fitted */\n",
       "  border: var(--sklearn-color-fitted-level-1) 1pt solid;\n",
       "  color: var(--sklearn-color-fitted-level-1);\n",
       "}\n",
       "\n",
       "/* On hover */\n",
       "#sk-container-id-1 a.estimator_doc_link:hover {\n",
       "  /* unfitted */\n",
       "  background-color: var(--sklearn-color-unfitted-level-3);\n",
       "  color: var(--sklearn-color-background);\n",
       "  text-decoration: none;\n",
       "}\n",
       "\n",
       "#sk-container-id-1 a.estimator_doc_link.fitted:hover {\n",
       "  /* fitted */\n",
       "  background-color: var(--sklearn-color-fitted-level-3);\n",
       "}\n",
       "</style><div id=\"sk-container-id-1\" class=\"sk-top-container\"><div class=\"sk-text-repr-fallback\"><pre>LogisticRegression()</pre><b>In a Jupyter environment, please rerun this cell to show the HTML representation or trust the notebook. <br />On GitHub, the HTML representation is unable to render, please try loading this page with nbviewer.org.</b></div><div class=\"sk-container\" hidden><div class=\"sk-item\"><div class=\"sk-estimator fitted sk-toggleable\"><input class=\"sk-toggleable__control sk-hidden--visually\" id=\"sk-estimator-id-1\" type=\"checkbox\" checked><label for=\"sk-estimator-id-1\" class=\"sk-toggleable__label fitted sk-toggleable__label-arrow fitted\">&nbsp;&nbsp;LogisticRegression<a class=\"sk-estimator-doc-link fitted\" rel=\"noreferrer\" target=\"_blank\" href=\"https://scikit-learn.org/1.5/modules/generated/sklearn.linear_model.LogisticRegression.html\">?<span>Documentation for LogisticRegression</span></a><span class=\"sk-estimator-doc-link fitted\">i<span>Fitted</span></span></label><div class=\"sk-toggleable__content fitted\"><pre>LogisticRegression()</pre></div> </div></div></div></div>"
      ],
      "text/plain": [
       "LogisticRegression()"
      ]
     },
     "execution_count": 9,
     "metadata": {},
     "output_type": "execute_result"
    }
   ],
   "source": [
    "from sklearn.linear_model import LogisticRegression\n",
    "\n",
    "lr = LogisticRegression()\n",
    "lr.fit(X_train, y_train)"
   ]
  },
  {
   "cell_type": "code",
   "execution_count": 10,
   "id": "eb262b92",
   "metadata": {},
   "outputs": [],
   "source": [
    "ds_test_classified = ds_test.copy()\n",
    "pos_ind = np.where(lr.classes_ == ds_train.favorable_label)[0][0]\n",
    "\n",
    "ds_test_classified.scores = lr.predict_proba(X_test)[:, pos_ind].reshape(-1, 1)\n",
    "ds_test_classified.labels = lr.predict(X_test).reshape(-1, 1)"
   ]
  },
  {
   "cell_type": "code",
   "execution_count": 11,
   "id": "b1dc4d34",
   "metadata": {},
   "outputs": [],
   "source": [
    "# Calculate ds_train_classified for ROC\n",
    "ds_train_classified = ds_train.copy()\n",
    "pos_ind = np.where(lr.classes_ == ds_train.favorable_label)[0][0]\n",
    "\n",
    "ds_train_classified.scores = lr.predict_proba(X_train)[:, pos_ind].reshape(-1, 1)\n",
    "ds_train_classified.labels = lr.predict(X_train).reshape(-1, 1)"
   ]
  },
  {
   "attachments": {},
   "cell_type": "markdown",
   "id": "dc7811c1",
   "metadata": {},
   "source": [
    "### Confirm the model performance  \n",
    "#### (1) Measure the performance for classification\n",
    "Check the performance for classification using the above classification results.  "
   ]
  },
  {
   "cell_type": "code",
   "execution_count": 12,
   "id": "71f1958d",
   "metadata": {},
   "outputs": [],
   "source": [
    "df_acc = pd.DataFrame(columns=['Accuracy','Precision','Recall','F1 score'])"
   ]
  },
  {
   "cell_type": "code",
   "execution_count": 13,
   "id": "39b7d958",
   "metadata": {},
   "outputs": [],
   "source": [
    "from sklearn.metrics import accuracy_score, precision_score, recall_score, f1_score\n",
    "df_acc.loc['LR Model']=(\n",
    "    accuracy_score(y_true=Y_test, y_pred=ds_test_classified.labels),\n",
    "    precision_score(y_true=Y_test, y_pred=ds_test_classified.labels),\n",
    "    recall_score(y_true=Y_test, y_pred=ds_test_classified.labels),\n",
    "    f1_score(y_true=Y_test, y_pred=ds_test_classified.labels)\n",
    ")"
   ]
  },
  {
   "cell_type": "code",
   "execution_count": 14,
   "id": "85fcd4c0",
   "metadata": {},
   "outputs": [
    {
     "data": {
      "text/html": [
       "<div>\n",
       "<style scoped>\n",
       "    .dataframe tbody tr th:only-of-type {\n",
       "        vertical-align: middle;\n",
       "    }\n",
       "\n",
       "    .dataframe tbody tr th {\n",
       "        vertical-align: top;\n",
       "    }\n",
       "\n",
       "    .dataframe thead th {\n",
       "        text-align: right;\n",
       "    }\n",
       "</style>\n",
       "<table border=\"1\" class=\"dataframe\">\n",
       "  <thead>\n",
       "    <tr style=\"text-align: right;\">\n",
       "      <th></th>\n",
       "      <th>Accuracy</th>\n",
       "      <th>Precision</th>\n",
       "      <th>Recall</th>\n",
       "      <th>F1 score</th>\n",
       "    </tr>\n",
       "  </thead>\n",
       "  <tbody>\n",
       "    <tr>\n",
       "      <th>LR Model</th>\n",
       "      <td>0.848824</td>\n",
       "      <td>0.744169</td>\n",
       "      <td>0.607855</td>\n",
       "      <td>0.66914</td>\n",
       "    </tr>\n",
       "  </tbody>\n",
       "</table>\n",
       "</div>"
      ],
      "text/plain": [
       "          Accuracy  Precision    Recall  F1 score\n",
       "LR Model  0.848824   0.744169  0.607855   0.66914"
      ]
     },
     "execution_count": 14,
     "metadata": {},
     "output_type": "execute_result"
    }
   ],
   "source": [
    "df_acc"
   ]
  },
  {
   "attachments": {},
   "cell_type": "markdown",
   "id": "6761827e",
   "metadata": {},
   "source": [
    "* The model achieves enough accuracy since `Accuracy` is 84%."
   ]
  },
  {
   "attachments": {},
   "cell_type": "markdown",
   "id": "519268c9",
   "metadata": {},
   "source": [
    "#### (2) Measure disparate impact to see intersectional bias caused by the combination of two attributes, `race` and `sex`\n",
    "Check intersectional bias with disparate impact (DI).  "
   ]
  },
  {
   "cell_type": "code",
   "execution_count": 15,
   "id": "0007d28c",
   "metadata": {},
   "outputs": [
    {
     "data": {
      "text/html": [
       "<div>\n",
       "<style scoped>\n",
       "    .dataframe tbody tr th:only-of-type {\n",
       "        vertical-align: middle;\n",
       "    }\n",
       "\n",
       "    .dataframe tbody tr th {\n",
       "        vertical-align: top;\n",
       "    }\n",
       "\n",
       "    .dataframe thead th {\n",
       "        text-align: right;\n",
       "    }\n",
       "</style>\n",
       "<table border=\"1\" class=\"dataframe\">\n",
       "  <thead>\n",
       "    <tr style=\"text-align: right;\">\n",
       "      <th></th>\n",
       "      <th>LR Model</th>\n",
       "    </tr>\n",
       "  </thead>\n",
       "  <tbody>\n",
       "    <tr>\n",
       "      <th>race = 1.0,sex = 1.0</th>\n",
       "      <td>2.810223</td>\n",
       "    </tr>\n",
       "    <tr>\n",
       "      <th>race = 1.0,sex = 0.0</th>\n",
       "      <td>0.352248</td>\n",
       "    </tr>\n",
       "    <tr>\n",
       "      <th>race = 0.0,sex = 1.0</th>\n",
       "      <td>0.892224</td>\n",
       "    </tr>\n",
       "    <tr>\n",
       "      <th>race = 0.0,sex = 0.0</th>\n",
       "      <td>0.190748</td>\n",
       "    </tr>\n",
       "  </tbody>\n",
       "</table>\n",
       "</div>"
      ],
      "text/plain": [
       "                      LR Model\n",
       "race = 1.0,sex = 1.0  2.810223\n",
       "race = 1.0,sex = 0.0  0.352248\n",
       "race = 0.0,sex = 1.0  0.892224\n",
       "race = 0.0,sex = 0.0  0.190748"
      ]
     },
     "execution_count": 15,
     "metadata": {},
     "output_type": "execute_result"
    }
   ],
   "source": [
    "df_lr_di = calc_intersectionalbias(ds_test_classified, \"DisparateImpact\")\n",
    "df_lr_di = df_lr_di.rename(columns={\"DisparateImpact\": \"LR Model\"})\n",
    "df_lr_di"
   ]
  },
  {
   "attachments": {},
   "cell_type": "markdown",
   "id": "3ff75d14",
   "metadata": {},
   "source": [
    "* The model requires bias mitigation because DIs for groups other than race=0.0 and sex=1.0 are out of the range for fairness. \n",
    "\n",
    "   Note:  \n",
    "   In the recruitment field in the US, there is a law saying it is fair if the DI is 0.8 or more (and equal to or less than 1.25, the reciprocal of 0.8), so we consider 0.8 as a standard threshold of fairness.  "
   ]
  },
  {
   "attachments": {},
   "cell_type": "markdown",
   "id": "d220fe7d",
   "metadata": {},
   "source": [
    "## Run ISF\n",
    "Mitigate intersectional bias in this LR model's judgment.  \n",
    "You can use the ROC algorithm, a post-processing method, for it.  Run the mitigation algorithm of ISF specifying \"RejectOptionClassification\" as a parameter.  "
   ]
  },
  {
   "cell_type": "code",
   "execution_count": 16,
   "id": "7ed1a91c-1779-47fa-bf9c-58cb36707f64",
   "metadata": {},
   "outputs": [],
   "source": [
    "ID = IntersectionalFairness('RejectOptionClassification', 'DemographicParity', \n",
    "                             accuracy_metric='F1', options={'metric_ub':0.2, 'metric_lb':-0.2})"
   ]
  },
  {
   "cell_type": "code",
   "execution_count": 17,
   "id": "2430417e",
   "metadata": {
    "collapsed": true,
    "jupyter": {
     "outputs_hidden": true
    },
    "scrolled": true
   },
   "outputs": [
    {
     "name": "stderr",
     "output_type": "stream",
     "text": [
      "WARNING:root:[0.0] listed but not observed for feature sex\n",
      "WARNING:root:[0.0] listed but not observed for feature race\n",
      "WARNING:root:[1.0] listed but not observed for feature sex\n",
      "WARNING:root:[1.0] listed but not observed for feature race\n"
     ]
    }
   ],
   "source": [
    "# training can take several minutes depending on hardware\n",
    "ID.fit(ds_train, dataset_predicted=ds_train_classified)"
   ]
  },
  {
   "cell_type": "code",
   "execution_count": 18,
   "id": "f9c4cb64",
   "metadata": {
    "collapsed": true,
    "jupyter": {
     "outputs_hidden": true
    }
   },
   "outputs": [
    {
     "name": "stderr",
     "output_type": "stream",
     "text": [
      "WARNING:root:[0.0] listed but not observed for feature sex\n",
      "WARNING:root:[0.0] listed but not observed for feature race\n",
      "WARNING:root:[1.0] listed but not observed for feature sex\n",
      "WARNING:root:[1.0] listed but not observed for feature race\n"
     ]
    }
   ],
   "source": [
    "# predict\n",
    "ds_predicted = ID.predict(ds_test_classified)"
   ]
  },
  {
   "attachments": {},
   "cell_type": "markdown",
   "id": "8483bcc3",
   "metadata": {},
   "source": [
    "## Evaluation"
   ]
  },
  {
   "attachments": {},
   "cell_type": "markdown",
   "id": "16dee42f",
   "metadata": {},
   "source": [
    "### (1) Compare the raw LR model and the model mitigated by ISF  \n",
    "Measure and visualize DIs for intersectional bias to check the effect of ISF.  "
   ]
  },
  {
   "cell_type": "code",
   "execution_count": 19,
   "id": "fe18fbfa",
   "metadata": {},
   "outputs": [],
   "source": [
    "combattr_metrics_isf = check_metrics_combination_attribute(ds_test, ds_predicted)[['base_rate', 'selection_rate', 'Balanced_Accuracy']]"
   ]
  },
  {
   "cell_type": "code",
   "execution_count": 20,
   "id": "6a5b15b5",
   "metadata": {},
   "outputs": [
    {
     "data": {
      "image/png": "[encoded data removed]",
      "text/plain": [
       "<Figure size 600x200 with 4 Axes>"
      ]
     },
     "metadata": {},
     "output_type": "display_data"
    }
   ],
   "source": [
    "import seaborn as sns\n",
    "rcParams['figure.figsize'] = 6,2\n",
    "sns.set(font_scale = 0.7)\n",
    "plot_intersectionalbias_compare(ds_test_classified,\n",
    "                                ds_predicted,\n",
    "                                vmax=2, vmin=0, center=1,\n",
    "                                title={\"right\": \"LR Model\", \"left\": \"ISF(ROC is used)\"})"
   ]
  },
  {
   "attachments": {},
   "cell_type": "markdown",
   "id": "7162a5fb",
   "metadata": {},
   "source": [
    "* Compared to the left-hand quadrant for the LR model with no bias mitigation, DI in each subgroup gets closer to 1.0 in the right-hand quadrant for the model mitigated by ISF.  \n",
    "* This indicates that the judgment result of the model with ISF is closer to fair than that without ISF.  "
   ]
  },
  {
   "attachments": {},
   "cell_type": "markdown",
   "id": "a827905f",
   "metadata": {},
   "source": [
    "Next, ensure ISF does not degrade the accuracy of the model.  "
   ]
  },
  {
   "cell_type": "code",
   "execution_count": 21,
   "id": "f3ed6a81",
   "metadata": {},
   "outputs": [],
   "source": [
    "from sklearn.metrics import accuracy_score, precision_score, recall_score, f1_score\n",
    "df_acc.loc['ISF (ROC is used)']=(accuracy_score(y_true=Y_test, y_pred=ds_predicted.labels),\n",
    "                   precision_score(y_true=Y_test, y_pred=ds_predicted.labels),\n",
    "                   recall_score(y_true=Y_test, y_pred=ds_predicted.labels),\n",
    "                   f1_score(y_true=Y_test, y_pred=ds_predicted.labels) )"
   ]
  },
  {
   "cell_type": "code",
   "execution_count": 22,
   "id": "b1a5aa4d",
   "metadata": {},
   "outputs": [
    {
     "data": {
      "text/html": [
       "<div>\n",
       "<style scoped>\n",
       "    .dataframe tbody tr th:only-of-type {\n",
       "        vertical-align: middle;\n",
       "    }\n",
       "\n",
       "    .dataframe tbody tr th {\n",
       "        vertical-align: top;\n",
       "    }\n",
       "\n",
       "    .dataframe thead th {\n",
       "        text-align: right;\n",
       "    }\n",
       "</style>\n",
       "<table border=\"1\" class=\"dataframe\">\n",
       "  <thead>\n",
       "    <tr style=\"text-align: right;\">\n",
       "      <th></th>\n",
       "      <th>Accuracy</th>\n",
       "      <th>Precision</th>\n",
       "      <th>Recall</th>\n",
       "      <th>F1 score</th>\n",
       "    </tr>\n",
       "  </thead>\n",
       "  <tbody>\n",
       "    <tr>\n",
       "      <th>LR Model</th>\n",
       "      <td>0.848824</td>\n",
       "      <td>0.744169</td>\n",
       "      <td>0.607855</td>\n",
       "      <td>0.669140</td>\n",
       "    </tr>\n",
       "    <tr>\n",
       "      <th>ISF (ROC is used)</th>\n",
       "      <td>0.830692</td>\n",
       "      <td>0.693913</td>\n",
       "      <td>0.584701</td>\n",
       "      <td>0.634643</td>\n",
       "    </tr>\n",
       "  </tbody>\n",
       "</table>\n",
       "</div>"
      ],
      "text/plain": [
       "                   Accuracy  Precision    Recall  F1 score\n",
       "LR Model           0.848824   0.744169  0.607855  0.669140\n",
       "ISF (ROC is used)  0.830692   0.693913  0.584701  0.634643"
      ]
     },
     "execution_count": 22,
     "metadata": {},
     "output_type": "execute_result"
    }
   ],
   "source": [
    "df_acc"
   ]
  },
  {
   "attachments": {},
   "cell_type": "markdown",
   "id": "53b11079",
   "metadata": {},
   "source": [
    "* `Accuracy` before and after bias mitigation are almost the same.  \n",
    "* This indicates ISF can mitigate intersectional fairness with only minor accuracy degradation.  "
   ]
  },
  {
   "attachments": {},
   "cell_type": "markdown",
   "id": "85d3578c",
   "metadata": {},
   "source": [
    "### (2) Comparison of ROC and ISF (ROC is used)\n",
    "Now compare the effects between ROC and ISF-leveraged ROC.  \n",
    "Run ROC under the same condition as the ISF-leveraged ROC.  "
   ]
  },
  {
   "cell_type": "code",
   "execution_count": 23,
   "id": "b91aa562",
   "metadata": {},
   "outputs": [],
   "source": [
    "from aif360.algorithms.postprocessing.reject_option_classification import RejectOptionClassification\n",
    "        \n",
    "ROC = RejectOptionClassification(\n",
    "            privileged_groups=[{'race':1,'sex':1}],\n",
    "            unprivileged_groups=[{'race':0,'sex':0},{'race':0,'sex':1},{'race':1,'sex':0}],\n",
    "            low_class_thresh=0.01, \n",
    "            high_class_thresh=0.99,\n",
    "            num_class_thresh=100, \n",
    "            num_ROC_margin=50,\n",
    "            metric_name='Statistical parity difference',\n",
    "            metric_ub=0.2,\n",
    "            metric_lb=-0.2)"
   ]
  },
  {
   "cell_type": "code",
   "execution_count": 24,
   "id": "1ab6402a",
   "metadata": {},
   "outputs": [],
   "source": [
    "# training\n",
    "ROC.fit(ds_train, ds_train_classified)\n",
    "# predict\n",
    "ds_predicted_roc = ROC.predict(ds_test_classified)"
   ]
  },
  {
   "attachments": {},
   "cell_type": "markdown",
   "id": "d61f78e7",
   "metadata": {},
   "source": [
    "#### Check intersectional bias for ROC  "
   ]
  },
  {
   "cell_type": "code",
   "execution_count": 25,
   "id": "e12f9ac8",
   "metadata": {},
   "outputs": [
    {
     "data": {
      "text/html": [
       "<div>\n",
       "<style scoped>\n",
       "    .dataframe tbody tr th:only-of-type {\n",
       "        vertical-align: middle;\n",
       "    }\n",
       "\n",
       "    .dataframe tbody tr th {\n",
       "        vertical-align: top;\n",
       "    }\n",
       "\n",
       "    .dataframe thead th {\n",
       "        text-align: right;\n",
       "    }\n",
       "</style>\n",
       "<table border=\"1\" class=\"dataframe\">\n",
       "  <thead>\n",
       "    <tr style=\"text-align: right;\">\n",
       "      <th></th>\n",
       "      <th>LR Model</th>\n",
       "      <th>ROC</th>\n",
       "    </tr>\n",
       "  </thead>\n",
       "  <tbody>\n",
       "    <tr>\n",
       "      <th>race = 1.0,sex = 1.0</th>\n",
       "      <td>2.810223</td>\n",
       "      <td>1.753728</td>\n",
       "    </tr>\n",
       "    <tr>\n",
       "      <th>race = 1.0,sex = 0.0</th>\n",
       "      <td>0.352248</td>\n",
       "      <td>0.538010</td>\n",
       "    </tr>\n",
       "    <tr>\n",
       "      <th>race = 0.0,sex = 1.0</th>\n",
       "      <td>0.892224</td>\n",
       "      <td>1.264260</td>\n",
       "    </tr>\n",
       "    <tr>\n",
       "      <th>race = 0.0,sex = 0.0</th>\n",
       "      <td>0.190748</td>\n",
       "      <td>0.324319</td>\n",
       "    </tr>\n",
       "  </tbody>\n",
       "</table>\n",
       "</div>"
      ],
      "text/plain": [
       "                      LR Model       ROC\n",
       "race = 1.0,sex = 1.0  2.810223  1.753728\n",
       "race = 1.0,sex = 0.0  0.352248  0.538010\n",
       "race = 0.0,sex = 1.0  0.892224  1.264260\n",
       "race = 0.0,sex = 0.0  0.190748  0.324319"
      ]
     },
     "execution_count": 25,
     "metadata": {},
     "output_type": "execute_result"
    }
   ],
   "source": [
    "df_roc_di =calc_intersectionalbias(ds_predicted_roc, \"DisparateImpact\")\n",
    "df_roc_di = df_roc_di.rename(columns={\"DisparateImpact\": \"ROC\"})\n",
    "df_lr_di[\"ROC\"]=df_roc_di[\"ROC\"]\n",
    "df_lr_di"
   ]
  },
  {
   "attachments": {},
   "cell_type": "markdown",
   "id": "a55eca5b",
   "metadata": {},
   "source": [
    "* Since ROC does not support intersectional bias, DI values for groups are out of the fairness range though they tend to improve."
   ]
  },
  {
   "attachments": {},
   "cell_type": "markdown",
   "id": "1ee272aa",
   "metadata": {},
   "source": [
    "#### Compare DI values for `ROC` and `ISF (ROC is used)`\n",
    "Finally, compare DI values ordinal ROC and `ISF (ROC is used)` achieve.  "
   ]
  },
  {
   "cell_type": "code",
   "execution_count": 26,
   "id": "611ccd2b",
   "metadata": {},
   "outputs": [
    {
     "data": {
      "image/png": "[encoded data removed]",
      "text/plain": [
       "<Figure size 600x200 with 4 Axes>"
      ]
     },
     "metadata": {},
     "output_type": "display_data"
    }
   ],
   "source": [
    "plot_intersectionalbias_compare(ds_predicted_roc,\n",
    "                                ds_predicted,\n",
    "                                vmax=2, vmin=0, center=1,\n",
    "                                title={\"right\": \"RoC\", \"left\": \"ISF(used RoC)\"})"
   ]
  },
  {
   "attachments": {},
   "cell_type": "markdown",
   "id": "eb02bdcc",
   "metadata": {},
   "source": [
    "* Compared to `ROC` (the left-hand quadrant), `ISF (ROC is used)` (ROC-leveraged ISF; the right-hand quadrant) achieves a better bias mitigation.  \n",
    "* We have confirmed ISF helps ROC mitigate intersectional bias.  "
   ]
  },
  {
   "attachments": {},
   "cell_type": "markdown",
   "id": "90fe261e",
   "metadata": {},
   "source": [
    "#### Compare accuracies for `ROC` and `ISF (ROC is used)`"
   ]
  },
  {
   "cell_type": "code",
   "execution_count": 27,
   "id": "9bcf7d12",
   "metadata": {},
   "outputs": [],
   "source": [
    "from sklearn.metrics import accuracy_score, precision_score, recall_score, f1_score\n",
    "df_acc.loc['ROC']=(\n",
    "    accuracy_score(y_true=Y_test, y_pred=ds_predicted_roc.labels),\n",
    "    precision_score(y_true=Y_test, y_pred=ds_predicted_roc.labels),\n",
    "    recall_score(y_true=Y_test, y_pred=ds_predicted_roc.labels),\n",
    "    f1_score(y_true=Y_test, y_pred=ds_predicted_roc.labels)\n",
    ")"
   ]
  },
  {
   "cell_type": "code",
   "execution_count": 28,
   "id": "b4dc8958",
   "metadata": {},
   "outputs": [
    {
     "data": {
      "text/html": [
       "<div>\n",
       "<style scoped>\n",
       "    .dataframe tbody tr th:only-of-type {\n",
       "        vertical-align: middle;\n",
       "    }\n",
       "\n",
       "    .dataframe tbody tr th {\n",
       "        vertical-align: top;\n",
       "    }\n",
       "\n",
       "    .dataframe thead th {\n",
       "        text-align: right;\n",
       "    }\n",
       "</style>\n",
       "<table border=\"1\" class=\"dataframe\">\n",
       "  <thead>\n",
       "    <tr style=\"text-align: right;\">\n",
       "      <th></th>\n",
       "      <th>Accuracy</th>\n",
       "      <th>Precision</th>\n",
       "      <th>Recall</th>\n",
       "      <th>F1 score</th>\n",
       "    </tr>\n",
       "  </thead>\n",
       "  <tbody>\n",
       "    <tr>\n",
       "      <th>LR Model</th>\n",
       "      <td>0.848824</td>\n",
       "      <td>0.744169</td>\n",
       "      <td>0.607855</td>\n",
       "      <td>0.669140</td>\n",
       "    </tr>\n",
       "    <tr>\n",
       "      <th>ISF (ROC is used)</th>\n",
       "      <td>0.830692</td>\n",
       "      <td>0.693913</td>\n",
       "      <td>0.584701</td>\n",
       "      <td>0.634643</td>\n",
       "    </tr>\n",
       "    <tr>\n",
       "      <th>ROC</th>\n",
       "      <td>0.805852</td>\n",
       "      <td>0.578396</td>\n",
       "      <td>0.841149</td>\n",
       "      <td>0.685455</td>\n",
       "    </tr>\n",
       "  </tbody>\n",
       "</table>\n",
       "</div>"
      ],
      "text/plain": [
       "                   Accuracy  Precision    Recall  F1 score\n",
       "LR Model           0.848824   0.744169  0.607855  0.669140\n",
       "ISF (ROC is used)  0.830692   0.693913  0.584701  0.634643\n",
       "ROC                0.805852   0.578396  0.841149  0.685455"
      ]
     },
     "execution_count": 28,
     "metadata": {},
     "output_type": "execute_result"
    }
   ],
   "source": [
    "df_acc"
   ]
  },
  {
   "attachments": {},
   "cell_type": "markdown",
   "id": "ec347540",
   "metadata": {},
   "source": [
    "* Accuracies for `ISF (ROC is used)` and `ROC` are almost the same.  \n",
    "* This indicates extending RoC with ISF does not cause significant accuracy degradation.  "
   ]
  }
 ],
 "metadata": {
  "kernelspec": {
   "display_name": "Python 3 (ipykernel)",
   "language": "python",
   "name": "python3"
  },
  "language_info": {
   "codemirror_mode": {
    "name": "ipython",
    "version": 3
   },
   "file_extension": ".py",
   "mimetype": "text/x-python",
   "name": "python",
   "nbconvert_exporter": "python",
   "pygments_lexer": "ipython3",
   "version": "3.10.12"
  }
 },
 "nbformat": 4,
 "nbformat_minor": 5
}
