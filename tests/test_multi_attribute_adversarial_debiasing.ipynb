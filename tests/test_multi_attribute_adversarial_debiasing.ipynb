{
 "cells": [
  {
   "attachments": {},
   "cell_type": "markdown",
   "metadata": {},
   "source": [
    "## This notebook demonstrates the use of the adapted Adversarial Debiasing algorithm.\n",
    "\n",
    "The code has been updated to Tensorflow 2.X and can now be used to learn a fair classifier with respect to multiple sensitive attributes simultaneously.\n",
    "\n",
    "References:\n",
    "\n",
    "[Mitigating UnwantedBiases with Adversarial Learning](https://arxiv.org/pdf/1801.07593.pdf)  \n",
    "  \n",
    "B. H. Zhang, B. Lemoine, and M. Mitchell,    \n",
    "AAAI/ACM Conference on Artificial Intelligence, Ethics, and Society, 2018."
   ]
  },
  {
   "cell_type": "code",
   "execution_count": 1,
   "metadata": {},
   "outputs": [
    {
     "name": "stderr",
     "output_type": "stream",
     "text": [
      "WARNING:root:\n",
      "`load_boston` has been removed from scikit-learn since version 1.2.\n",
      "\n",
      "The Boston housing prices dataset has an ethical problem: as\n",
      "investigated in [1], the authors of this dataset engineered a\n",
      "non-invertible variable \"B\" assuming that racial self-segregation had a\n",
      "positive impact on house prices [2]. Furthermore the goal of the\n",
      "research that led to the creation of this dataset was to study the\n",
      "impact of air quality but it did not give adequate demonstration of the\n",
      "validity of this assumption.\n",
      "\n",
      "The scikit-learn maintainers therefore strongly discourage the use of\n",
      "this dataset unless the purpose of the code is to study and educate\n",
      "about ethical issues in data science and machine learning.\n",
      "\n",
      "In this special case, you can fetch the dataset from the original\n",
      "source::\n",
      "\n",
      "    import pandas as pd\n",
      "    import numpy as np\n",
      "\n",
      "    data_url = \"http://lib.stat.cmu.edu/datasets/boston\"\n",
      "    raw_df = pd.read_csv(data_url, sep=\"\\s+\", skiprows=22, header=None)\n",
      "    data = np.hstack([raw_df.values[::2, :], raw_df.values[1::2, :2]])\n",
      "    target = raw_df.values[1::2, 2]\n",
      "\n",
      "Alternative datasets include the California housing dataset and the\n",
      "Ames housing dataset. You can load the datasets as follows::\n",
      "\n",
      "    from sklearn.datasets import fetch_california_housing\n",
      "    housing = fetch_california_housing()\n",
      "\n",
      "for the California housing dataset and::\n",
      "\n",
      "    from sklearn.datasets import fetch_openml\n",
      "    housing = fetch_openml(name=\"house_prices\", as_frame=True)\n",
      "\n",
      "for the Ames housing dataset.\n",
      "\n",
      "[1] M Carlisle.\n",
      "\"Racist data destruction?\"\n",
      "<https://medium.com/@docintangible/racist-data-destruction-113e3eff54a8>\n",
      "\n",
      "[2] Harrison Jr, David, and Daniel L. Rubinfeld.\n",
      "\"Hedonic housing prices and the demand for clean air.\"\n",
      "Journal of environmental economics and management 5.1 (1978): 81-102.\n",
      "<https://www.researchgate.net/publication/4974606_Hedonic_housing_prices_and_the_demand_for_clean_air>\n",
      ": LawSchoolGPADataset will be unavailable. To install, run:\n",
      "pip install 'aif360[LawSchoolGPA]'\n",
      "WARNING:root:No module named 'fairlearn': ExponentiatedGradientReduction will be unavailable. To install, run:\n",
      "pip install 'aif360[Reductions]'\n",
      "WARNING:root:No module named 'fairlearn': GridSearchReduction will be unavailable. To install, run:\n",
      "pip install 'aif360[Reductions]'\n",
      "WARNING:root:No module named 'fairlearn': GridSearchReduction will be unavailable. To install, run:\n",
      "pip install 'aif360[Reductions]'\n"
     ]
    }
   ],
   "source": [
    "\n",
    "import sys\n",
    "sys.path.append(\"../\")\n",
    "\n",
    "from aif360.metrics import BinaryLabelDatasetMetric\n",
    "from aif360.metrics import ClassificationMetric\n",
    "\n",
    "from aif360.algorithms.preprocessing.optim_preproc_helpers.data_preproc_functions import load_preproc_data_adult, load_preproc_data_compas, load_preproc_data_german\n",
    "from sklearn.preprocessing import MinMaxScaler\n",
    "from IPython.display import Markdown, display\n",
    "from sklearn.metrics import roc_auc_score\n",
    "\n",
    "# import adapted AdversarialDebiasing code\n",
    "from aif360.algorithms.inprocessing.multi_attribute_adversarial_debiasing import *\n",
    "\n"
   ]
  },
  {
   "cell_type": "markdown",
   "metadata": {},
   "source": [
    "### Helper functions"
   ]
  },
  {
   "cell_type": "code",
   "execution_count": 2,
   "metadata": {},
   "outputs": [],
   "source": [
    "def accuracy(predicted_labels, true):\n",
    "    return tf.reduce_mean(tf.cast(tf.equal(predicted_labels, true), dtype=tf.float32))"
   ]
  },
  {
   "attachments": {},
   "cell_type": "markdown",
   "metadata": {},
   "source": [
    "### 1 . Load dataset"
   ]
  },
  {
   "cell_type": "code",
   "execution_count": 3,
   "metadata": {},
   "outputs": [],
   "source": [
    "# Get the dataset and split into train and test\n",
    "dataset_orig = load_preproc_data_compas()#load_preproc_data_adult()#\n",
    "\n",
    "privileged_groups = [{'sex': 1}, {'race': 1}]\n",
    "unprivileged_groups = [{'sex': 0}, {'race': 0}]\n",
    "\n",
    "dataset_orig_train, dataset_orig_test = dataset_orig.split([0.7], shuffle=True)"
   ]
  },
  {
   "cell_type": "code",
   "execution_count": 4,
   "metadata": {},
   "outputs": [
    {
     "data": {
      "text/markdown": [
       "#### Training Dataset shape"
      ],
      "text/plain": [
       "<IPython.core.display.Markdown object>"
      ]
     },
     "metadata": {},
     "output_type": "display_data"
    },
    {
     "name": "stdout",
     "output_type": "stream",
     "text": [
      "(3694, 10)\n"
     ]
    },
    {
     "data": {
      "text/markdown": [
       "#### Favorable and unfavorable labels"
      ],
      "text/plain": [
       "<IPython.core.display.Markdown object>"
      ]
     },
     "metadata": {},
     "output_type": "display_data"
    },
    {
     "name": "stdout",
     "output_type": "stream",
     "text": [
      "0.0 1.0\n"
     ]
    },
    {
     "data": {
      "text/markdown": [
       "#### Protected attribute names"
      ],
      "text/plain": [
       "<IPython.core.display.Markdown object>"
      ]
     },
     "metadata": {},
     "output_type": "display_data"
    },
    {
     "name": "stdout",
     "output_type": "stream",
     "text": [
      "['sex', 'race']\n"
     ]
    },
    {
     "data": {
      "text/markdown": [
       "#### Privileged and unprivileged protected attribute values"
      ],
      "text/plain": [
       "<IPython.core.display.Markdown object>"
      ]
     },
     "metadata": {},
     "output_type": "display_data"
    },
    {
     "name": "stdout",
     "output_type": "stream",
     "text": [
      "[array([1.]), array([1.])] [array([0.]), array([0.])]\n"
     ]
    },
    {
     "data": {
      "text/markdown": [
       "#### Dataset feature names"
      ],
      "text/plain": [
       "<IPython.core.display.Markdown object>"
      ]
     },
     "metadata": {},
     "output_type": "display_data"
    },
    {
     "name": "stdout",
     "output_type": "stream",
     "text": [
      "['sex', 'race', 'age_cat=25 to 45', 'age_cat=Greater than 45', 'age_cat=Less than 25', 'priors_count=0', 'priors_count=1 to 3', 'priors_count=More than 3', 'c_charge_degree=F', 'c_charge_degree=M']\n"
     ]
    }
   ],
   "source": [
    "# print out some labels, names, etc.\n",
    "display(Markdown(\"#### Training Dataset shape\"))\n",
    "print(dataset_orig_train.features.shape)\n",
    "display(Markdown(\"#### Favorable and unfavorable labels\"))\n",
    "print(dataset_orig_train.favorable_label, dataset_orig_train.unfavorable_label)\n",
    "display(Markdown(\"#### Protected attribute names\"))\n",
    "print(dataset_orig_train.protected_attribute_names)\n",
    "display(Markdown(\"#### Privileged and unprivileged protected attribute values\"))\n",
    "print(dataset_orig_train.privileged_protected_attributes, \n",
    "      dataset_orig_train.unprivileged_protected_attributes)\n",
    "display(Markdown(\"#### Dataset feature names\"))\n",
    "print(dataset_orig_train.feature_names)"
   ]
  },
  {
   "attachments": {},
   "cell_type": "markdown",
   "metadata": {},
   "source": [
    "#### Evaluate metric for original training data\n",
    "\n",
    "Race and sex are the two sensitive attributes"
   ]
  },
  {
   "cell_type": "code",
   "execution_count": 5,
   "metadata": {},
   "outputs": [
    {
     "name": "stdout",
     "output_type": "stream",
     "text": [
      "Sensitive attribute :  sex \n",
      "\n",
      "Train set: Difference in mean outcomes between unprivileged and privileged groups = -0.145715\n",
      "Test set: Difference in mean outcomes between unprivileged and privileged groups = -0.110397\n",
      "\n",
      "\n",
      "\n",
      "Sensitive attribute :  race \n",
      "\n",
      "Train set: Difference in mean outcomes between unprivileged and privileged groups = -0.124145\n",
      "Test set: Difference in mean outcomes between unprivileged and privileged groups = -0.150505\n",
      "\n",
      "\n",
      "\n"
     ]
    }
   ],
   "source": [
    "for unprivileged_group, privileged_group in zip (unprivileged_groups, privileged_groups):\n",
    "    print('Sensitive attribute : ', list(unprivileged_group.keys())[0], '\\n')\n",
    "\n",
    "\n",
    "    # Metric for the original dataset\n",
    "    metric_orig_train = BinaryLabelDatasetMetric(dataset_orig_train, \n",
    "                                                unprivileged_groups=[unprivileged_group],\n",
    "                                                privileged_groups=[privileged_group])\n",
    "    \n",
    "    print(\"Train set: Difference in mean outcomes between unprivileged and privileged groups = %f\" % metric_orig_train.mean_difference())\n",
    "    metric_orig_test = BinaryLabelDatasetMetric(dataset_orig_test, \n",
    "                                                unprivileged_groups=[unprivileged_group],\n",
    "                                                privileged_groups=[privileged_group])\n",
    "    print(\"Test set: Difference in mean outcomes between unprivileged and privileged groups = %f\" % metric_orig_test.mean_difference())\n",
    "    print('\\n'*2)"
   ]
  },
  {
   "cell_type": "markdown",
   "metadata": {},
   "source": [
    "#### Scale features"
   ]
  },
  {
   "cell_type": "code",
   "execution_count": 6,
   "metadata": {},
   "outputs": [],
   "source": [
    "min_max_scaler = MinMaxScaler()#MaxAbsScaler()\n",
    "dataset_orig_train.features = min_max_scaler.fit_transform(dataset_orig_train.features)\n",
    "dataset_orig_test.features = min_max_scaler.transform(dataset_orig_test.features)\n",
    "\n"
   ]
  },
  {
   "attachments": {},
   "cell_type": "markdown",
   "metadata": {},
   "source": [
    "### 2 . Debias multiple sensitive attributes \n",
    "\n",
    "3 performance metrics and 2 Fairness metrics to evaluate the implementation. \n",
    "> <b> Performance metrics:  </b>  \n",
    "> - Accuracy  \n",
    "> - Balanced Accuracy  \n",
    "> - AUC score  \n",
    "\n",
    "> <b> Fairness metrics:  </b>   \n",
    "> - Equal opportunity difference  \n",
    "> - Average odds Difference  \n",
    "\n",
    "##### NOTE:\n",
    "Current implementation supports an adversary that tries to enforce equality of Odds  \n",
    "since it gets both yHat and y during training (see [Mitigating UnwantedBiases with Adversarial Learning](https://arxiv.org/pdf/1801.07593.pdf)  )"
   ]
  },
  {
   "cell_type": "code",
   "execution_count": 7,
   "metadata": {},
   "outputs": [
    {
     "data": {
      "text/plain": [
       "['sex', 'race']"
      ]
     },
     "execution_count": 7,
     "metadata": {},
     "output_type": "execute_result"
    }
   ],
   "source": [
    "# Example dataset\n",
    "features = dataset_orig_train.features\n",
    "labels = dataset_orig_train.labels\n",
    "protected_attributes = dataset_orig_train.protected_attributes\n",
    "\n",
    "dataset_orig_train.protected_attribute_names"
   ]
  },
  {
   "cell_type": "markdown",
   "metadata": {},
   "source": [
    "#### Training the model\n",
    "\n",
    "The model consists of a classifier and an adversary network. At each training iteration, the classifier learns to predict a target label, and the adversary takes the classifier's predictions as well as  \n",
    "the true target label, and learns to predict multiple sensitive attribute values (e.g. race , sex) for that instance. Each model can be pretrained for several epochs before initiating adversarial learning.  \n",
    "The adversary can be provided with weights for each sensitive attribute, which is used in the loss computation."
   ]
  },
  {
   "cell_type": "code",
   "execution_count": 8,
   "metadata": {},
   "outputs": [],
   "source": [
    "# Define training parameters\n",
    "nb_pretrain = 10\n",
    "batch_size = 64\n",
    "total_epochs = 30\n",
    "\n",
    "# weights for 'sex', 'race'\n",
    "loss_weights  = [2, 5]"
   ]
  },
  {
   "cell_type": "code",
   "execution_count": 9,
   "metadata": {},
   "outputs": [
    {
     "name": "stdout",
     "output_type": "stream",
     "text": [
      "Pretraining Classifier - Epoch 1, Loss: 0.5617496371269226\n",
      "Pretraining Classifier - Epoch 2, Loss: 0.580805242061615\n",
      "Pretraining Classifier - Epoch 3, Loss: 0.4793783128261566\n",
      "Pretraining Classifier - Epoch 4, Loss: 0.678173840045929\n",
      "Pretraining Classifier - Epoch 5, Loss: 0.5328207612037659\n",
      "Pretraining Classifier - Epoch 6, Loss: 0.6344634890556335\n",
      "Pretraining Classifier - Epoch 7, Loss: 0.6084538698196411\n",
      "Pretraining Classifier - Epoch 8, Loss: 0.6228413581848145\n",
      "Pretraining Classifier - Epoch 9, Loss: 0.7122882604598999\n",
      "Pretraining Classifier - Epoch 10, Loss: 0.6979706883430481\n"
     ]
    }
   ],
   "source": [
    "# Create a trainer\n",
    "trainer = AdversarialDebiasor(loss_weights = loss_weights)\n",
    "\n",
    "# Pretrain the classifier model\n",
    "trainer.pretrain_classifier(features, labels, num_epochs=nb_pretrain, batch_size=batch_size)"
   ]
  },
  {
   "cell_type": "markdown",
   "metadata": {},
   "source": [
    "#### Evaluate test set classification metrics after pre-training classifier"
   ]
  },
  {
   "cell_type": "code",
   "execution_count": 10,
   "metadata": {},
   "outputs": [
    {
     "name": "stdout",
     "output_type": "stream",
     "text": [
      "Sensitive attribute :  sex\n",
      "\tEqual opportunity diff. : -0.17892124274254317\n",
      "\tAv. Odds diff.          : -0.19098858600705865 \n",
      "\n",
      "\n",
      "Sensitive attribute :  race\n",
      "\tEqual opportunity diff. : -0.16992823821017644\n",
      "\tAv. Odds diff.          : -0.19637782460051162 \n",
      "\n",
      "\n",
      "\n",
      "Accuracy        :  0.6698232\n",
      "Balanced accuracy :  0.6628088539332341\n",
      "AUC score         :  0.7119668499589561\n"
     ]
    }
   ],
   "source": [
    "# Evaluate metrics\n",
    "\n",
    "metrics = trainer.get_classification_metrics(dataset_orig_test)\n",
    "\n",
    "for key, classified_metric_debiasing_test in metrics.items():\n",
    "    print('Sensitive attribute : ', key)\n",
    "\n",
    "    eod = classified_metric_debiasing_test.equal_opportunity_difference()\n",
    "    aod = classified_metric_debiasing_test.average_odds_difference()\n",
    "    ti = classified_metric_debiasing_test.theil_index()\n",
    "    print('\\tEqual opportunity diff. :', eod)\n",
    "    print('\\tAv. Odds diff.          :', aod, '\\n'*2)\n",
    "\n",
    "\n",
    "predicted_labels = trainer.predict(dataset_orig_test.features)\n",
    "true_labels = dataset_orig_test.labels\n",
    "\n",
    "TPR = classified_metric_debiasing_test.true_positive_rate()\n",
    "TNR = classified_metric_debiasing_test.true_negative_rate()\n",
    "bal_acc_debiasing_test = 0.5*(TPR+TNR)\n",
    "\n",
    "# Should not change since only trained adversary\n",
    "print('\\nAccuracy        : ', accuracy(predicted_labels, true_labels).numpy())\n",
    "print('Balanced accuracy : ', bal_acc_debiasing_test)\n",
    "print('AUC score         : ', roc_auc_score(true_labels, trainer.predict_proba(dataset_orig_test.features)))\n"
   ]
  },
  {
   "cell_type": "markdown",
   "metadata": {},
   "source": [
    "#### Pretrain the adversary on trained classifier's outputs"
   ]
  },
  {
   "cell_type": "code",
   "execution_count": 11,
   "metadata": {},
   "outputs": [
    {
     "name": "stdout",
     "output_type": "stream",
     "text": [
      "Pretraining Adversary - Epoch 1, Loss: 4.3419976234436035\n",
      "Pretraining Adversary - Epoch 2, Loss: 4.461413860321045\n",
      "Pretraining Adversary - Epoch 3, Loss: 3.6164493560791016\n",
      "Pretraining Adversary - Epoch 4, Loss: 3.9975764751434326\n",
      "Pretraining Adversary - Epoch 5, Loss: 4.231841564178467\n",
      "Pretraining Adversary - Epoch 6, Loss: 4.229047775268555\n",
      "Pretraining Adversary - Epoch 7, Loss: 4.229559898376465\n",
      "Pretraining Adversary - Epoch 8, Loss: 3.557116985321045\n",
      "Pretraining Adversary - Epoch 9, Loss: 3.9155983924865723\n",
      "Pretraining Adversary - Epoch 10, Loss: 4.104127407073975\n"
     ]
    }
   ],
   "source": [
    "\n",
    "trainer.pretrain_adversary(features, labels, protected_attributes, num_epochs=nb_pretrain, batch_size=batch_size)"
   ]
  },
  {
   "cell_type": "markdown",
   "metadata": {},
   "source": [
    "#### Train both models together"
   ]
  },
  {
   "cell_type": "code",
   "execution_count": 12,
   "metadata": {},
   "outputs": [
    {
     "name": "stdout",
     "output_type": "stream",
     "text": [
      "Epoch 1, Classifier Loss: 0.8423972725868225, Adversary Loss: 4.835089683532715\n",
      "Epoch 2, Classifier Loss: 0.6623071432113647, Adversary Loss: 4.309110164642334\n",
      "Epoch 3, Classifier Loss: 0.6061225533485413, Adversary Loss: 4.62917947769165\n",
      "Epoch 4, Classifier Loss: 0.6198225021362305, Adversary Loss: 4.2129011154174805\n",
      "Epoch 5, Classifier Loss: 0.6699872612953186, Adversary Loss: 4.358780384063721\n",
      "Epoch 6, Classifier Loss: 0.6425760388374329, Adversary Loss: 4.116568088531494\n",
      "Epoch 7, Classifier Loss: 0.6795406341552734, Adversary Loss: 4.254986763000488\n",
      "Epoch 8, Classifier Loss: 0.5854942202568054, Adversary Loss: 4.848777770996094\n",
      "Epoch 9, Classifier Loss: 0.6947882771492004, Adversary Loss: 3.9966928958892822\n",
      "Epoch 10, Classifier Loss: 0.6036416888237, Adversary Loss: 4.462040424346924\n",
      "Epoch 11, Classifier Loss: 0.7507474422454834, Adversary Loss: 4.224804401397705\n",
      "Epoch 12, Classifier Loss: 0.6910780668258667, Adversary Loss: 3.8794002532958984\n",
      "Epoch 13, Classifier Loss: 0.6535875201225281, Adversary Loss: 4.4864702224731445\n",
      "Epoch 14, Classifier Loss: 0.5961070656776428, Adversary Loss: 4.217398166656494\n",
      "Epoch 15, Classifier Loss: 0.5780908465385437, Adversary Loss: 4.359768867492676\n",
      "Epoch 16, Classifier Loss: 0.5596532821655273, Adversary Loss: 4.847885608673096\n",
      "Epoch 17, Classifier Loss: 0.6152219772338867, Adversary Loss: 4.224133491516113\n",
      "Epoch 18, Classifier Loss: 0.638500988483429, Adversary Loss: 4.238619327545166\n",
      "Epoch 19, Classifier Loss: 0.6495020389556885, Adversary Loss: 4.261970520019531\n",
      "Epoch 20, Classifier Loss: 0.5578068494796753, Adversary Loss: 4.707487106323242\n",
      "Epoch 21, Classifier Loss: 0.6611645221710205, Adversary Loss: 4.185849189758301\n",
      "Epoch 22, Classifier Loss: 0.7102862596511841, Adversary Loss: 4.606118202209473\n",
      "Epoch 23, Classifier Loss: 0.5463271141052246, Adversary Loss: 4.394354820251465\n",
      "Epoch 24, Classifier Loss: 0.585125744342804, Adversary Loss: 4.568543910980225\n",
      "Epoch 25, Classifier Loss: 0.6540569067001343, Adversary Loss: 4.4746856689453125\n",
      "Epoch 26, Classifier Loss: 0.6260369420051575, Adversary Loss: 3.9166414737701416\n",
      "Epoch 27, Classifier Loss: 0.6289853453636169, Adversary Loss: 4.099897384643555\n",
      "Epoch 28, Classifier Loss: 0.5792409181594849, Adversary Loss: 4.350027561187744\n",
      "Epoch 29, Classifier Loss: 0.6524143218994141, Adversary Loss: 4.682830810546875\n",
      "Epoch 30, Classifier Loss: 0.6423780918121338, Adversary Loss: 4.55228853225708\n"
     ]
    }
   ],
   "source": [
    "# Train both models together\n",
    "trainer.train(features, labels, protected_attributes, num_epochs=total_epochs, batch_size=batch_size)\n",
    "\n",
    "predicted_labels = trainer.predict(dataset_orig_test.features)"
   ]
  },
  {
   "cell_type": "markdown",
   "metadata": {},
   "source": [
    "#### Evaluate test set classification metrics after debuiasing"
   ]
  },
  {
   "cell_type": "code",
   "execution_count": 13,
   "metadata": {},
   "outputs": [
    {
     "name": "stdout",
     "output_type": "stream",
     "text": [
      "Sensitive attribute :  sex \n",
      "\n",
      "\tEqual opportunity diff. : -0.07636395869343615\n",
      "\tAv. Odds diff.          : -0.09411125092080996 \n",
      "\n",
      "\n",
      "Sensitive attribute :  race \n",
      "\n",
      "\tEqual opportunity diff. : -0.048100964400523805\n",
      "\tAv. Odds diff.          : -0.05645660060070737 \n",
      "\n",
      "\n",
      "Accuracy          :  0.6584596\n",
      "Balanced accuracy :  0.6489197642421001\n",
      "AUC score         :  0.6949420324078759\n"
     ]
    }
   ],
   "source": [
    "metrics = trainer.get_classification_metrics(dataset_orig_test)\n",
    "\n",
    "for key, classified_metric_debiasing_test in metrics.items():\n",
    "    print('Sensitive attribute : ', key, '\\n')\n",
    "\n",
    "    TPR = classified_metric_debiasing_test.true_positive_rate()\n",
    "    TNR = classified_metric_debiasing_test.true_negative_rate()\n",
    "    bal_acc_debiasing_test = 0.5*(TPR+TNR)\n",
    "    eod = classified_metric_debiasing_test.equal_opportunity_difference()\n",
    "    aod = classified_metric_debiasing_test.average_odds_difference()\n",
    "    ti = classified_metric_debiasing_test.theil_index()\n",
    "    print('\\tEqual opportunity diff. :', eod)\n",
    "    print('\\tAv. Odds diff.          :', aod, '\\n'*2)\n",
    "TPR = classified_metric_debiasing_test.true_positive_rate()\n",
    "TNR = classified_metric_debiasing_test.true_negative_rate()\n",
    "bal_acc_debiasing_test = 0.5*(TPR+TNR)\n",
    "\n",
    "\n",
    "\n",
    "print('Accuracy          : ', accuracy(predicted_labels, true_labels).numpy())\n",
    "print('Balanced accuracy : ', bal_acc_debiasing_test)\n",
    "print('AUC score         : ', roc_auc_score(true_labels, trainer.predict_proba(dataset_orig_test.features)))\n"
   ]
  },
  {
   "cell_type": "code",
   "execution_count": 14,
   "metadata": {},
   "outputs": [
    {
     "name": "stdout",
     "output_type": "stream",
     "text": [
      "Sensitive attribute :  sex\n",
      "Test set: Difference in mean outcomes between unprivileged and privileged groups = -0.122378\n",
      "\n",
      "\n",
      "Sensitive attribute :  race\n",
      "Test set: Difference in mean outcomes between unprivileged and privileged groups = -0.098823\n",
      "\n",
      "\n"
     ]
    }
   ],
   "source": [
    "dmetrics = trainer.get_dataset_metrics(dataset_orig_test)\n",
    "\n",
    "for key, classified_metric_debiasing_test in metrics.items():\n",
    "    print('Sensitive attribute : ', key)\n",
    "    print(\"Test set: Difference in mean outcomes between unprivileged and privileged groups = %f\" % classified_metric_debiasing_test.mean_difference())\n",
    "    print('\\n')"
   ]
  },
  {
   "cell_type": "code",
   "execution_count": null,
   "metadata": {},
   "outputs": [],
   "source": []
  }
 ],
 "metadata": {
  "kernelspec": {
   "display_name": "design",
   "language": "python",
   "name": "python3"
  },
  "language_info": {
   "codemirror_mode": {
    "name": "ipython",
    "version": 3
   },
   "file_extension": ".py",
   "mimetype": "text/x-python",
   "name": "python",
   "nbconvert_exporter": "python",
   "pygments_lexer": "ipython3",
   "version": "3.8.17"
  }
 },
 "nbformat": 4,
 "nbformat_minor": 2
}
